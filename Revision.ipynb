{
  "nbformat": 4,
  "nbformat_minor": 0,
  "metadata": {
    "colab": {
      "name": "Revision.ipynb",
      "provenance": [],
      "authorship_tag": "ABX9TyPUuk+27VneFxH35npMNvSP",
      "include_colab_link": true
    },
    "kernelspec": {
      "name": "python3",
      "display_name": "Python 3"
    },
    "language_info": {
      "name": "python"
    }
  },
  "cells": [
    {
      "cell_type": "markdown",
      "metadata": {
        "id": "view-in-github",
        "colab_type": "text"
      },
      "source": [
        "<a href=\"https://colab.research.google.com/github/steve-keys/ISYS5002_portfolio/blob/main/Revision.ipynb\" target=\"_parent\"><img src=\"https://colab.research.google.com/assets/colab-badge.svg\" alt=\"Open In Colab\"/></a>"
      ]
    },
    {
      "cell_type": "markdown",
      "metadata": {
        "id": "6ODAzysE-G0V"
      },
      "source": [
        "# Exception\n",
        "\n",
        "  * try\n",
        "  * except\n",
        "  * finaly"
      ]
    },
    {
      "cell_type": "code",
      "metadata": {
        "id": "lj6xOweP9yzB"
      },
      "source": [
        "num1 = input(\"Please input a number \")\n",
        "num2 = input (\"Please input another number \")\n",
        "print(\"Num1 divided by Num2 is \")"
      ],
      "execution_count": null,
      "outputs": []
    },
    {
      "cell_type": "markdown",
      "metadata": {
        "id": "oo4qqqXGC5Eg"
      },
      "source": [
        "# Web Scraping Tables\n",
        "\n",
        "* 0. Install any packages needed\n",
        "* 1. Import libraries\n",
        "* 2. Setupthe URL\n",
        "* 3. Get the webpage\n",
        "* 4. Extract to HTML\n",
        "\n",
        "## Import Libraries\n",
        "* urllib, ur"
      ]
    },
    {
      "cell_type": "code",
      "metadata": {
        "id": "ds5wvEWdD-nl"
      },
      "source": [
        "url = ('https://www.abs.gov.au/statistics/economy/key-indicators')"
      ],
      "execution_count": null,
      "outputs": []
    }
  ]
}