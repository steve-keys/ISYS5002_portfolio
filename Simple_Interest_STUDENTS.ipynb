{
  "nbformat": 4,
  "nbformat_minor": 5,
  "metadata": {
    "kernelspec": {
      "display_name": "Python 3 (ipykernel)",
      "language": "python",
      "name": "python3"
    },
    "language_info": {
      "codemirror_mode": {
        "name": "ipython",
        "version": 3
      },
      "file_extension": ".py",
      "mimetype": "text/x-python",
      "name": "python",
      "nbconvert_exporter": "python",
      "pygments_lexer": "ipython3",
      "version": "3.9.6"
    },
    "colab": {
      "name": "Simple_Interest_STUDENTS.ipynb",
      "provenance": [],
      "collapsed_sections": [],
      "include_colab_link": true
    }
  },
  "cells": [
    {
      "cell_type": "markdown",
      "metadata": {
        "id": "view-in-github",
        "colab_type": "text"
      },
      "source": [
        "<a href=\"https://colab.research.google.com/github/steve-keys/ISYS5002_portfolio/blob/main/Simple_Interest_STUDENTS.ipynb\" target=\"_parent\"><img src=\"https://colab.research.google.com/assets/colab-badge.svg\" alt=\"Open In Colab\"/></a>"
      ]
    },
    {
      "cell_type": "markdown",
      "metadata": {
        "id": "b7a42e71-7361-4878-a06f-0fc857db581f"
      },
      "source": [
        "# Simple Interest Calculator\n",
        "\n",
        "The process of problem solving we will use can be broken down into 5 key steps:\n",
        "1. State the problem clearly\n",
        "2. Describe the input and output information\n",
        "3. Work the problem by hand\n",
        "4. Develop an algorithm (and convert to python) \n",
        "5. Test solution with a variety of data\n",
        "\n",
        "\n",
        "### 1. State Problem Clearly\n",
        "\n",
        "Simple interest in a bank is given by the formula:\n",
        "\n",
        "    Simple Interest = (Ammount Borrowed  x  Interest Rate * years) / 100\n",
        "    \n",
        "\n",
        "### 2. Describe Inputs/Outputs\n",
        "\n",
        "\n",
        "| input | processing | output|\n",
        "|-------|------------|-------|\n",
        "| Amount Borowed |    | Simple Interest |\n",
        "| Interest Rate | | |\n",
        "| Loan Period | | | \n",
        "\n",
        "### 3. Work the problme by hand\n",
        "\n",
        "Borrowed $10,000\n",
        "Interest Rate of 2%\n",
        "Lenghtof loan is 5 years\n",
        "\n",
        "\n",
        "Simple interest \n",
        "=  (10,000 * 2 * 5) / 100\n",
        "= 1,000\n",
        "\n",
        "### 4. Develop and algorithm\n",
        "\n",
        "Here is the pseudocode\n",
        "\n",
        "        Get the amount borrowed\n",
        "        Get the interest rate\n",
        "        Get the loan period\n",
        "        let simple interest = (ammount borrowed * interest rate * loan period) / 100\n",
        "        print The total interest on the loan is: simple interest\n"
      ],
      "id": "b7a42e71-7361-4878-a06f-0fc857db581f"
    },
    {
      "cell_type": "code",
      "metadata": {
        "colab": {
          "base_uri": "https://localhost:8080/"
        },
        "id": "f9a6e70b-c83a-4513-90d7-3cbcfbf9cde7",
        "outputId": "9ad22a6c-3c94-4ea8-ccb0-e02b8cb04f22"
      },
      "source": [
        "# Get the amount borrowed\n",
        "amount_borrowed = int (input (\"Please enter the amount borrowed:\"))\n",
        "                             \n",
        "# Get the interest rate\n",
        "interest_rate = float (input (\"Please enter the interest rate:\"))\n",
        "\n",
        "# Get the loan period\n",
        "loan_period = int (input (\"Please enter the loan period\"))\n",
        "                        \n",
        "# let simple interest = (ammount borrowed * interest rate * loan period)\n",
        "simple_interest = (amount_borrowed * interest_rate * loan_period)\n",
        "\n",
        "# print The total interest on the loan is: simple interest\n",
        "print (simple_interest)\n",
        "\n"
      ],
      "id": "f9a6e70b-c83a-4513-90d7-3cbcfbf9cde7",
      "execution_count": null,
      "outputs": [
        {
          "output_type": "stream",
          "text": [
            "Please enter the amount borrowed:10000\n",
            "Please enter the interest rate:0.02\n",
            "Please enter the loan period5\n",
            "1000.0\n"
          ],
          "name": "stdout"
        }
      ]
    },
    {
      "cell_type": "code",
      "metadata": {
        "colab": {
          "base_uri": "https://localhost:8080/"
        },
        "id": "XR2XoN0mC3eg",
        "outputId": "5b234a8c-74c1-414f-970b-90d5de52a94c"
      },
      "source": [
        "# Get the amount borrowed\n",
        "amount_borrowed = int (input (\"Please enter the amount borrowed:\"))\n",
        "                             \n",
        "# Get the interest rate\n",
        "interest_rate = float (input (\"Please enter the interest rate:\"))\n",
        "\n",
        "# Get the loan period\n",
        "loan_period = int (input (\"Please enter the loan period:\"))\n",
        "                        \n",
        "# let simple interest = (ammount borrowed * interest rate * loan period)\n",
        "simple_interest = (amount_borrowed * interest_rate * loan_period)\n",
        "\n",
        "# print The total interest on the loan is: simple interest\n",
        "print (\"The total interest on the load is:\") \n",
        "print (simple_interest)"
      ],
      "id": "XR2XoN0mC3eg",
      "execution_count": null,
      "outputs": [
        {
          "output_type": "stream",
          "text": [
            "Please enter the amount borrowed:10000\n",
            "Please enter the interest rate:0.02\n",
            "Please enter the loan period:5\n",
            "The total interest on the load is:\n",
            "1000.0\n"
          ],
          "name": "stdout"
        }
      ]
    },
    {
      "cell_type": "markdown",
      "metadata": {
        "id": "26e44634-3041-4ffb-acd9-fa11eb36f2df"
      },
      "source": [
        "### 5. Test with a variety of data.\n",
        "\n",
        "Rather than type in different values each time, perhaps it easier to be prompted for the infromation."
      ],
      "id": "26e44634-3041-4ffb-acd9-fa11eb36f2df"
    },
    {
      "cell_type": "code",
      "metadata": {
        "id": "4299ad3d-5672-42fa-bf17-fbf7360e66c5",
        "colab": {
          "base_uri": "https://localhost:8080/"
        },
        "outputId": "31b9c65e-7ae3-43de-957d-cc9a5f2b2615"
      },
      "source": [
        "amount_borrowed = int (input (\"Please enter the amount borrowed:\"))\n",
        "interest_rate = float (input (\"Please enter the interest rate:\"))\n",
        "loan_period = int (input (\"Please enter the loan period:\"))\n",
        "simple_interest = (amount_borrowed * interest_rate * loan_period)\n",
        "print (\"The total interest on the load is:\") \n",
        "print (simple_interest)"
      ],
      "id": "4299ad3d-5672-42fa-bf17-fbf7360e66c5",
      "execution_count": null,
      "outputs": [
        {
          "output_type": "stream",
          "text": [
            "Please enter the amount borrowed:20000\n",
            "Please enter the interest rate:.05\n",
            "Please enter the loan period:5\n",
            "The total interest on the load is:\n",
            "5000.0\n"
          ],
          "name": "stdout"
        }
      ]
    },
    {
      "cell_type": "code",
      "metadata": {
        "colab": {
          "base_uri": "https://localhost:8080/"
        },
        "id": "XGtZtAzYJOST",
        "outputId": "5f58f872-f42e-4d1f-d337-fe2fa1362b21"
      },
      "source": [
        "amount_borrowed = int (input (\"Please enter the amount borrowed:\"))\n",
        "interest_rate = float (input (\"Please enter the interest rate as a decimal number:\"))\n",
        "loan_period = int (input (\"Please enter the loan period:\"))\n",
        "simple_interest = (amount_borrowed * interest_rate * loan_period)\n",
        "print (\"The total interest on the load is:\") \n",
        "print (simple_interest)"
      ],
      "id": "XGtZtAzYJOST",
      "execution_count": null,
      "outputs": [
        {
          "output_type": "stream",
          "text": [
            "Please enter the amount borrowed:60000\n",
            "Please enter the interest rate as a decimal number:0.065\n",
            "Please enter the loan period:12\n",
            "The total interest on the load is:\n",
            "46800.0\n"
          ],
          "name": "stdout"
        }
      ]
    },
    {
      "cell_type": "code",
      "metadata": {
        "id": "d6ed57b1-3da8-4768-8864-a2fd2a5e18f0",
        "colab": {
          "base_uri": "https://localhost:8080/"
        },
        "outputId": "22193ef6-5eff-4d65-ef03-9b9811eb9d3a"
      },
      "source": [
        "amount_borrowed = int (input (\"Please enter the amount borrowed:\"))\n",
        "interest_rate = float (input (\"Please enter the interest rate as a decimal number:\"))\n",
        "loan_period = int (input (\"Please enter the loan period:\"))\n",
        "simple_interest = (amount_borrowed * interest_rate * loan_period)\n",
        "print (\"The total interest on the load is:\") \n",
        "print (simple_interest)"
      ],
      "id": "d6ed57b1-3da8-4768-8864-a2fd2a5e18f0",
      "execution_count": null,
      "outputs": [
        {
          "output_type": "stream",
          "text": [
            "Please enter the amount borrowed:50000\n",
            "Please enter the interest rate as a decimal number:0.06\n",
            "Please enter the loan period:10\n",
            "The total interest on the load is:\n",
            "30000.0\n"
          ],
          "name": "stdout"
        }
      ]
    }
  ]
}