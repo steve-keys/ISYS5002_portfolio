{
  "nbformat": 4,
  "nbformat_minor": 0,
  "metadata": {
    "colab": {
      "name": "Sale_Price_(2) (1).ipynb",
      "provenance": [],
      "collapsed_sections": [],
      "include_colab_link": true
    },
    "kernelspec": {
      "name": "python3",
      "display_name": "Python 3"
    },
    "language_info": {
      "name": "python"
    }
  },
  "cells": [
    {
      "cell_type": "markdown",
      "metadata": {
        "id": "view-in-github",
        "colab_type": "text"
      },
      "source": [
        "<a href=\"https://colab.research.google.com/github/steve-keys/ISYS5002_portfolio/blob/main/Sale_Price_(2)_(1).ipynb\" target=\"_parent\"><img src=\"https://colab.research.google.com/assets/colab-badge.svg\" alt=\"Open In Colab\"/></a>"
      ]
    },
    {
      "cell_type": "markdown",
      "metadata": {
        "id": "cgTeiXOtSPjH"
      },
      "source": [
        "A local department store needs to develop a program which when given an **items** **original price** and **percentage** it has been discounted, will compute the **total price **(including goods and services **tax**) of the item on sale."
      ]
    },
    {
      "cell_type": "code",
      "metadata": {
        "id": "pPIN2ZcrSqdw"
      },
      "source": [
        ""
      ],
      "execution_count": null,
      "outputs": []
    },
    {
      "cell_type": "markdown",
      "metadata": {
        "id": "8ojz_mu8nq3o"
      },
      "source": [
        "# What are the results I want to obtain?\n",
        "# What are the inputs I will need?\n",
        "# What operation do I need to perform on the data to get the results?\n",
        "\n",
        "Input > Processing > Output\n",
        "\n",
        "Item name - create item_name\n",
        "\n",
        "Original price - create original_price\n",
        "\n",
        "GST - create GST\n",
        "\n",
        "Discounted price - create sale_price\n",
        "\n",
        "Total price - create total_price\n",
        "\n",
        "### INPUT\n",
        "# item_name\n",
        "# gst (?)\n",
        "# original_price\n",
        "# discount_rate (assume in percentages, will need to divide by 100)\n",
        "\n",
        "### OUTPUT\n",
        "# item_name\n",
        "# sale_price\n",
        "\n",
        "### CALCULATIONS\n",
        "# Calculate \"sale_price\"\n",
        "# Calculate \"tax\"\n",
        "# What is the discount? Amount saved?\n",
        "# Calculate \"total_price\"\n",
        "\n",
        "### WORKED EXAMPLES\n",
        "Assume I have a book, original price is $50. I need to discount it by 20%\n",
        "\n",
        "Amount saved\n",
        "\n",
        "$50 x 20% = 50 x 20/100\n",
        "\n"
      ]
    },
    {
      "cell_type": "code",
      "metadata": {
        "colab": {
          "base_uri": "https://localhost:8080/"
        },
        "id": "8gMsxUA8wjAN",
        "outputId": "2919edbc-bd22-4a7d-80ee-f3394517b643"
      },
      "source": [
        "50 * 20/100"
      ],
      "execution_count": null,
      "outputs": [
        {
          "output_type": "execute_result",
          "data": {
            "text/plain": [
              "10.0"
            ]
          },
          "metadata": {},
          "execution_count": 2
        }
      ]
    },
    {
      "cell_type": "markdown",
      "metadata": {
        "id": "zcQjxws-w_UJ"
      },
      "source": [
        "sale price = $50 - $10 = $40\n",
        "\n",
        "sale_price = original_price - amount_saved\n",
        "\n",
        "Where\n",
        "\n",
        "amount_saved = original_price * (discount_rate / 100)\n",
        "\n",
        "\n"
      ]
    },
    {
      "cell_type": "code",
      "metadata": {
        "colab": {
          "base_uri": "https://localhost:8080/"
        },
        "id": "xabXQHczy7Yv",
        "outputId": "c080e121-464b-4413-8475-ae910944164d"
      },
      "source": [
        "original_price = 50\n",
        "discount_rate = 20\n",
        "\n",
        "amount_saved = original_price * (discount_rate / 100)\n",
        "sale_price = original_price - amount_saved\n",
        "\n",
        "print (\"Amount Saved: \", amount_saved)\n",
        "print (\"Sale Price: \", sale_price)"
      ],
      "execution_count": null,
      "outputs": [
        {
          "output_type": "stream",
          "text": [
            "Amount Saved:  10.0\n",
            "Sale Price:  40.0\n"
          ],
          "name": "stdout"
        }
      ]
    },
    {
      "cell_type": "code",
      "metadata": {
        "id": "viWUqgkb0-zG"
      },
      "source": [
        ""
      ],
      "execution_count": null,
      "outputs": []
    },
    {
      "cell_type": "markdown",
      "metadata": {
        "id": "QHJYc1kK1Kbu"
      },
      "source": [
        "What about the tax?\n",
        "\n",
        "Tax is calculated on the sale price\n",
        "\n",
        "tax = sale_price * gst\n",
        "\n",
        "let gst = 10%\n",
        "\n",
        "total_price = sale_price + tax\n"
      ]
    },
    {
      "cell_type": "code",
      "metadata": {
        "id": "_Xn8_wAf2AnR",
        "colab": {
          "base_uri": "https://localhost:8080/"
        },
        "outputId": "b250a999-7a9d-4be3-923a-c99bad61a2d1"
      },
      "source": [
        "gst = 10\n",
        "tax = sale_price * gst / 100\n",
        "total_price = sale_price + tax\n",
        "print ('Total Price :', total_price)"
      ],
      "execution_count": null,
      "outputs": [
        {
          "output_type": "stream",
          "text": [
            "Total Price : 44.0\n"
          ],
          "name": "stdout"
        }
      ]
    },
    {
      "cell_type": "markdown",
      "metadata": {
        "id": "CLdhmw9kdK-t"
      },
      "source": [
        "## Processing Algorithim\n",
        "1. Input data\n",
        "2. Perform the calculations\n",
        "3. Output the results"
      ]
    },
    {
      "cell_type": "markdown",
      "metadata": {
        "id": "CKjyohFMgHH0"
      },
      "source": [
        "# Modular\n",
        "* easier to read\n",
        "* think about each step\n",
        "* may be able to reuse \"module\"\n",
        "* may be build library of common tasks\n",
        "\n",
        "### Input Data Module (Step 1)\n",
        "      Input Item Name\n",
        "      Input Original Price\n",
        "      Input Discount Rate\n"
      ]
    },
    {
      "cell_type": "code",
      "metadata": {
        "id": "Z5oWKwWQxGfY"
      },
      "source": [
        "def inputData():\n",
        "  item_name = input(\"Please enter the item name: \") \n",
        "  original_price = int(input(\"Please enter the original price: \"))\n",
        "  discount_rate = int(input(\"Please enter the discount rate: \"))\n",
        "  return item_name, original_price, discount_rate"
      ],
      "execution_count": null,
      "outputs": []
    },
    {
      "cell_type": "code",
      "metadata": {
        "colab": {
          "base_uri": "https://localhost:8080/"
        },
        "id": "83HM2Ju8Uqyq",
        "outputId": "fd19a915-d272-422d-8af0-88559d9698cc"
      },
      "source": [
        "inputData"
      ],
      "execution_count": null,
      "outputs": [
        {
          "output_type": "execute_result",
          "data": {
            "text/plain": [
              "<function __main__.inputData>"
            ]
          },
          "metadata": {},
          "execution_count": 22
        }
      ]
    },
    {
      "cell_type": "markdown",
      "metadata": {
        "id": "D5uiab1Xz91O"
      },
      "source": [
        "### Input Data Module (Step 1) v0.2\n",
        "      Write \"Please input the item name\n",
        "      Input Item Name\n",
        "      Write \"Please enter the original price\"\n",
        "      Input Original Price\n",
        "      Write \"Please enter the discount rate\"\n",
        "      Input Discount Rate\n",
        "\n",
        "### Input Data Module (Step 1) v0.3\n",
        "      display to the screen \"Please input the item name\"\n",
        "      store the input into a variable called item_name\n",
        "      display to the screen \"Please enter the original price\"\n",
        "      store the input into a variable called original_price\n",
        "      display to the screen \"Please enter the discount rate\"\n",
        "      store the input into a variable called discount_rate\n",
        "      "
      ]
    },
    {
      "cell_type": "markdown",
      "metadata": {
        "id": "X1dVSj9A4Xmz"
      },
      "source": [
        "### Output Results Module\n",
        "    Write \"The item is: \" +, item_name\n",
        "    Write \"Pre sale price was: \" + original_price\n",
        "    etc....."
      ]
    },
    {
      "cell_type": "code",
      "metadata": {
        "id": "kf7w-N-I5FbX"
      },
      "source": [
        "def outputResults(item_name, original_price, total_price):\n",
        "  print(\"The item name is:\" , item_name )\n",
        "  print(\"Pre-sale item is:\" , original_price)\n",
        "  print(\"Total Price is:\" , total_price)\n",
        "\n",
        "  #Need to add more here:\n"
      ],
      "execution_count": null,
      "outputs": []
    },
    {
      "cell_type": "code",
      "metadata": {
        "colab": {
          "base_uri": "https://localhost:8080/"
        },
        "id": "bzZGM8VSFefF",
        "outputId": "9c2ed4dc-023b-4575-ab05-f8b036766471"
      },
      "source": [
        "outputResults(\"Python Programming Book\" , 50, 44 )"
      ],
      "execution_count": null,
      "outputs": [
        {
          "output_type": "stream",
          "text": [
            "The item name is: Python Programming Book\n",
            "Pre-sale item is: 50\n",
            "Total Price is: 44\n"
          ],
          "name": "stdout"
        }
      ]
    },
    {
      "cell_type": "markdown",
      "metadata": {
        "id": "UkBYXhbT-piu"
      },
      "source": [
        "## Perform the calculations\n",
        "\n",
        "amount_saved = original_price * (discount_rate / 100)\n",
        "\n",
        "sale_price = original_price - amount_saved\n",
        "\n",
        "let gst = 10%\n",
        "\n",
        "tax = sale_price * gst\n",
        "\n",
        "total_price = sale_price + tax\n"
      ]
    },
    {
      "cell_type": "code",
      "metadata": {
        "id": "8BcxdLxKD9QJ"
      },
      "source": [
        "def calculateTotalPrice(original_price, discount_rate):\n",
        "  amount_saved = original_price * (discount_rate / 100)\n",
        "  sale_price = original_price - amount_saved\n",
        "  gst = 10\n",
        "  tax = sale_price * gst/100\n",
        "  total_price = sale_price + tax\n",
        "  return total_price"
      ],
      "execution_count": null,
      "outputs": []
    },
    {
      "cell_type": "code",
      "metadata": {
        "colab": {
          "base_uri": "https://localhost:8080/"
        },
        "id": "McCRfgkwHOO9",
        "outputId": "210c5226-753f-493a-b0d2-9d83e27fd9f6"
      },
      "source": [
        "calculateTotalPrice(50, 20)"
      ],
      "execution_count": null,
      "outputs": [
        {
          "output_type": "execute_result",
          "data": {
            "text/plain": [
              "44.0"
            ]
          },
          "metadata": {},
          "execution_count": 19
        }
      ]
    },
    {
      "cell_type": "code",
      "metadata": {
        "colab": {
          "base_uri": "https://localhost:8080/"
        },
        "id": "64HobpZ7Hn1D",
        "outputId": "7ca547a1-79f9-48db-ff16-93bdcd167edd"
      },
      "source": [
        "# Input data\n",
        "name, price, discount = inputData()\n",
        "# Perform the calculations\n",
        "total = calculateTotalPrice(price, discount)\n",
        "# Output the results\n",
        "outputResults(name, price, total)"
      ],
      "execution_count": null,
      "outputs": [
        {
          "output_type": "stream",
          "text": [
            "Please enter the item name: Python Programming Book\n",
            "Please enter the original price: 50\n",
            "Please enter the discount rate: 20\n",
            "The item name is: Python Programming Book\n",
            "Pre-sale item is: 50\n",
            "Total Price is: 44.0\n"
          ],
          "name": "stdout"
        }
      ]
    }
  ]
}