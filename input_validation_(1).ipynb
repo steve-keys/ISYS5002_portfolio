{
  "nbformat": 4,
  "nbformat_minor": 5,
  "metadata": {
    "kernelspec": {
      "display_name": "Python 3 (ipykernel)",
      "language": "python",
      "name": "python3"
    },
    "language_info": {
      "codemirror_mode": {
        "name": "ipython",
        "version": 3
      },
      "file_extension": ".py",
      "mimetype": "text/x-python",
      "name": "python",
      "nbconvert_exporter": "python",
      "pygments_lexer": "ipython3",
      "version": "3.9.6"
    },
    "colab": {
      "name": "input_validation_(1).ipynb",
      "provenance": [],
      "toc_visible": true,
      "include_colab_link": true
    }
  },
  "cells": [
    {
      "cell_type": "markdown",
      "metadata": {
        "id": "view-in-github",
        "colab_type": "text"
      },
      "source": [
        "<a href=\"https://colab.research.google.com/github/steve-keys/ISYS5002_portfolio/blob/main/input_validation_(1).ipynb\" target=\"_parent\"><img src=\"https://colab.research.google.com/assets/colab-badge.svg\" alt=\"Open In Colab\"/></a>"
      ]
    },
    {
      "cell_type": "markdown",
      "metadata": {
        "id": "b5835b0c"
      },
      "source": [
        "# Input Validation\n",
        "\n",
        "Input validation code verifies that user supplied data, such as text from the input() function, is formatted appropriately.\n",
        "\n",
        "* try/except\n",
        "* isdigit()\n",
        "* pyinputplus\n",
        "\n",
        "## try/except"
      ],
      "id": "b5835b0c"
    },
    {
      "cell_type": "code",
      "metadata": {
        "colab": {
          "base_uri": "https://localhost:8080/"
        },
        "id": "695b1f5f",
        "outputId": "1ef6ff55-d719-42ec-e574-041c43d103ee"
      },
      "source": [
        "#Reference: http://www.easypythondocs.com/validation.html\n",
        "\n",
        "while True:\n",
        "  try:\n",
        "    age = int(input('How old are you? '))\n",
        "    break\n",
        "  except ValueError:\n",
        "    print('Please enter a whole number')\n",
        "print('Your age is: ' + str(age))"
      ],
      "id": "695b1f5f",
      "execution_count": null,
      "outputs": [
        {
          "output_type": "stream",
          "text": [
            "How old are you? twenty one\n",
            "Please enter a whole number\n",
            "How old are you? 21\n",
            "Your age is: 21\n"
          ],
          "name": "stdout"
        }
      ]
    },
    {
      "cell_type": "code",
      "metadata": {
        "id": "7r0CXC2xxtfg",
        "colab": {
          "base_uri": "https://localhost:8080/"
        },
        "outputId": "6db3b7c3-9753-4008-a52f-b427d4dd1c5d"
      },
      "source": [
        "def get_integer():\n",
        "  '''This function will prompt the user for a number and then convert that string to an integer and return the value'''\n",
        " \n",
        " \n",
        "  #Reference: http://www.easypythondocs.com/validation.html\n",
        "  while True:\n",
        "    try:\n",
        "      age = int(input('How old are you? '))\n",
        "      break\n",
        "    except ValueError:\n",
        "      print('Please enter a whole number')\n",
        "print('Your age is: ' + str(age))"
      ],
      "id": "7r0CXC2xxtfg",
      "execution_count": null,
      "outputs": [
        {
          "output_type": "stream",
          "text": [
            "Your age is: 21\n"
          ],
          "name": "stdout"
        }
      ]
    },
    {
      "cell_type": "code",
      "metadata": {
        "colab": {
          "base_uri": "https://localhost:8080/"
        },
        "id": "3Rxvzpp9bdv2",
        "outputId": "f8bfeba0-0d81-4627-c028-e6c8cfa69952"
      },
      "source": [
        "help(get_integer)"
      ],
      "id": "3Rxvzpp9bdv2",
      "execution_count": null,
      "outputs": [
        {
          "output_type": "stream",
          "text": [
            "Help on function get_integer in module __main__:\n",
            "\n",
            "get_integer()\n",
            "    This function will prompt the user for a number and then convert that string to an integer and return the value\n",
            "\n"
          ],
          "name": "stdout"
        }
      ]
    },
    {
      "cell_type": "code",
      "metadata": {
        "colab": {
          "base_uri": "https://localhost:8080/"
        },
        "id": "2EF_1btpbrR9",
        "outputId": "074d8c86-21fd-4d7a-8b5b-99e8c8199611"
      },
      "source": [
        "dir(get_integer)"
      ],
      "id": "2EF_1btpbrR9",
      "execution_count": null,
      "outputs": [
        {
          "output_type": "execute_result",
          "data": {
            "text/plain": [
              "['__annotations__',\n",
              " '__call__',\n",
              " '__class__',\n",
              " '__closure__',\n",
              " '__code__',\n",
              " '__defaults__',\n",
              " '__delattr__',\n",
              " '__dict__',\n",
              " '__dir__',\n",
              " '__doc__',\n",
              " '__eq__',\n",
              " '__format__',\n",
              " '__ge__',\n",
              " '__get__',\n",
              " '__getattribute__',\n",
              " '__globals__',\n",
              " '__gt__',\n",
              " '__hash__',\n",
              " '__init__',\n",
              " '__init_subclass__',\n",
              " '__kwdefaults__',\n",
              " '__le__',\n",
              " '__lt__',\n",
              " '__module__',\n",
              " '__name__',\n",
              " '__ne__',\n",
              " '__new__',\n",
              " '__qualname__',\n",
              " '__reduce__',\n",
              " '__reduce_ex__',\n",
              " '__repr__',\n",
              " '__setattr__',\n",
              " '__sizeof__',\n",
              " '__str__',\n",
              " '__subclasshook__']"
            ]
          },
          "metadata": {},
          "execution_count": 10
        }
      ]
    },
    {
      "cell_type": "code",
      "metadata": {
        "id": "IYX9A7_RcbCA"
      },
      "source": [
        "def get_integer():\n",
        "  '''This function will prompt the user for a number and then convert that string to an integer and return the value'''\n",
        " \n",
        " \n",
        "  #Reference: http://www.easypythondocs.com/validation.html\n",
        "  while True:\n",
        "    try:\n",
        "      age = int(input('How old are you? '))\n",
        "      break\n",
        "    except ValueError:\n",
        "      print('Please enter a whole number')\n",
        "\n",
        "  return age"
      ],
      "id": "IYX9A7_RcbCA",
      "execution_count": null,
      "outputs": []
    },
    {
      "cell_type": "code",
      "metadata": {
        "colab": {
          "base_uri": "https://localhost:8080/"
        },
        "id": "zO0grEHCckZe",
        "outputId": "d81ed9f2-fbaf-4cc0-aea3-1eadf499a5c0"
      },
      "source": [
        "age = get_integer\n",
        "print('Your age is: ' + str(age))"
      ],
      "id": "zO0grEHCckZe",
      "execution_count": null,
      "outputs": [
        {
          "output_type": "stream",
          "text": [
            "Your age is: <function get_integer at 0x7f74f501f0e0>\n"
          ],
          "name": "stdout"
        }
      ]
    },
    {
      "cell_type": "code",
      "metadata": {
        "id": "76riuAkCh3Fv"
      },
      "source": [
        "def get_integer(prompt):\n",
        "  '''This function will prompt the user for a number and then convert that string to an integer and return the value'''\n",
        " \n",
        " \n",
        "  #Reference: http://www.easypythondocs.com/validation.html\n",
        "  while True:\n",
        "    try:\n",
        "      number = int(input(prompt))\n",
        "      break\n",
        "    except ValueError:\n",
        "      print('Please enter a whole number')\n",
        "\n",
        "  return number"
      ],
      "id": "76riuAkCh3Fv",
      "execution_count": null,
      "outputs": []
    },
    {
      "cell_type": "code",
      "metadata": {
        "colab": {
          "base_uri": "https://localhost:8080/"
        },
        "id": "Dos3rzVaieM2",
        "outputId": "c80a1c4e-5c0b-4c1a-e9d6-7644b9d53bac"
      },
      "source": [
        "age = get_integer(\"How old are you? \")\n",
        "print('Your age is: ' + str(age))"
      ],
      "id": "Dos3rzVaieM2",
      "execution_count": null,
      "outputs": [
        {
          "output_type": "stream",
          "text": [
            "How old are you? twenty one\n",
            "Please enter a whole number\n",
            "How old are you? 21\n",
            "Your age is: 21\n"
          ],
          "name": "stdout"
        }
      ]
    },
    {
      "cell_type": "code",
      "metadata": {
        "colab": {
          "base_uri": "https://localhost:8080/"
        },
        "id": "pfFa8Mmrj3ud",
        "outputId": "7f9dfacb-1914-4807-d3ea-683034d7416d"
      },
      "source": [
        "def get_integer(prompt):\n",
        "  '''This function will prompt the user for a number and then convert that string to an integer and return the value'''\n",
        " \n",
        " \n",
        "  #Reference: http://www.easypythondocs.com/validation.html\n",
        "  valid_input = False;\n",
        "  while not valid_input:\n",
        "    try:\n",
        "      number = int(input(prompt))\n",
        "      #break\n",
        "      valid_input = True\n",
        "    except ValueError:\n",
        "      print('Please enter a whole number')\n",
        "\n",
        "  return number\n",
        "\n",
        "  age = get_integer(\"How old are you? \")\n",
        "print('Your age is: ' + str(age))"
      ],
      "id": "pfFa8Mmrj3ud",
      "execution_count": null,
      "outputs": [
        {
          "output_type": "stream",
          "text": [
            "Your age is: 21\n"
          ],
          "name": "stdout"
        }
      ]
    },
    {
      "cell_type": "code",
      "metadata": {
        "colab": {
          "base_uri": "https://localhost:8080/"
        },
        "id": "2XqfaoIhk6Um",
        "outputId": "3e886e66-87a8-49f4-cfc5-26d9c4407d2c"
      },
      "source": [
        "age = get_integer(\"How old are you? \")\n",
        "print('Your age is: ' + str(age))"
      ],
      "id": "2XqfaoIhk6Um",
      "execution_count": null,
      "outputs": [
        {
          "output_type": "stream",
          "text": [
            "How old are you? twenty one\n",
            "Please enter a whole number\n",
            "How old are you? 21\n",
            "Your age is: 21\n"
          ],
          "name": "stdout"
        }
      ]
    },
    {
      "cell_type": "markdown",
      "metadata": {
        "id": "acc7252b"
      },
      "source": [
        "## isdigit()"
      ],
      "id": "acc7252b"
    },
    {
      "cell_type": "code",
      "metadata": {
        "id": "5f98c241",
        "colab": {
          "base_uri": "https://localhost:8080/"
        },
        "outputId": "c7f9068f-bbce-4b81-f3d2-458b37172865"
      },
      "source": [
        "#Reference: http://www.easypythondocs.com/validation.html\n",
        "\n",
        "while True:\n",
        "  age = input('How old are you? ')\n",
        "  if age.isdigit():\n",
        "    age = int(age)\n",
        "    break\n",
        "  else:\n",
        "    print('You must enter a valid number')\n",
        "  \n",
        "print ('Your age is: ' + str(age))"
      ],
      "id": "5f98c241",
      "execution_count": null,
      "outputs": [
        {
          "output_type": "stream",
          "text": [
            "How old are you? twenty one\n",
            "You must enter a valid number\n",
            "How old are you? 21\n",
            "Your age is: 21\n"
          ],
          "name": "stdout"
        }
      ]
    },
    {
      "cell_type": "markdown",
      "metadata": {
        "id": "18c00dc3"
      },
      "source": [
        "## Module: pyinputs"
      ],
      "id": "18c00dc3"
    },
    {
      "cell_type": "code",
      "metadata": {
        "colab": {
          "base_uri": "https://localhost:8080/"
        },
        "id": "dfe1740b",
        "outputId": "9e35d462-1ce3-496d-cfcc-36f9585472ba"
      },
      "source": [
        "pip install PyInputPlus"
      ],
      "id": "dfe1740b",
      "execution_count": null,
      "outputs": [
        {
          "output_type": "stream",
          "text": [
            "Collecting PyInputPlus\n",
            "  Downloading PyInputPlus-0.2.12.tar.gz (20 kB)\n",
            "  Installing build dependencies ... \u001b[?25l\u001b[?25hdone\n",
            "  Getting requirements to build wheel ... \u001b[?25l\u001b[?25hdone\n",
            "    Preparing wheel metadata ... \u001b[?25l\u001b[?25hdone\n",
            "Collecting stdiomask>=0.0.3\n",
            "  Downloading stdiomask-0.0.6.tar.gz (3.6 kB)\n",
            "  Installing build dependencies ... \u001b[?25l\u001b[?25hdone\n",
            "  Getting requirements to build wheel ... \u001b[?25l\u001b[?25hdone\n",
            "    Preparing wheel metadata ... \u001b[?25l\u001b[?25hdone\n",
            "Collecting pysimplevalidate>=0.2.7\n",
            "  Downloading PySimpleValidate-0.2.12.tar.gz (22 kB)\n",
            "  Installing build dependencies ... \u001b[?25l\u001b[?25hdone\n",
            "  Getting requirements to build wheel ... \u001b[?25l\u001b[?25hdone\n",
            "    Preparing wheel metadata ... \u001b[?25l\u001b[?25hdone\n",
            "Building wheels for collected packages: PyInputPlus, pysimplevalidate, stdiomask\n",
            "  Building wheel for PyInputPlus (PEP 517) ... \u001b[?25l\u001b[?25hdone\n",
            "  Created wheel for PyInputPlus: filename=PyInputPlus-0.2.12-py3-none-any.whl size=11315 sha256=4464c0abe6ae2c7a985e4f50193b8f9236386715770d8194af36c6c6750a7577\n",
            "  Stored in directory: /root/.cache/pip/wheels/e7/33/73/719f8f1bd984d39face880fd22f6c5ef1b85f726e84c687094\n",
            "  Building wheel for pysimplevalidate (PEP 517) ... \u001b[?25l\u001b[?25hdone\n",
            "  Created wheel for pysimplevalidate: filename=PySimpleValidate-0.2.12-py3-none-any.whl size=16191 sha256=2e08721c360f104a3713d463beb59f352dfab91c56e8f9c5083f5e6069248430\n",
            "  Stored in directory: /root/.cache/pip/wheels/5a/8b/6c/2925d22b93860bdc9b8ce02c3d2cf79336606f7469cef66065\n",
            "  Building wheel for stdiomask (PEP 517) ... \u001b[?25l\u001b[?25hdone\n",
            "  Created wheel for stdiomask: filename=stdiomask-0.0.6-py3-none-any.whl size=3320 sha256=e26d8d9c0e4c2dea1975c01c82e73da277f493108c1d3f6f03dfd886f2938371\n",
            "  Stored in directory: /root/.cache/pip/wheels/cf/13/89/64d0d3b167759523f4c1e68f883bbc30e7bfa27050edeb418e\n",
            "Successfully built PyInputPlus pysimplevalidate stdiomask\n",
            "Installing collected packages: stdiomask, pysimplevalidate, PyInputPlus\n",
            "Successfully installed PyInputPlus-0.2.12 pysimplevalidate-0.2.12 stdiomask-0.0.6\n"
          ],
          "name": "stdout"
        }
      ]
    },
    {
      "cell_type": "code",
      "metadata": {
        "colab": {
          "base_uri": "https://localhost:8080/"
        },
        "id": "oxnT7JYJ1Wsy",
        "outputId": "56ce24b0-936d-4f5c-abda-7d14f2a51573"
      },
      "source": [
        "import pyinputplus as pyip\n",
        "age = pyip.inputNum('How old are you? ')\n",
        "print ('Your age is: ' + str(age))"
      ],
      "id": "oxnT7JYJ1Wsy",
      "execution_count": null,
      "outputs": [
        {
          "output_type": "stream",
          "text": [
            "How old are you? twenty one\n",
            "'twenty one' is not a number.\n",
            "How old are you? 21\n",
            "Your age is: 21\n"
          ],
          "name": "stdout"
        }
      ]
    },
    {
      "cell_type": "code",
      "metadata": {
        "id": "-nclpETi1tyr",
        "colab": {
          "base_uri": "https://localhost:8080/"
        },
        "outputId": "9cf989ba-727d-4e99-8951-a0fcec6bf855"
      },
      "source": [
        "number = 1\n",
        "another = 0\n",
        "\n",
        "try:\n",
        "  number / another\n",
        "  with open('readme.txt') as f:\n",
        "    f.readline()\n",
        "except ZeroDivisionError:\n",
        "  print(\"You shouldn't divide by zero\")\n"
      ],
      "id": "-nclpETi1tyr",
      "execution_count": null,
      "outputs": [
        {
          "output_type": "stream",
          "text": [
            "You shouldn't divide by zero\n"
          ],
          "name": "stdout"
        }
      ]
    },
    {
      "cell_type": "code",
      "metadata": {
        "colab": {
          "base_uri": "https://localhost:8080/",
          "height": 235
        },
        "id": "295zrlZUt1sW",
        "outputId": "55b13499-6185-4ccd-b2bb-3f4a0a675441"
      },
      "source": [
        "number = 1\n",
        "another = 1\n",
        "\n",
        "try:\n",
        "  number / another\n",
        "  with open('readme.txt') as f:\n",
        "    f.readline()\n",
        "except ZeroDivisionError:\n",
        "  print(\"You shouldn't divide by zero\")\n"
      ],
      "id": "295zrlZUt1sW",
      "execution_count": null,
      "outputs": [
        {
          "output_type": "error",
          "ename": "FileNotFoundError",
          "evalue": "ignored",
          "traceback": [
            "\u001b[0;31m---------------------------------------------------------------------------\u001b[0m",
            "\u001b[0;31mFileNotFoundError\u001b[0m                         Traceback (most recent call last)",
            "\u001b[0;32m<ipython-input-38-07dfc31ad355>\u001b[0m in \u001b[0;36m<module>\u001b[0;34m()\u001b[0m\n\u001b[1;32m      4\u001b[0m \u001b[0;32mtry\u001b[0m\u001b[0;34m:\u001b[0m\u001b[0;34m\u001b[0m\u001b[0;34m\u001b[0m\u001b[0m\n\u001b[1;32m      5\u001b[0m   \u001b[0mnumber\u001b[0m \u001b[0;34m/\u001b[0m \u001b[0manother\u001b[0m\u001b[0;34m\u001b[0m\u001b[0;34m\u001b[0m\u001b[0m\n\u001b[0;32m----> 6\u001b[0;31m   \u001b[0;32mwith\u001b[0m \u001b[0mopen\u001b[0m\u001b[0;34m(\u001b[0m\u001b[0;34m'readme.txt'\u001b[0m\u001b[0;34m)\u001b[0m \u001b[0;32mas\u001b[0m \u001b[0mf\u001b[0m\u001b[0;34m:\u001b[0m\u001b[0;34m\u001b[0m\u001b[0;34m\u001b[0m\u001b[0m\n\u001b[0m\u001b[1;32m      7\u001b[0m     \u001b[0mf\u001b[0m\u001b[0;34m.\u001b[0m\u001b[0mreadline\u001b[0m\u001b[0;34m(\u001b[0m\u001b[0;34m)\u001b[0m\u001b[0;34m\u001b[0m\u001b[0;34m\u001b[0m\u001b[0m\n\u001b[1;32m      8\u001b[0m \u001b[0;32mexcept\u001b[0m \u001b[0mZeroDivisionError\u001b[0m\u001b[0;34m:\u001b[0m\u001b[0;34m\u001b[0m\u001b[0;34m\u001b[0m\u001b[0m\n",
            "\u001b[0;31mFileNotFoundError\u001b[0m: [Errno 2] No such file or directory: 'readme.txt'"
          ]
        }
      ]
    },
    {
      "cell_type": "code",
      "metadata": {
        "colab": {
          "base_uri": "https://localhost:8080/"
        },
        "id": "oVJWk57Hwo2S",
        "outputId": "6de39688-7e0b-47bf-afb3-34e2fd765231"
      },
      "source": [
        "number = 1\n",
        "another = 1\n",
        "\n",
        "try:\n",
        "  number / another\n",
        "  with open('readme.txt') as f:\n",
        "    f.readline()\n",
        "except ZeroDivisionError:\n",
        "  print(\"You shouldn't divide by zero\")\n",
        "except FileNotFoundError:\n",
        "  print(\"Ummm..... sorry but I can't locate the file\")\n",
        "# there could be many lines of code here\n",
        "print(\"This is after the exception\")"
      ],
      "id": "oVJWk57Hwo2S",
      "execution_count": null,
      "outputs": [
        {
          "output_type": "stream",
          "text": [
            "Ummm..... sorry but I can't locate the file\n",
            "This is after the exception\n"
          ],
          "name": "stdout"
        }
      ]
    },
    {
      "cell_type": "code",
      "metadata": {
        "id": "NhcxiDgcwAfZ"
      },
      "source": [
        ""
      ],
      "id": "NhcxiDgcwAfZ",
      "execution_count": null,
      "outputs": []
    }
  ]
}