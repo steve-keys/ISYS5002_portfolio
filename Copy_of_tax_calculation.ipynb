{
  "nbformat": 4,
  "nbformat_minor": 0,
  "metadata": {
    "colab": {
      "name": "Copy of tax_calculation.ipynb",
      "provenance": [],
      "include_colab_link": true
    },
    "kernelspec": {
      "name": "python3",
      "display_name": "Python 3"
    },
    "language_info": {
      "name": "python"
    }
  },
  "cells": [
    {
      "cell_type": "markdown",
      "metadata": {
        "id": "view-in-github",
        "colab_type": "text"
      },
      "source": [
        "<a href=\"https://colab.research.google.com/github/steve-keys/ISYS5002_portfolio/blob/main/Copy_of_tax_calculation.ipynb\" target=\"_parent\"><img src=\"https://colab.research.google.com/assets/colab-badge.svg\" alt=\"Open In Colab\"/></a>"
      ]
    },
    {
      "cell_type": "markdown",
      "metadata": {
        "id": "bVMwNyExqHgH"
      },
      "source": [
        "Write a program the prompts the user for their income and caclualtes the tax payable.\n",
        "\n",
        "[Resident tax rates 2021–22\n",
        "Taxable income](https://www.ato.gov.au/rates/individual-income-tax-rates/)\n",
        "\n",
        "Income            | Tax on this income \n",
        "------------------|----------------------\n",
        "0 – \\$18,200       | Nil\n",
        "\\$18,201 – \\$45,000 | 19 cents for each \\$1 over \\$18,200\n",
        "\\$45,001 – \\$120,000 | \\$5,092 plus 32.5 cents for each \\$1 over \\$45,000\n",
        "\\$120,001 – \\$180,000 |  \\$29,467 plus 37 cents for each \\$1 over \\$120,000\n",
        "\\$180,001 and over | \\$51,667 plus 45 cents for each \\$1 over \\$180,000\n",
        "\n"
      ]
    },
    {
      "cell_type": "code",
      "metadata": {
        "id": "BSQnuKQvr-zw",
        "colab": {
          "base_uri": "https://localhost:8080/"
        },
        "outputId": "c33b76f7-6f70-47af-b15b-8a8e3511d38f"
      },
      "source": [
        "## Steps\n",
        "#1. Get the income\n",
        "#2. Calculate the tax payable\n",
        "\n",
        "# Step 1 - Get the income amount\n",
        "income = int(input(\"What is your income for the year? \"))\n",
        "print(\"Your income is \" , income)\n",
        "\n",
        "# Step 2 - Calculate the tax payable\n",
        "# if you earn $18,200, then pay no tax\n",
        "# else if you earn between $18,201 – $45,000, \n",
        "#    then pay 0.19 cents for every dollar over 18,200\n",
        "\n",
        "if income <= 18200:\n",
        "  tax_payable = 0\n",
        "elif 18200 < income <= 45000: \n",
        "  tax_payable = 0.19 * (income - 18200)\n",
        "elif 45000 < income <= 120000:\n",
        "  tax_payable = 5092 + 0.32 * (income - 45000)\n",
        "elif 120000 < income <= 180000:\n",
        "  tax_payable = 29467 + 0.37 * (income - 120000)\n",
        "elif income > 180000:     \n",
        "  tax_payable = 51667 + 0.45 * (income - 180000)        \n",
        "print(\"Your tax payable is \", tax_payable)"
      ],
      "execution_count": 1,
      "outputs": [
        {
          "output_type": "stream",
          "name": "stdout",
          "text": [
            "What is your income for the year? 130000\n",
            "Your income is  130000\n",
            "Your tax payable is  33167.0\n"
          ]
        }
      ]
    },
    {
      "cell_type": "code",
      "metadata": {
        "id": "jm3-ay96YPmL"
      },
      "source": [
        "def get_income():\n",
        "  '''\n",
        "  This function will prompt the user for the income and return the value\n",
        "  '''\n",
        "  income = int(input(\"What is your income for the year? \"))\n",
        "  print(\"Your income is \" , income)\n",
        "  return income"
      ],
      "execution_count": 5,
      "outputs": []
    },
    {
      "cell_type": "code",
      "metadata": {
        "id": "pBAdbUfKhjj3"
      },
      "source": [
        "def calculate_tax (income):\n",
        "  if income <= 18200:\n",
        "    tax_payable = 0\n",
        "  elif 18200 < income <= 45000: \n",
        "    tax_payable = 0.19 * (income - 18200)\n",
        "  elif 45000 < income <= 120000:\n",
        "    tax_payable = 5092 + 0.32 * (income - 45000)\n",
        "  elif 120000 < income <= 180000:\n",
        "    tax_payable = 29467 + 0.37 * (income - 120000)\n",
        "  elif income > 180000:     \n",
        "    tax_payable = 51667 + 0.45 * (income - 180000)        \n",
        "  \n",
        "  return tax_payable"
      ],
      "execution_count": 10,
      "outputs": []
    },
    {
      "cell_type": "code",
      "metadata": {
        "colab": {
          "base_uri": "https://localhost:8080/"
        },
        "id": "-mqs9UjWiPy7",
        "outputId": "5df8fb68-ee6d-4af7-8f31-e95d2b322ced"
      },
      "source": [
        "# 'Main line'\n",
        "\n",
        "# Step 1\n",
        "income = get_income ()\n",
        "# Step 2\n",
        "tax = calculate_tax(income)\n",
        "\n",
        "print(\"Your tax payable is \", tax)"
      ],
      "execution_count": 12,
      "outputs": [
        {
          "output_type": "stream",
          "name": "stdout",
          "text": [
            "What is your income for the year? 145000\n",
            "Your income is  145000\n",
            "Your tax payable is  38717.0\n"
          ]
        }
      ]
    }
  ]
}