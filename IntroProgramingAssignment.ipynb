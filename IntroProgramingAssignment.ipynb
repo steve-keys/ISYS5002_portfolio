{
  "nbformat": 4,
  "nbformat_minor": 0,
  "metadata": {
    "colab": {
      "name": "IntroProgramingAssignment.ipynb",
      "provenance": [],
      "authorship_tag": "ABX9TyMXH+NvTbMUkVCRG/y/23ti",
      "include_colab_link": true
    },
    "kernelspec": {
      "name": "python3",
      "display_name": "Python 3"
    },
    "language_info": {
      "name": "python"
    }
  },
  "cells": [
    {
      "cell_type": "markdown",
      "metadata": {
        "id": "view-in-github",
        "colab_type": "text"
      },
      "source": [
        "<a href=\"https://colab.research.google.com/github/steve-keys/ISYS5002_portfolio/blob/main/IntroProgramingAssignment.ipynb\" target=\"_parent\"><img src=\"https://colab.research.google.com/assets/colab-badge.svg\" alt=\"Open In Colab\"/></a>"
      ]
    },
    {
      "cell_type": "markdown",
      "metadata": {
        "id": "dqmZRl2Mm9ZZ"
      },
      "source": [
        "##INPUTS#\n",
        "1. Get Company Stock Market Ticker Symbol\n",
        "2. Locate table of Key Executives and their salaries\n",
        "3. Scrap page for salary data\n",
        "\n",
        "\n",
        "\n",
        "\n"
      ]
    },
    {
      "cell_type": "code",
      "metadata": {
        "colab": {
          "base_uri": "https://localhost:8080/"
        },
        "id": "04bNARERvKHS",
        "outputId": "968fc2e6-21ce-45ba-90bc-cd59f04f1e07"
      },
      "source": [
        "company_ticker = (input (\"What is your Company's Stock Market Ticker Symbol? \"))"
      ],
      "execution_count": 7,
      "outputs": [
        {
          "name": "stdout",
          "output_type": "stream",
          "text": [
            "What is your Company's Stock Market Ticker Symbol? sxa\n"
          ]
        }
      ]
    },
    {
      "cell_type": "code",
      "metadata": {
        "id": "W7oNJBpn5f6d",
        "colab": {
          "base_uri": "https://localhost:8080/"
        },
        "outputId": "c3739d5d-5936-467d-96eb-a638c9489087"
      },
      "source": [
        "# Search google to Find the URL\n",
        " #url = https://au.finance.yahoo.com/quote/NAB.AX/profile?p=NAB.AX\n",
        "\n",
        "# Write code to insert tickers in the correct place holders in the URL\n",
        "url = 'https://au.finance.yahoo.com/quote/{company_ticker}/profile?p={company_ticker}'\n",
        "\n",
        "print(url)"
      ],
      "execution_count": 2,
      "outputs": [
        {
          "output_type": "stream",
          "name": "stdout",
          "text": [
            "https://au.finance.yahoo.com/quote/{company_ticker}/profile?p={company_ticker}\n"
          ]
        }
      ]
    },
    {
      "cell_type": "code",
      "metadata": {
        "id": "Ws6IlakoUUgp"
      },
      "source": [
        ""
      ],
      "execution_count": null,
      "outputs": []
    },
    {
      "cell_type": "code",
      "metadata": {
        "colab": {
          "base_uri": "https://localhost:8080/",
          "height": 214
        },
        "id": "9bVyRHC5Sc3D",
        "outputId": "a0785ad9-93ff-4026-9a17-1da73b953d2b"
      },
      "source": [
        "# Explore how to place variable into a string - e.g. Company Ticker into url\n",
        "company_ticker = 'NAB.AX'\n",
        "url = 'https://au.finance.yahoo.com/quote/{}/profile?p={}'.format(company_ticker)\n",
        "print(url)"
      ],
      "execution_count": 10,
      "outputs": [
        {
          "output_type": "error",
          "ename": "IndexError",
          "evalue": "ignored",
          "traceback": [
            "\u001b[0;31m---------------------------------------------------------------------------\u001b[0m",
            "\u001b[0;31mIndexError\u001b[0m                                Traceback (most recent call last)",
            "\u001b[0;32m<ipython-input-10-4df15134200c>\u001b[0m in \u001b[0;36m<module>\u001b[0;34m()\u001b[0m\n\u001b[1;32m      1\u001b[0m \u001b[0;31m# Explore how to place variable into a string - e.g. Company Ticker into url\u001b[0m\u001b[0;34m\u001b[0m\u001b[0;34m\u001b[0m\u001b[0;34m\u001b[0m\u001b[0m\n\u001b[1;32m      2\u001b[0m \u001b[0mcompany_ticker\u001b[0m \u001b[0;34m=\u001b[0m \u001b[0;34m'NAB.AX'\u001b[0m\u001b[0;34m\u001b[0m\u001b[0;34m\u001b[0m\u001b[0m\n\u001b[0;32m----> 3\u001b[0;31m \u001b[0murl\u001b[0m \u001b[0;34m=\u001b[0m \u001b[0;34m'https://au.finance.yahoo.com/quote/{}/profile?p={}'\u001b[0m\u001b[0;34m.\u001b[0m\u001b[0mformat\u001b[0m\u001b[0;34m(\u001b[0m\u001b[0mcompany_ticker\u001b[0m\u001b[0;34m)\u001b[0m\u001b[0;34m\u001b[0m\u001b[0;34m\u001b[0m\u001b[0m\n\u001b[0m\u001b[1;32m      4\u001b[0m \u001b[0mprint\u001b[0m\u001b[0;34m(\u001b[0m\u001b[0murl\u001b[0m\u001b[0;34m)\u001b[0m\u001b[0;34m\u001b[0m\u001b[0;34m\u001b[0m\u001b[0m\n",
            "\u001b[0;31mIndexError\u001b[0m: tuple index out of range"
          ]
        }
      ]
    },
    {
      "cell_type": "markdown",
      "metadata": {
        "id": "bxxcNnctvApv"
      },
      "source": [
        "##PROCESSING#\n",
        "\n",
        "1. Use salary data to compute the tax payable for each executive\n",
        "2. Use tax tables and functions created in previous notebook to calculate tax payable"
      ]
    },
    {
      "cell_type": "code",
      "metadata": {
        "id": "3S42mgOOb0xe"
      },
      "source": [
        ""
      ],
      "execution_count": null,
      "outputs": []
    },
    {
      "cell_type": "code",
      "metadata": {
        "id": "eLe7GQA3m8DZ"
      },
      "source": [
        "## Steps\n",
        "#1. Get the income\n",
        "#2. Calculate the tax payable\n",
        "\n",
        "# Step 1 - Get the income amount\n",
        "income = int(input(\"What is your income for the year? \"))\n",
        "print(\"Your income is \" , income)\n",
        "\n",
        "# Step 2 - Calculate the tax payable\n",
        "# if you earn $18,200, then pay no tax\n",
        "# else if you earn between $18,201 – $45,000, \n",
        "#    then pay 0.19 cents for every dollar over 18,200\n",
        "\n",
        "if income <= 18200:\n",
        "  tax_payable = 0\n",
        "elif 18200 < income <= 45000: \n",
        "  tax_payable = 0.19 * (income - 18200)\n",
        "elif 45000 < income <= 120000:\n",
        "  tax_payable = 5092 + 0.32 * (income - 45000)\n",
        "elif 120000 < income <= 180000:\n",
        "  tax_payable = 29467 + 0.37 * (income - 120000)\n",
        "elif income > 180000:     \n",
        "  tax_payable = 51667 + 0.45 * (income - 180000)        \n",
        "print(\"Your tax payable is \", tax_payable)"
      ],
      "execution_count": null,
      "outputs": []
    },
    {
      "cell_type": "code",
      "metadata": {
        "id": "ezuDcmKZ1Bh_"
      },
      "source": [
        "def get_income():\n",
        "  '''\n",
        "  This function will prompt the user for the income and return the value\n",
        "  '''\n",
        "  income = int(input(\"What is your income for the year? \"))\n",
        "  print(\"Your income is \" , income)\n",
        "  return income"
      ],
      "execution_count": null,
      "outputs": []
    },
    {
      "cell_type": "code",
      "metadata": {
        "id": "2Uh5ZuLW1McW"
      },
      "source": [
        "def calculate_tax (income):\n",
        "  if income <= 18200:\n",
        "    tax_payable = 0\n",
        "  elif 18200 < income <= 45000: \n",
        "    tax_payable = 0.19 * (income - 18200)\n",
        "  elif 45000 < income <= 120000:\n",
        "    tax_payable = 5092 + 0.32 * (income - 45000)\n",
        "  elif 120000 < income <= 180000:\n",
        "    tax_payable = 29467 + 0.37 * (income - 120000)\n",
        "  elif income > 180000:     \n",
        "    tax_payable = 51667 + 0.45 * (income - 180000)        \n",
        "  \n",
        "  return tax_payable"
      ],
      "execution_count": null,
      "outputs": []
    },
    {
      "cell_type": "code",
      "metadata": {
        "id": "zidxhc7D1TGe"
      },
      "source": [
        "# 'Main line'\n",
        "\n",
        "# Step 1\n",
        "income = get_income ()\n",
        "# Step 2\n",
        "tax = calculate_tax(income)\n",
        "\n",
        "print(\"Your tax payable is \", tax)"
      ],
      "execution_count": null,
      "outputs": []
    },
    {
      "cell_type": "markdown",
      "metadata": {
        "id": "KiqY-lcwvHZD"
      },
      "source": [
        "##OUTPUTS#\n",
        "Save data in CSV and/or\n",
        "Store in an SQLite database\n",
        "\n",
        "User to choose how data is saved"
      ]
    },
    {
      "cell_type": "code",
      "metadata": {
        "id": "N4LxNT7YvI8Z"
      },
      "source": [
        ""
      ],
      "execution_count": null,
      "outputs": []
    }
  ]
}