{
  "nbformat": 4,
  "nbformat_minor": 5,
  "metadata": {
    "kernelspec": {
      "display_name": "Python 3 (ipykernel)",
      "language": "python",
      "name": "python3"
    },
    "language_info": {
      "codemirror_mode": {
        "name": "ipython",
        "version": 3
      },
      "file_extension": ".py",
      "mimetype": "text/x-python",
      "name": "python",
      "nbconvert_exporter": "python",
      "pygments_lexer": "ipython3",
      "version": "3.9.6"
    },
    "colab": {
      "name": "Business_Buzzword_Generator_STUDENTS_(1).ipynb",
      "provenance": [],
      "collapsed_sections": [],
      "include_colab_link": true
    }
  },
  "cells": [
    {
      "cell_type": "markdown",
      "metadata": {
        "id": "view-in-github",
        "colab_type": "text"
      },
      "source": [
        "<a href=\"https://colab.research.google.com/github/steve-keys/ISYS5002_portfolio/blob/main/Business_Buzzword_Generator_STUDENTS_(1).ipynb\" target=\"_parent\"><img src=\"https://colab.research.google.com/assets/colab-badge.svg\" alt=\"Open In Colab\"/></a>"
      ]
    },
    {
      "cell_type": "markdown",
      "metadata": {
        "id": "f8b21259-c1a0-4ecb-a02f-e35565841067"
      },
      "source": [
        "# Business Buzzword Generator\n",
        "\n",
        "Lets write a real-world business application using Python.   Want to write a program to genrate business phrases.  The program takes three lists of words, randomly picks one word from each list, combines the words into a phrase, and then prints out the phrase. Here is the psuedocode:\n",
        "\n",
        "    importing the random module\n",
        "    make three lists, one of buzzword, one of actions, and one of outcomes\n",
        "    randomly choose one buzzword, action, and outcome from each list\n",
        "    now build the phrase by \"adding\" the words together\n",
        "    output the phrase\n",
        "    \n",
        "A good use of pseudocode is each line becomes comments in the code. Each line of pseudo code has been pasted into a cell below.  Try to implement each as python statement or statements."
      ],
      "id": "f8b21259-c1a0-4ecb-a02f-e35565841067"
    },
    {
      "cell_type": "code",
      "metadata": {
        "id": "6b9a2fc6-f8ae-4778-a5e7-9659136091fd"
      },
      "source": [
        "# importing the random module\n",
        "import random"
      ],
      "id": "6b9a2fc6-f8ae-4778-a5e7-9659136091fd",
      "execution_count": null,
      "outputs": []
    },
    {
      "cell_type": "code",
      "metadata": {
        "id": "52db4e24-c2e3-46f2-8a96-0fece1f437f2"
      },
      "source": [
        "#  make three lists, one of buzzwords, one of actions, and one of outcomes\n",
        "verbs = ['actualize', 'administrate', 'aggregate', 'architect', 'benchmark']\n",
        "adjectives = ['backward-compatible','best-of-breed','bleeding-edge','business']\n",
        "nouns = ['action items','adoption', 'alignments', 'applications']"
      ],
      "id": "52db4e24-c2e3-46f2-8a96-0fece1f437f2",
      "execution_count": null,
      "outputs": []
    },
    {
      "cell_type": "code",
      "metadata": {
        "id": "2538b8fa-1dc9-4bfd-84d8-6753b9a88218"
      },
      "source": [
        "# randomly choose one buzzword, action, and outcome from list\n",
        "verb_choice = random.choice (verbs)\n",
        "adjective_choice = random.choice (adjectives)\n",
        "noun_choice = random.choice (nouns)"
      ],
      "id": "2538b8fa-1dc9-4bfd-84d8-6753b9a88218",
      "execution_count": null,
      "outputs": []
    },
    {
      "cell_type": "code",
      "metadata": {
        "id": "95c40fea-40d0-49e6-afe5-c181da731368"
      },
      "source": [
        "# build the phrase by \"adding\" the words together\n",
        "phrase = verb_choice + ' ' + adjective_choice + ' ' + noun_choice"
      ],
      "id": "95c40fea-40d0-49e6-afe5-c181da731368",
      "execution_count": null,
      "outputs": []
    },
    {
      "cell_type": "code",
      "metadata": {
        "id": "3e36c71d-ef4b-40d5-ac7f-a7717460e28f"
      },
      "source": [
        "# output the phrase"
      ],
      "id": "3e36c71d-ef4b-40d5-ac7f-a7717460e28f",
      "execution_count": null,
      "outputs": []
    },
    {
      "cell_type": "code",
      "metadata": {
        "id": "71838d24-05d5-44cb-ae5a-1195fd805622",
        "colab": {
          "base_uri": "https://localhost:8080/"
        },
        "outputId": "2a2331f8-d7d4-4449-fb6a-6f3cc201a0a6"
      },
      "source": [
        "print (phrase)"
      ],
      "id": "71838d24-05d5-44cb-ae5a-1195fd805622",
      "execution_count": null,
      "outputs": [
        {
          "output_type": "stream",
          "text": [
            "architect business applications\n"
          ],
          "name": "stdout"
        }
      ]
    },
    {
      "cell_type": "code",
      "metadata": {
        "colab": {
          "base_uri": "https://localhost:8080/"
        },
        "id": "PT6b7YW89-96",
        "outputId": "ecf2cbd7-e468-4336-9927-9f68d262a764"
      },
      "source": [
        "import random\n",
        "verbs = ['actualize', 'administrate', 'aggregate', 'architect', 'benchmark']\n",
        "adjectives = ['backward-compatible','best-of-breed','bleeding-edge','business']\n",
        "nouns = ['action items','adoption', 'alignments', 'applications']\n",
        "verb_choice = random.choice (verbs)\n",
        "adjective_choice = random.choice (adjectives)\n",
        "noun_choice = random.choice (nouns)\n",
        "phrase = verb_choice + ' ' + adjective_choice + ' ' + noun_choice\n",
        "print (phrase)"
      ],
      "id": "PT6b7YW89-96",
      "execution_count": null,
      "outputs": [
        {
          "output_type": "stream",
          "text": [
            "aggregate best-of-breed action items\n"
          ],
          "name": "stdout"
        }
      ]
    }
  ]
}