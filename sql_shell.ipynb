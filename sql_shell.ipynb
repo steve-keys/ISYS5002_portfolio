{
  "nbformat": 4,
  "nbformat_minor": 0,
  "metadata": {
    "colab": {
      "name": "sql_shell.ipynb",
      "provenance": [],
      "include_colab_link": true
    },
    "kernelspec": {
      "name": "python3",
      "display_name": "Python 3"
    },
    "language_info": {
      "name": "python"
    }
  },
  "cells": [
    {
      "cell_type": "markdown",
      "metadata": {
        "id": "view-in-github",
        "colab_type": "text"
      },
      "source": [
        "<a href=\"https://colab.research.google.com/github/steve-keys/ISYS5002_portfolio/blob/main/sql_shell.ipynb\" target=\"_parent\"><img src=\"https://colab.research.google.com/assets/colab-badge.svg\" alt=\"Open In Colab\"/></a>"
      ]
    },
    {
      "cell_type": "markdown",
      "metadata": {
        "id": "mbsVgk4dW_nz"
      },
      "source": [
        "#SQL via Python\n",
        "\n",
        "In this notebook we discuss all the CRUD operations on a SQLite 3 database in Python.\n",
        "\n",
        "We assume some basic understanding ot SQL\n",
        "\n",
        "## Import the library"
      ]
    },
    {
      "cell_type": "code",
      "metadata": {
        "id": "LPimUgLJW-zI"
      },
      "source": [
        "import sqlite3\n"
      ],
      "execution_count": 1,
      "outputs": []
    },
    {
      "cell_type": "markdown",
      "metadata": {
        "id": "Hw8dIXJ-XmD3"
      },
      "source": [
        "## Create a connection\n",
        "\n",
        "We use the connect method and pass the name of the database"
      ]
    },
    {
      "cell_type": "code",
      "metadata": {
        "id": "mrad4SnyXxgQ"
      },
      "source": [
        "conn = sqlite3.connect(\"mytest.db\")"
      ],
      "execution_count": 3,
      "outputs": []
    },
    {
      "cell_type": "markdown",
      "metadata": {
        "id": "mejA7Nv4XyPH"
      },
      "source": [
        "## Create a cursor object\n",
        "\n",
        "A cursor acts a middleware between a connection and SQL query"
      ]
    },
    {
      "cell_type": "code",
      "metadata": {
        "id": "ZTlVz29LYR9b"
      },
      "source": [
        "cursor = conn.cursor ()"
      ],
      "execution_count": 4,
      "outputs": []
    },
    {
      "cell_type": "markdown",
      "metadata": {
        "id": "Sn6PJmYtYdWr"
      },
      "source": [
        "# Create Table\n",
        "\n",
        "Use a common 'pattern'\n",
        "\n",
        "1. Create a SQL command as a string\n",
        "2. User cursor to execture the command\n",
        "3. If needed fetch the results"
      ]
    },
    {
      "cell_type": "code",
      "metadata": {
        "id": "SIGT5zH0Ykd4"
      },
      "source": [
        "query = \"\"\"\n",
        "CREATE TABLE USER (\n",
        "  id INTERGER NOT NULL PRIMARY AUTOINCREMENT,\n",
        "  name TEXT,\n",
        "  age INTEGER\n",
        ");\n",
        "\"\"\""
      ],
      "execution_count": 5,
      "outputs": []
    },
    {
      "cell_type": "code",
      "metadata": {
        "id": "Z-0sYtXQSN7m",
        "outputId": "62093c13-1cde-4914-8c48-4e6aa2f4607f",
        "colab": {
          "base_uri": "https://localhost:8080/",
          "height": 166
        }
      },
      "source": [
        "cursor.execute(query)"
      ],
      "execution_count": 6,
      "outputs": [
        {
          "output_type": "error",
          "ename": "OperationalError",
          "evalue": "ignored",
          "traceback": [
            "\u001b[0;31m---------------------------------------------------------------------------\u001b[0m",
            "\u001b[0;31mOperationalError\u001b[0m                          Traceback (most recent call last)",
            "\u001b[0;32m<ipython-input-6-70f19cd38195>\u001b[0m in \u001b[0;36m<module>\u001b[0;34m()\u001b[0m\n\u001b[0;32m----> 1\u001b[0;31m \u001b[0mcursor\u001b[0m\u001b[0;34m.\u001b[0m\u001b[0mexecute\u001b[0m\u001b[0;34m(\u001b[0m\u001b[0mquery\u001b[0m\u001b[0;34m)\u001b[0m\u001b[0;34m\u001b[0m\u001b[0;34m\u001b[0m\u001b[0m\n\u001b[0m",
            "\u001b[0;31mOperationalError\u001b[0m: near \"AUTOINCREMENT\": syntax error"
          ]
        }
      ]
    },
    {
      "cell_type": "markdown",
      "metadata": {
        "id": "pn3Pj3hlYsBK"
      },
      "source": [
        "# Insert into Table"
      ]
    },
    {
      "cell_type": "code",
      "metadata": {
        "id": "sDDF56NqYy1D"
      },
      "source": [
        "query = \"INSERT INTO user VALUES (0, 'Michael', 21):\""
      ],
      "execution_count": null,
      "outputs": []
    },
    {
      "cell_type": "code",
      "metadata": {
        "id": "dZLq7d8VT8kp"
      },
      "source": [
        "cursor.execute(query)"
      ],
      "execution_count": null,
      "outputs": []
    },
    {
      "cell_type": "markdown",
      "metadata": {
        "id": "0q9-ZbAHY30U"
      },
      "source": [
        "## Fetching Data"
      ]
    },
    {
      "cell_type": "code",
      "metadata": {
        "id": "6fft_Fo-Y6TM"
      },
      "source": [
        ""
      ],
      "execution_count": null,
      "outputs": []
    },
    {
      "cell_type": "markdown",
      "metadata": {
        "id": "CMhqzLZbY8r-"
      },
      "source": [
        "## Updating Data"
      ]
    },
    {
      "cell_type": "code",
      "metadata": {
        "id": "ojzfQW6vY_uX"
      },
      "source": [
        ""
      ],
      "execution_count": null,
      "outputs": []
    },
    {
      "cell_type": "markdown",
      "metadata": {
        "id": "-tk5M9E9ZBPO"
      },
      "source": [
        "## Delete Data"
      ]
    },
    {
      "cell_type": "code",
      "metadata": {
        "id": "VI52gWODZCsF"
      },
      "source": [
        ""
      ],
      "execution_count": null,
      "outputs": []
    },
    {
      "cell_type": "markdown",
      "metadata": {
        "id": "ZqFcuamRZJ9W"
      },
      "source": [
        "## View Schema"
      ]
    },
    {
      "cell_type": "code",
      "metadata": {
        "id": "1Ovfl-_OZOPk"
      },
      "source": [
        ""
      ],
      "execution_count": null,
      "outputs": []
    },
    {
      "cell_type": "markdown",
      "metadata": {
        "id": "-ldwT9WyZE-2"
      },
      "source": [
        "## Delete Table"
      ]
    },
    {
      "cell_type": "code",
      "metadata": {
        "id": "cyFWke0AZHI-"
      },
      "source": [
        ""
      ],
      "execution_count": null,
      "outputs": []
    }
  ]
}