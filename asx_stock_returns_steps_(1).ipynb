{
  "nbformat": 4,
  "nbformat_minor": 0,
  "metadata": {
    "colab": {
      "name": "asx_stock_returns_steps (1).ipynb",
      "provenance": [],
      "include_colab_link": true
    },
    "kernelspec": {
      "name": "python3",
      "display_name": "Python 3"
    },
    "language_info": {
      "name": "python"
    }
  },
  "cells": [
    {
      "cell_type": "markdown",
      "metadata": {
        "id": "view-in-github",
        "colab_type": "text"
      },
      "source": [
        "<a href=\"https://colab.research.google.com/github/steve-keys/ISYS5002_portfolio/blob/main/asx_stock_returns_steps_(1).ipynb\" target=\"_parent\"><img src=\"https://colab.research.google.com/assets/colab-badge.svg\" alt=\"Open In Colab\"/></a>"
      ]
    },
    {
      "cell_type": "markdown",
      "metadata": {
        "id": "HNZIlM6oj2Aj"
      },
      "source": [
        "In this notebook we will:\n",
        "\n",
        "* Download prices\n",
        "* Calculate Returns\n",
        "* Calculate mean and standard deviation of returns\n",
        "\n",
        "Lets load the modules first.\n"
      ]
    },
    {
      "cell_type": "code",
      "metadata": {
        "colab": {
          "base_uri": "https://localhost:8080/"
        },
        "id": "CBUGKw5V1eAg",
        "outputId": "abe78c45-4e9d-4ded-ee7b-306db04b920a"
      },
      "source": [
        "pip install pandas-datareader\n"
      ],
      "execution_count": 2,
      "outputs": [
        {
          "output_type": "stream",
          "name": "stdout",
          "text": [
            "Requirement already satisfied: pandas-datareader in /usr/local/lib/python3.7/dist-packages (0.9.0)\n",
            "Requirement already satisfied: requests>=2.19.0 in /usr/local/lib/python3.7/dist-packages (from pandas-datareader) (2.23.0)\n",
            "Requirement already satisfied: lxml in /usr/local/lib/python3.7/dist-packages (from pandas-datareader) (4.2.6)\n",
            "Requirement already satisfied: pandas>=0.23 in /usr/local/lib/python3.7/dist-packages (from pandas-datareader) (1.1.5)\n",
            "Requirement already satisfied: numpy>=1.15.4 in /usr/local/lib/python3.7/dist-packages (from pandas>=0.23->pandas-datareader) (1.19.5)\n",
            "Requirement already satisfied: python-dateutil>=2.7.3 in /usr/local/lib/python3.7/dist-packages (from pandas>=0.23->pandas-datareader) (2.8.2)\n",
            "Requirement already satisfied: pytz>=2017.2 in /usr/local/lib/python3.7/dist-packages (from pandas>=0.23->pandas-datareader) (2018.9)\n",
            "Requirement already satisfied: six>=1.5 in /usr/local/lib/python3.7/dist-packages (from python-dateutil>=2.7.3->pandas>=0.23->pandas-datareader) (1.15.0)\n",
            "Requirement already satisfied: chardet<4,>=3.0.2 in /usr/local/lib/python3.7/dist-packages (from requests>=2.19.0->pandas-datareader) (3.0.4)\n",
            "Requirement already satisfied: urllib3!=1.25.0,!=1.25.1,<1.26,>=1.21.1 in /usr/local/lib/python3.7/dist-packages (from requests>=2.19.0->pandas-datareader) (1.24.3)\n",
            "Requirement already satisfied: idna<3,>=2.5 in /usr/local/lib/python3.7/dist-packages (from requests>=2.19.0->pandas-datareader) (2.10)\n",
            "Requirement already satisfied: certifi>=2017.4.17 in /usr/local/lib/python3.7/dist-packages (from requests>=2.19.0->pandas-datareader) (2021.5.30)\n"
          ]
        }
      ]
    },
    {
      "cell_type": "code",
      "metadata": {
        "id": "65AKEsMMj7l2"
      },
      "source": [
        "import pandas as pd\n",
        "import matplotlib.pyplot as plt\n",
        "from pandas_datareader import data as pdr"
      ],
      "execution_count": 3,
      "outputs": []
    },
    {
      "cell_type": "markdown",
      "metadata": {
        "id": "NECkTYl1rVYg"
      },
      "source": [
        "Work around as Yahoo FInance made a change causing error with Pandas Datareader \n"
      ]
    },
    {
      "cell_type": "code",
      "metadata": {
        "id": "eQnf6ciwrUBZ",
        "colab": {
          "base_uri": "https://localhost:8080/"
        },
        "outputId": "e442ea94-a3b0-403e-9eb7-801ccb490cdb"
      },
      "source": [
        "!pip install yfinance\n",
        "import yfinance as yfin\n",
        "yfin.pdr_override()"
      ],
      "execution_count": 4,
      "outputs": [
        {
          "output_type": "stream",
          "name": "stdout",
          "text": [
            "Collecting yfinance\n",
            "  Downloading yfinance-0.1.63.tar.gz (26 kB)\n",
            "Requirement already satisfied: pandas>=0.24 in /usr/local/lib/python3.7/dist-packages (from yfinance) (1.1.5)\n",
            "Requirement already satisfied: numpy>=1.15 in /usr/local/lib/python3.7/dist-packages (from yfinance) (1.19.5)\n",
            "Requirement already satisfied: requests>=2.20 in /usr/local/lib/python3.7/dist-packages (from yfinance) (2.23.0)\n",
            "Requirement already satisfied: multitasking>=0.0.7 in /usr/local/lib/python3.7/dist-packages (from yfinance) (0.0.9)\n",
            "Collecting lxml>=4.5.1\n",
            "  Downloading lxml-4.6.3-cp37-cp37m-manylinux2014_x86_64.whl (6.3 MB)\n",
            "\u001b[K     |████████████████████████████████| 6.3 MB 4.2 MB/s \n",
            "\u001b[?25hRequirement already satisfied: python-dateutil>=2.7.3 in /usr/local/lib/python3.7/dist-packages (from pandas>=0.24->yfinance) (2.8.2)\n",
            "Requirement already satisfied: pytz>=2017.2 in /usr/local/lib/python3.7/dist-packages (from pandas>=0.24->yfinance) (2018.9)\n",
            "Requirement already satisfied: six>=1.5 in /usr/local/lib/python3.7/dist-packages (from python-dateutil>=2.7.3->pandas>=0.24->yfinance) (1.15.0)\n",
            "Requirement already satisfied: certifi>=2017.4.17 in /usr/local/lib/python3.7/dist-packages (from requests>=2.20->yfinance) (2021.5.30)\n",
            "Requirement already satisfied: urllib3!=1.25.0,!=1.25.1,<1.26,>=1.21.1 in /usr/local/lib/python3.7/dist-packages (from requests>=2.20->yfinance) (1.24.3)\n",
            "Requirement already satisfied: chardet<4,>=3.0.2 in /usr/local/lib/python3.7/dist-packages (from requests>=2.20->yfinance) (3.0.4)\n",
            "Requirement already satisfied: idna<3,>=2.5 in /usr/local/lib/python3.7/dist-packages (from requests>=2.20->yfinance) (2.10)\n",
            "Building wheels for collected packages: yfinance\n",
            "  Building wheel for yfinance (setup.py) ... \u001b[?25l\u001b[?25hdone\n",
            "  Created wheel for yfinance: filename=yfinance-0.1.63-py2.py3-none-any.whl size=23918 sha256=d3bfec100e1e9d32ecff317036f13a1b8f66f66a6dc156ce6e9ee39dd09a7207\n",
            "  Stored in directory: /root/.cache/pip/wheels/fe/87/8b/7ec24486e001d3926537f5f7801f57a74d181be25b11157983\n",
            "Successfully built yfinance\n",
            "Installing collected packages: lxml, yfinance\n",
            "  Attempting uninstall: lxml\n",
            "    Found existing installation: lxml 4.2.6\n",
            "    Uninstalling lxml-4.2.6:\n",
            "      Successfully uninstalled lxml-4.2.6\n",
            "Successfully installed lxml-4.6.3 yfinance-0.1.63\n"
          ]
        }
      ]
    },
    {
      "cell_type": "markdown",
      "metadata": {
        "id": "NoqWddgEnsgn"
      },
      "source": [
        "## Step 1: Specify date range for analysis \n",
        "\n",
        "Here we begin by creating start and end dates using pythons datetime module. "
      ]
    },
    {
      "cell_type": "code",
      "metadata": {
        "id": "RPfSzWb7gZDE",
        "colab": {
          "base_uri": "https://localhost:8080/"
        },
        "outputId": "3b06f0d9-18ca-4830-d3d1-432c665cb762"
      },
      "source": [
        "help(pdr)"
      ],
      "execution_count": 5,
      "outputs": [
        {
          "output_type": "stream",
          "name": "stdout",
          "text": [
            "Help on module pandas_datareader.data in pandas_datareader:\n",
            "\n",
            "NAME\n",
            "    pandas_datareader.data - Module contains tools for collecting data from various remote sources\n",
            "\n",
            "FUNCTIONS\n",
            "    DataReader = download(tickers, start=None, end=None, actions=False, threads=True, group_by='column', auto_adjust=False, back_adjust=False, progress=True, period='max', show_errors=True, interval='1d', prepost=False, proxy=None, rounding=False, **kwargs)\n",
            "        Download yahoo tickers\n",
            "        :Parameters:\n",
            "            tickers : str, list\n",
            "                List of tickers to download\n",
            "            period : str\n",
            "                Valid periods: 1d,5d,1mo,3mo,6mo,1y,2y,5y,10y,ytd,max\n",
            "                Either Use period parameter or use start and end\n",
            "            interval : str\n",
            "                Valid intervals: 1m,2m,5m,15m,30m,60m,90m,1h,1d,5d,1wk,1mo,3mo\n",
            "                Intraday data cannot extend last 60 days\n",
            "            start: str\n",
            "                Download start date string (YYYY-MM-DD) or _datetime.\n",
            "                Default is 1900-01-01\n",
            "            end: str\n",
            "                Download end date string (YYYY-MM-DD) or _datetime.\n",
            "                Default is now\n",
            "            group_by : str\n",
            "                Group by 'ticker' or 'column' (default)\n",
            "            prepost : bool\n",
            "                Include Pre and Post market data in results?\n",
            "                Default is False\n",
            "            auto_adjust: bool\n",
            "                Adjust all OHLC automatically? Default is False\n",
            "            actions: bool\n",
            "                Download dividend + stock splits data. Default is False\n",
            "            threads: bool / int\n",
            "                How many threads to use for mass downloading. Default is True\n",
            "            proxy: str\n",
            "                Optional. Proxy server URL scheme. Default is None\n",
            "            rounding: bool\n",
            "                Optional. Round values to 2 decimal places?\n",
            "            show_errors: bool\n",
            "                Optional. Doesn't print errors if True\n",
            "    \n",
            "    get_components_yahoo = _get_data(idx_sym)\n",
            "        Returns DataFrame containing list of component information for\n",
            "        index represented in idx_sym from yahoo. Includes component symbol\n",
            "        (ticker), exchange, and name.\n",
            "        \n",
            "        Parameters\n",
            "        ----------\n",
            "        idx_sym : str\n",
            "            Stock index symbol\n",
            "            Examples:\n",
            "            '^DJI' (Dow Jones Industrial Average)\n",
            "            '^NYA' (NYSE Composite)\n",
            "            '^IXIC' (NASDAQ Composite)\n",
            "        \n",
            "            See: http://finance.yahoo.com/indices for other index symbols\n",
            "        \n",
            "        Returns\n",
            "        -------\n",
            "        idx_df : DataFrame\n",
            "    \n",
            "    get_dailysummary_iex(*args, **kwargs)\n",
            "        Returns a summary of daily market volume statistics. Without parameters,\n",
            "        this will return the most recent trading session by default.\n",
            "        \n",
            "        Parameters\n",
            "        ----------\n",
            "        start : string, int, date, datetime, Timestamp\n",
            "            The beginning of the date range.\n",
            "        end : string, int, date, datetime, Timestamp\n",
            "            The end of the date range.\n",
            "        \n",
            "        Reference: https://www.iextrading.com/developer/docs/#historical-daily\n",
            "        \n",
            "        :return: DataFrame\n",
            "    \n",
            "    get_data_enigma(*args, **kwargs)\n",
            "    \n",
            "    get_data_famafrench(*args, **kwargs)\n",
            "    \n",
            "    get_data_fred(*args, **kwargs)\n",
            "    \n",
            "    get_data_moex(*args, **kwargs)\n",
            "    \n",
            "    get_data_quandl(*args, **kwargs)\n",
            "    \n",
            "    get_data_stooq(*args, **kwargs)\n",
            "    \n",
            "    get_data_yahoo = download(tickers, start=None, end=None, actions=False, threads=True, group_by='column', auto_adjust=False, back_adjust=False, progress=True, period='max', show_errors=True, interval='1d', prepost=False, proxy=None, rounding=False, **kwargs)\n",
            "        Download yahoo tickers\n",
            "        :Parameters:\n",
            "            tickers : str, list\n",
            "                List of tickers to download\n",
            "            period : str\n",
            "                Valid periods: 1d,5d,1mo,3mo,6mo,1y,2y,5y,10y,ytd,max\n",
            "                Either Use period parameter or use start and end\n",
            "            interval : str\n",
            "                Valid intervals: 1m,2m,5m,15m,30m,60m,90m,1h,1d,5d,1wk,1mo,3mo\n",
            "                Intraday data cannot extend last 60 days\n",
            "            start: str\n",
            "                Download start date string (YYYY-MM-DD) or _datetime.\n",
            "                Default is 1900-01-01\n",
            "            end: str\n",
            "                Download end date string (YYYY-MM-DD) or _datetime.\n",
            "                Default is now\n",
            "            group_by : str\n",
            "                Group by 'ticker' or 'column' (default)\n",
            "            prepost : bool\n",
            "                Include Pre and Post market data in results?\n",
            "                Default is False\n",
            "            auto_adjust: bool\n",
            "                Adjust all OHLC automatically? Default is False\n",
            "            actions: bool\n",
            "                Download dividend + stock splits data. Default is False\n",
            "            threads: bool / int\n",
            "                How many threads to use for mass downloading. Default is True\n",
            "            proxy: str\n",
            "                Optional. Proxy server URL scheme. Default is None\n",
            "            rounding: bool\n",
            "                Optional. Round values to 2 decimal places?\n",
            "            show_errors: bool\n",
            "                Optional. Doesn't print errors if True\n",
            "    \n",
            "    get_data_yahoo_actions = download(tickers, start=None, end=None, actions=False, threads=True, group_by='column', auto_adjust=False, back_adjust=False, progress=True, period='max', show_errors=True, interval='1d', prepost=False, proxy=None, rounding=False, **kwargs)\n",
            "        Download yahoo tickers\n",
            "        :Parameters:\n",
            "            tickers : str, list\n",
            "                List of tickers to download\n",
            "            period : str\n",
            "                Valid periods: 1d,5d,1mo,3mo,6mo,1y,2y,5y,10y,ytd,max\n",
            "                Either Use period parameter or use start and end\n",
            "            interval : str\n",
            "                Valid intervals: 1m,2m,5m,15m,30m,60m,90m,1h,1d,5d,1wk,1mo,3mo\n",
            "                Intraday data cannot extend last 60 days\n",
            "            start: str\n",
            "                Download start date string (YYYY-MM-DD) or _datetime.\n",
            "                Default is 1900-01-01\n",
            "            end: str\n",
            "                Download end date string (YYYY-MM-DD) or _datetime.\n",
            "                Default is now\n",
            "            group_by : str\n",
            "                Group by 'ticker' or 'column' (default)\n",
            "            prepost : bool\n",
            "                Include Pre and Post market data in results?\n",
            "                Default is False\n",
            "            auto_adjust: bool\n",
            "                Adjust all OHLC automatically? Default is False\n",
            "            actions: bool\n",
            "                Download dividend + stock splits data. Default is False\n",
            "            threads: bool / int\n",
            "                How many threads to use for mass downloading. Default is True\n",
            "            proxy: str\n",
            "                Optional. Proxy server URL scheme. Default is None\n",
            "            rounding: bool\n",
            "                Optional. Round values to 2 decimal places?\n",
            "            show_errors: bool\n",
            "                Optional. Doesn't print errors if True\n",
            "    \n",
            "    get_iex_book(*args, **kwargs)\n",
            "        Returns an array of dictionaries with depth of book data from IEX for up to\n",
            "        10 securities at a time. Returns a dictionary of the bid and ask books.\n",
            "        \n",
            "        Parameters\n",
            "        ----------\n",
            "        symbols : str, List[str]\n",
            "            A string or list of strings of valid tickers\n",
            "        service : str\n",
            "            One of:\n",
            "        \n",
            "            - 'book': Live depth of book data\n",
            "            - 'op-halt-status': Checks to see if the exchange has instituted a halt\n",
            "            - 'security-event': Denotes individual security related event\n",
            "            - 'ssr-status': Short Sale Price Test restrictions, per reg 201 of SHO\n",
            "            - 'system-event': Relays current feed status (i.e. market open)\n",
            "            - 'trades': Retrieves recent executions, trade size/price and flags\n",
            "            - 'trade-breaks': Lists execution breaks for the current trading session\n",
            "            - 'trading-status': Returns status and cause codes for securities\n",
            "        \n",
            "        Returns\n",
            "        -------\n",
            "        DataFrame\n",
            "    \n",
            "    get_iex_symbols(*args, **kwargs)\n",
            "        Returns a list of all equity symbols available for trading on IEX. Accepts\n",
            "        no additional parameters.\n",
            "        \n",
            "        Reference: https://www.iextrading.com/developer/docs/#symbols\n",
            "        \n",
            "        :return: DataFrame\n",
            "    \n",
            "    get_last_iex(*args, **kwargs)\n",
            "    \n",
            "    get_markets_iex(*args, **kwargs)\n",
            "        Returns near-real time volume data across markets segregated by tape\n",
            "        and including a percentage of overall volume during the session\n",
            "        \n",
            "        This endpoint does not accept any parameters.\n",
            "        \n",
            "        Reference: https://www.iextrading.com/developer/docs/#markets\n",
            "        \n",
            "        Returns\n",
            "        -------\n",
            "        DataFrame\n",
            "    \n",
            "    get_nasdaq_symbols(retry_count=3, timeout=30, pause=None)\n",
            "        Get the list of all available equity symbols from Nasdaq.\n",
            "        \n",
            "        Returns\n",
            "        -------\n",
            "        nasdaq_tickers : pandas.DataFrame\n",
            "            DataFrame with company tickers, names, and other properties.\n",
            "    \n",
            "    get_quote_yahoo(*args, **kwargs)\n",
            "    \n",
            "    get_recent_iex(*args, **kwargs)\n",
            "        Returns market volume and trade routing statistics for recent sessions.\n",
            "        Also reports IEX's relative market share, lit share volume and a boolean\n",
            "        halfday indicator.\n",
            "        \n",
            "        Reference: https://www.iextrading.com/developer/docs/#recent\n",
            "        \n",
            "        Returns\n",
            "        -------\n",
            "        DataFrame\n",
            "    \n",
            "    get_records_iex(*args, **kwargs)\n",
            "        Returns the record value, record date, recent value, and 30-day average for\n",
            "        market volume, # of symbols traded, # of routed trades and notional value.\n",
            "        This function accepts no additional parameters.\n",
            "        \n",
            "        Reference: https://www.iextrading.com/developer/docs/#records\n",
            "        \n",
            "        :return: DataFrame\n",
            "    \n",
            "    get_summary_iex(*args, **kwargs)\n",
            "        Returns an aggregated monthly summary of market volume and a variety of\n",
            "        related metrics for trades by lot size, security market cap, and venue.\n",
            "        In the absence of parameters, this will return month-to-date statistics.\n",
            "        For ranges spanning multiple months, this will return one row per month.\n",
            "        \n",
            "        start : string, int, date, datetime, Timestamp\n",
            "            A datetime object - the beginning of the date range.\n",
            "        end : string, int, date, datetime, Timestamp\n",
            "            A datetime object - the end of the date range.\n",
            "        \n",
            "        Returns\n",
            "        -------\n",
            "        DataFrame\n",
            "    \n",
            "    get_tops_iex(*args, **kwargs)\n",
            "\n",
            "DATA\n",
            "    __all__ = ['get_components_yahoo', 'get_data_enigma', 'get_data_famafr...\n",
            "\n",
            "FILE\n",
            "    /usr/local/lib/python3.7/dist-packages/pandas_datareader/data.py\n",
            "\n",
            "\n"
          ]
        }
      ]
    },
    {
      "cell_type": "code",
      "metadata": {
        "id": "Z88LyySk3VaC"
      },
      "source": [
        "start = \"2009-01-01\"\n",
        "end = \"2021-09-15\""
      ],
      "execution_count": 6,
      "outputs": []
    },
    {
      "cell_type": "code",
      "metadata": {
        "colab": {
          "base_uri": "https://localhost:8080/"
        },
        "id": "9ZPXTu4A4Er4",
        "outputId": "afc7f53e-8609-4d91-8103-b14c2f9613a3"
      },
      "source": [
        "help(pdr.get_data_yahoo)"
      ],
      "execution_count": 7,
      "outputs": [
        {
          "output_type": "stream",
          "name": "stdout",
          "text": [
            "Help on function download in module yfinance.multi:\n",
            "\n",
            "download(tickers, start=None, end=None, actions=False, threads=True, group_by='column', auto_adjust=False, back_adjust=False, progress=True, period='max', show_errors=True, interval='1d', prepost=False, proxy=None, rounding=False, **kwargs)\n",
            "    Download yahoo tickers\n",
            "    :Parameters:\n",
            "        tickers : str, list\n",
            "            List of tickers to download\n",
            "        period : str\n",
            "            Valid periods: 1d,5d,1mo,3mo,6mo,1y,2y,5y,10y,ytd,max\n",
            "            Either Use period parameter or use start and end\n",
            "        interval : str\n",
            "            Valid intervals: 1m,2m,5m,15m,30m,60m,90m,1h,1d,5d,1wk,1mo,3mo\n",
            "            Intraday data cannot extend last 60 days\n",
            "        start: str\n",
            "            Download start date string (YYYY-MM-DD) or _datetime.\n",
            "            Default is 1900-01-01\n",
            "        end: str\n",
            "            Download end date string (YYYY-MM-DD) or _datetime.\n",
            "            Default is now\n",
            "        group_by : str\n",
            "            Group by 'ticker' or 'column' (default)\n",
            "        prepost : bool\n",
            "            Include Pre and Post market data in results?\n",
            "            Default is False\n",
            "        auto_adjust: bool\n",
            "            Adjust all OHLC automatically? Default is False\n",
            "        actions: bool\n",
            "            Download dividend + stock splits data. Default is False\n",
            "        threads: bool / int\n",
            "            How many threads to use for mass downloading. Default is True\n",
            "        proxy: str\n",
            "            Optional. Proxy server URL scheme. Default is None\n",
            "        rounding: bool\n",
            "            Optional. Round values to 2 decimal places?\n",
            "        show_errors: bool\n",
            "            Optional. Doesn't print errors if True\n",
            "\n"
          ]
        }
      ]
    },
    {
      "cell_type": "markdown",
      "metadata": {
        "id": "13o_1wssoBjF"
      },
      "source": [
        "## Step 2: Select the stocks/tickers you would like to analyse\n",
        "\n",
        "For Australian stocks, yahoo tickers require '.AX' to be specified at the end of the ticker symbol.  For other tickers use the search bar in yahoo finance."
      ]
    },
    {
      "cell_type": "code",
      "metadata": {
        "id": "Y6ZrCfWNgeoZ"
      },
      "source": [
        "tickers = [\"NAB.AX\"]"
      ],
      "execution_count": 8,
      "outputs": []
    },
    {
      "cell_type": "markdown",
      "metadata": {
        "id": "xSez_wk4oZZP"
      },
      "source": [
        "# Step 3: call the Pandas_Datareader DataReader module"
      ]
    },
    {
      "cell_type": "code",
      "metadata": {
        "id": "DiHcvM3_lWkw",
        "colab": {
          "base_uri": "https://localhost:8080/"
        },
        "outputId": "89e4b2f0-0e19-40c8-98a6-815253511e08"
      },
      "source": [
        "df = pdr.get_data_yahoo(tickers,start,end)"
      ],
      "execution_count": 9,
      "outputs": [
        {
          "output_type": "stream",
          "name": "stdout",
          "text": [
            "\r[*********************100%***********************]  1 of 1 completed\n"
          ]
        }
      ]
    },
    {
      "cell_type": "code",
      "metadata": {
        "colab": {
          "base_uri": "https://localhost:8080/"
        },
        "id": "930GhPDD_ZXm",
        "outputId": "7e72da85-ffd9-4f06-9916-899d3899a614"
      },
      "source": [
        "df.tail"
      ],
      "execution_count": 10,
      "outputs": [
        {
          "output_type": "execute_result",
          "data": {
            "text/plain": [
              "<bound method NDFrame.tail of                  Open       High        Low      Close  Adj Close   Volume\n",
              "Date                                                                      \n",
              "2009-01-02  19.929367  19.976933  19.244446  19.406162   8.887323  2572210\n",
              "2009-01-05  19.691547  19.720085  19.082727  19.244446   8.813263  2822855\n",
              "2009-01-06  19.624958  19.862778  19.482265  19.729599   9.035445  3803343\n",
              "2009-01-07  19.853266  20.148163  19.548855  19.872292   9.100793  4676568\n",
              "2009-01-08  19.501291  19.843754  19.501291  19.843754   9.087724  2949396\n",
              "...               ...        ...        ...        ...        ...      ...\n",
              "2021-09-09  28.680000  28.740000  28.160000  28.400000  28.400000  6209123\n",
              "2021-09-10  28.650000  28.730000  28.270000  28.450001  28.450001  4490010\n",
              "2021-09-13  28.250000  28.340000  28.030001  28.180000  28.180000  4081323\n",
              "2021-09-14  28.299999  28.340000  28.040001  28.230000  28.230000  5473211\n",
              "2021-09-15  28.010000  28.200001  27.889999  28.139999  28.139999  4458631\n",
              "\n",
              "[3212 rows x 6 columns]>"
            ]
          },
          "metadata": {},
          "execution_count": 10
        }
      ]
    },
    {
      "cell_type": "code",
      "metadata": {
        "colab": {
          "base_uri": "https://localhost:8080/"
        },
        "id": "94gfgMHPvMjU",
        "outputId": "038ec537-0bbe-41e3-d9f4-e896d0d3f6f4"
      },
      "source": [
        "df.head"
      ],
      "execution_count": 11,
      "outputs": [
        {
          "output_type": "execute_result",
          "data": {
            "text/plain": [
              "<bound method NDFrame.head of                  Open       High        Low      Close  Adj Close   Volume\n",
              "Date                                                                      \n",
              "2009-01-02  19.929367  19.976933  19.244446  19.406162   8.887323  2572210\n",
              "2009-01-05  19.691547  19.720085  19.082727  19.244446   8.813263  2822855\n",
              "2009-01-06  19.624958  19.862778  19.482265  19.729599   9.035445  3803343\n",
              "2009-01-07  19.853266  20.148163  19.548855  19.872292   9.100793  4676568\n",
              "2009-01-08  19.501291  19.843754  19.501291  19.843754   9.087724  2949396\n",
              "...               ...        ...        ...        ...        ...      ...\n",
              "2021-09-09  28.680000  28.740000  28.160000  28.400000  28.400000  6209123\n",
              "2021-09-10  28.650000  28.730000  28.270000  28.450001  28.450001  4490010\n",
              "2021-09-13  28.250000  28.340000  28.030001  28.180000  28.180000  4081323\n",
              "2021-09-14  28.299999  28.340000  28.040001  28.230000  28.230000  5473211\n",
              "2021-09-15  28.010000  28.200001  27.889999  28.139999  28.139999  4458631\n",
              "\n",
              "[3212 rows x 6 columns]>"
            ]
          },
          "metadata": {},
          "execution_count": 11
        }
      ]
    },
    {
      "cell_type": "markdown",
      "metadata": {
        "id": "7-Y707wBodqa"
      },
      "source": [
        "## Step 4: Understanding the pandas dataframe structure\n",
        "\n",
        "A good way to quickly understand how a pandas dataframe is structured is to look at the index and the columns."
      ]
    },
    {
      "cell_type": "code",
      "metadata": {
        "id": "uu_BWD_llZ9q",
        "colab": {
          "base_uri": "https://localhost:8080/"
        },
        "outputId": "eef0a60d-b593-4632-c4ea-4f7a085e4835"
      },
      "source": [
        "df.index"
      ],
      "execution_count": 12,
      "outputs": [
        {
          "output_type": "execute_result",
          "data": {
            "text/plain": [
              "DatetimeIndex(['2009-01-02', '2009-01-05', '2009-01-06', '2009-01-07',\n",
              "               '2009-01-08', '2009-01-09', '2009-01-12', '2009-01-13',\n",
              "               '2009-01-14', '2009-01-15',\n",
              "               ...\n",
              "               '2021-09-02', '2021-09-03', '2021-09-06', '2021-09-07',\n",
              "               '2021-09-08', '2021-09-09', '2021-09-10', '2021-09-13',\n",
              "               '2021-09-14', '2021-09-15'],\n",
              "              dtype='datetime64[ns]', name='Date', length=3212, freq=None)"
            ]
          },
          "metadata": {},
          "execution_count": 12
        }
      ]
    },
    {
      "cell_type": "code",
      "metadata": {
        "colab": {
          "base_uri": "https://localhost:8080/"
        },
        "id": "aWBxj_Gfvd1i",
        "outputId": "97dfa1e0-12af-4be4-a0ba-d96d9932f795"
      },
      "source": [
        "df.columns"
      ],
      "execution_count": 13,
      "outputs": [
        {
          "output_type": "execute_result",
          "data": {
            "text/plain": [
              "Index(['Open', 'High', 'Low', 'Close', 'Adj Close', 'Volume'], dtype='object')"
            ]
          },
          "metadata": {},
          "execution_count": 13
        }
      ]
    },
    {
      "cell_type": "markdown",
      "metadata": {
        "id": "xmcQWB9Vo8pX"
      },
      "source": [
        "## Step 5: Access useful attributes easily\n",
        "\n",
        "We are interested in the closing price information for all of these stocks."
      ]
    },
    {
      "cell_type": "code",
      "metadata": {
        "id": "rVugNpr-olSV",
        "colab": {
          "base_uri": "https://localhost:8080/"
        },
        "outputId": "17d1bcff-6e55-4883-86a6-af0cf75135e6"
      },
      "source": [
        "df.Close"
      ],
      "execution_count": 15,
      "outputs": [
        {
          "output_type": "execute_result",
          "data": {
            "text/plain": [
              "Date\n",
              "2009-01-02    19.406162\n",
              "2009-01-05    19.244446\n",
              "2009-01-06    19.729599\n",
              "2009-01-07    19.872292\n",
              "2009-01-08    19.843754\n",
              "                ...    \n",
              "2021-09-09    28.400000\n",
              "2021-09-10    28.450001\n",
              "2021-09-13    28.180000\n",
              "2021-09-14    28.230000\n",
              "2021-09-15    28.139999\n",
              "Name: Close, Length: 3212, dtype: float64"
            ]
          },
          "metadata": {},
          "execution_count": 15
        }
      ]
    },
    {
      "cell_type": "code",
      "metadata": {
        "colab": {
          "base_uri": "https://localhost:8080/"
        },
        "id": "bP0OuCIFw9CF",
        "outputId": "8952de3c-a0e1-4385-98cf-8792ad691fb7"
      },
      "source": [
        "Close=df['Close']\n",
        "Close"
      ],
      "execution_count": 17,
      "outputs": [
        {
          "output_type": "execute_result",
          "data": {
            "text/plain": [
              "Date\n",
              "2009-01-02    19.406162\n",
              "2009-01-05    19.244446\n",
              "2009-01-06    19.729599\n",
              "2009-01-07    19.872292\n",
              "2009-01-08    19.843754\n",
              "                ...    \n",
              "2021-09-09    28.400000\n",
              "2021-09-10    28.450001\n",
              "2021-09-13    28.180000\n",
              "2021-09-14    28.230000\n",
              "2021-09-15    28.139999\n",
              "Name: Close, Length: 3212, dtype: float64"
            ]
          },
          "metadata": {},
          "execution_count": 17
        }
      ]
    },
    {
      "cell_type": "markdown",
      "metadata": {
        "id": "DKbUd2tcpGl3"
      },
      "source": [
        "## Step 6: Gain insights quickly with pandas describe method\n"
      ]
    },
    {
      "cell_type": "code",
      "metadata": {
        "id": "n2_QynuJpBZQ",
        "colab": {
          "base_uri": "https://localhost:8080/"
        },
        "outputId": "b79cbd84-fe27-4fe2-97be-b94a0a519f58"
      },
      "source": [
        "Close.describe()"
      ],
      "execution_count": 18,
      "outputs": [
        {
          "output_type": "execute_result",
          "data": {
            "text/plain": [
              "count    3212.000000\n",
              "mean       26.603584\n",
              "std         4.390008\n",
              "min        13.880000\n",
              "25%        23.591806\n",
              "50%        26.608685\n",
              "75%        29.850000\n",
              "max        37.642250\n",
              "Name: Close, dtype: float64"
            ]
          },
          "metadata": {},
          "execution_count": 18
        }
      ]
    },
    {
      "cell_type": "code",
      "metadata": {
        "colab": {
          "base_uri": "https://localhost:8080/"
        },
        "id": "LWLHJMEJ7bhj",
        "outputId": "fcd745fa-9419-4634-acdb-eeb7e8352d75"
      },
      "source": [
        "Close.describe(percentiles=[.1, .5, .9])"
      ],
      "execution_count": 19,
      "outputs": [
        {
          "output_type": "execute_result",
          "data": {
            "text/plain": [
              "count    3212.000000\n",
              "mean       26.603584\n",
              "std         4.390008\n",
              "min        13.880000\n",
              "10%        21.280190\n",
              "50%        26.608685\n",
              "90%        32.459999\n",
              "max        37.642250\n",
              "Name: Close, dtype: float64"
            ]
          },
          "metadata": {},
          "execution_count": 19
        }
      ]
    },
    {
      "cell_type": "markdown",
      "metadata": {
        "id": "efy-YAV1ph8T"
      },
      "source": [
        "## Step 7: Plot and save"
      ]
    },
    {
      "cell_type": "code",
      "metadata": {
        "id": "O3EPGjFqpS4-",
        "colab": {
          "base_uri": "https://localhost:8080/",
          "height": 287
        },
        "outputId": "c5f1671e-6d5b-4dfc-accc-666e1f2fb454"
      },
      "source": [
        "Close.plot()"
      ],
      "execution_count": 20,
      "outputs": [
        {
          "output_type": "execute_result",
          "data": {
            "text/plain": [
              "<matplotlib.axes._subplots.AxesSubplot at 0x7f0e85223290>"
            ]
          },
          "metadata": {},
          "execution_count": 20
        },
        {
          "output_type": "display_data",
          "data": {
            "image/png": "[encoded data removed]",
            "text/plain": [
              "<Figure size 432x288 with 1 Axes>"
            ]
          },
          "metadata": {
            "needs_background": "light"
          }
        }
      ]
    },
    {
      "cell_type": "code",
      "metadata": {
        "colab": {
          "base_uri": "https://localhost:8080/",
          "height": 441
        },
        "id": "WZLNtOUH8bb8",
        "outputId": "9d08170c-8b48-4309-f11a-47a934b7e001"
      },
      "source": [
        "Close.plot(figsize=(20,10))"
      ],
      "execution_count": 21,
      "outputs": [
        {
          "output_type": "execute_result",
          "data": {
            "text/plain": [
              "<matplotlib.axes._subplots.AxesSubplot at 0x7f0e850538d0>"
            ]
          },
          "metadata": {},
          "execution_count": 21
        },
        {
          "output_type": "display_data",
          "data": {
            "image/png": "[encoded data removed]",
            "text/plain": [
              "<Figure size 1440x720 with 1 Axes>"
            ]
          },
          "metadata": {
            "needs_background": "light"
          }
        }
      ]
    },
    {
      "cell_type": "code",
      "metadata": {
        "colab": {
          "base_uri": "https://localhost:8080/",
          "height": 433
        },
        "id": "ZMlDci_y97RH",
        "outputId": "d1056630-1707-4fa2-a967-614f4d8602dc"
      },
      "source": [
        "Close.plot(figsize=(12,7))"
      ],
      "execution_count": 22,
      "outputs": [
        {
          "output_type": "execute_result",
          "data": {
            "text/plain": [
              "<matplotlib.axes._subplots.AxesSubplot at 0x7f0e84af4a10>"
            ]
          },
          "metadata": {},
          "execution_count": 22
        },
        {
          "output_type": "display_data",
          "data": {
            "image/png": "[encoded data removed]",
            "text/plain": [
              "<Figure size 864x504 with 1 Axes>"
            ]
          },
          "metadata": {
            "needs_background": "light"
          }
        }
      ]
    },
    {
      "cell_type": "code",
      "metadata": {
        "colab": {
          "base_uri": "https://localhost:8080/",
          "height": 35
        },
        "id": "hEXjtcHz-K6Z",
        "outputId": "e4ac206c-27d0-4b57-98eb-27faa77d703b"
      },
      "source": [
        "plt.savefig(\"nab.png\")"
      ],
      "execution_count": 23,
      "outputs": [
        {
          "output_type": "display_data",
          "data": {
            "text/plain": [
              "<Figure size 432x288 with 0 Axes>"
            ]
          },
          "metadata": {}
        }
      ]
    },
    {
      "cell_type": "code",
      "metadata": {
        "colab": {
          "base_uri": "https://localhost:8080/"
        },
        "id": "tlUvuAqqBADK",
        "outputId": "6b81baba-103a-4e7f-97db-0bfd54c3c5c3"
      },
      "source": [
        "tickers = ['NAB.AX', 'WBC.AX', 'ANZ.AX', 'CBA.AX']\n",
        "df = pdr.get_data_yahoo(tickers,start,end)"
      ],
      "execution_count": 29,
      "outputs": [
        {
          "output_type": "stream",
          "name": "stdout",
          "text": [
            "[*********************100%***********************]  4 of 4 completed\n"
          ]
        }
      ]
    },
    {
      "cell_type": "code",
      "metadata": {
        "colab": {
          "base_uri": "https://localhost:8080/",
          "height": 619
        },
        "id": "C3jYmrwdDeoV",
        "outputId": "dae57c1c-3c04-4b91-932c-2569d8937331"
      },
      "source": [
        "df.tail(10)"
      ],
      "execution_count": 30,
      "outputs": [
        {
          "output_type": "execute_result",
          "data": {
            "text/html": [
              "<div>\n",
              "<style scoped>\n",
              "    .dataframe tbody tr th:only-of-type {\n",
              "        vertical-align: middle;\n",
              "    }\n",
              "\n",
              "    .dataframe tbody tr th {\n",
              "        vertical-align: top;\n",
              "    }\n",
              "\n",
              "    .dataframe thead tr th {\n",
              "        text-align: left;\n",
              "    }\n",
              "\n",
              "    .dataframe thead tr:last-of-type th {\n",
              "        text-align: right;\n",
              "    }\n",
              "</style>\n",
              "<table border=\"1\" class=\"dataframe\">\n",
              "  <thead>\n",
              "    <tr>\n",
              "      <th></th>\n",
              "      <th colspan=\"4\" halign=\"left\">Adj Close</th>\n",
              "      <th colspan=\"4\" halign=\"left\">Close</th>\n",
              "      <th colspan=\"4\" halign=\"left\">High</th>\n",
              "      <th colspan=\"4\" halign=\"left\">Low</th>\n",
              "      <th colspan=\"4\" halign=\"left\">Open</th>\n",
              "      <th colspan=\"4\" halign=\"left\">Volume</th>\n",
              "    </tr>\n",
              "    <tr>\n",
              "      <th></th>\n",
              "      <th>ANZ.AX</th>\n",
              "      <th>CBA.AX</th>\n",
              "      <th>NAB.AX</th>\n",
              "      <th>WBC.AX</th>\n",
              "      <th>ANZ.AX</th>\n",
              "      <th>CBA.AX</th>\n",
              "      <th>NAB.AX</th>\n",
              "      <th>WBC.AX</th>\n",
              "      <th>ANZ.AX</th>\n",
              "      <th>CBA.AX</th>\n",
              "      <th>NAB.AX</th>\n",
              "      <th>WBC.AX</th>\n",
              "      <th>ANZ.AX</th>\n",
              "      <th>CBA.AX</th>\n",
              "      <th>NAB.AX</th>\n",
              "      <th>WBC.AX</th>\n",
              "      <th>ANZ.AX</th>\n",
              "      <th>CBA.AX</th>\n",
              "      <th>NAB.AX</th>\n",
              "      <th>WBC.AX</th>\n",
              "      <th>ANZ.AX</th>\n",
              "      <th>CBA.AX</th>\n",
              "      <th>NAB.AX</th>\n",
              "      <th>WBC.AX</th>\n",
              "    </tr>\n",
              "    <tr>\n",
              "      <th>Date</th>\n",
              "      <th></th>\n",
              "      <th></th>\n",
              "      <th></th>\n",
              "      <th></th>\n",
              "      <th></th>\n",
              "      <th></th>\n",
              "      <th></th>\n",
              "      <th></th>\n",
              "      <th></th>\n",
              "      <th></th>\n",
              "      <th></th>\n",
              "      <th></th>\n",
              "      <th></th>\n",
              "      <th></th>\n",
              "      <th></th>\n",
              "      <th></th>\n",
              "      <th></th>\n",
              "      <th></th>\n",
              "      <th></th>\n",
              "      <th></th>\n",
              "      <th></th>\n",
              "      <th></th>\n",
              "      <th></th>\n",
              "      <th></th>\n",
              "    </tr>\n",
              "  </thead>\n",
              "  <tbody>\n",
              "    <tr>\n",
              "      <th>2021-09-02</th>\n",
              "      <td>27.910000</td>\n",
              "      <td>101.370003</td>\n",
              "      <td>28.490000</td>\n",
              "      <td>26.030001</td>\n",
              "      <td>27.910000</td>\n",
              "      <td>101.370003</td>\n",
              "      <td>28.490000</td>\n",
              "      <td>26.030001</td>\n",
              "      <td>28.170000</td>\n",
              "      <td>102.000000</td>\n",
              "      <td>28.490000</td>\n",
              "      <td>26.219999</td>\n",
              "      <td>27.820000</td>\n",
              "      <td>100.410004</td>\n",
              "      <td>28.090000</td>\n",
              "      <td>25.915001</td>\n",
              "      <td>27.980000</td>\n",
              "      <td>101.500000</td>\n",
              "      <td>28.400000</td>\n",
              "      <td>26.129999</td>\n",
              "      <td>4344890</td>\n",
              "      <td>1887736.0</td>\n",
              "      <td>5917605.0</td>\n",
              "      <td>4608420.0</td>\n",
              "    </tr>\n",
              "    <tr>\n",
              "      <th>2021-09-03</th>\n",
              "      <td>27.870001</td>\n",
              "      <td>101.839996</td>\n",
              "      <td>28.700001</td>\n",
              "      <td>26.020000</td>\n",
              "      <td>27.870001</td>\n",
              "      <td>101.839996</td>\n",
              "      <td>28.700001</td>\n",
              "      <td>26.020000</td>\n",
              "      <td>28.010000</td>\n",
              "      <td>102.000000</td>\n",
              "      <td>28.780001</td>\n",
              "      <td>26.094999</td>\n",
              "      <td>27.700001</td>\n",
              "      <td>101.019997</td>\n",
              "      <td>28.340000</td>\n",
              "      <td>25.900000</td>\n",
              "      <td>27.910000</td>\n",
              "      <td>101.360001</td>\n",
              "      <td>28.500000</td>\n",
              "      <td>26.049999</td>\n",
              "      <td>4586554</td>\n",
              "      <td>1604540.0</td>\n",
              "      <td>6780611.0</td>\n",
              "      <td>3221700.0</td>\n",
              "    </tr>\n",
              "    <tr>\n",
              "      <th>2021-09-06</th>\n",
              "      <td>28.110001</td>\n",
              "      <td>102.160004</td>\n",
              "      <td>28.860001</td>\n",
              "      <td>25.990000</td>\n",
              "      <td>28.110001</td>\n",
              "      <td>102.160004</td>\n",
              "      <td>28.860001</td>\n",
              "      <td>25.990000</td>\n",
              "      <td>28.110001</td>\n",
              "      <td>102.160004</td>\n",
              "      <td>28.860001</td>\n",
              "      <td>25.990000</td>\n",
              "      <td>27.590000</td>\n",
              "      <td>100.629997</td>\n",
              "      <td>28.379999</td>\n",
              "      <td>25.670000</td>\n",
              "      <td>27.760000</td>\n",
              "      <td>101.309998</td>\n",
              "      <td>28.510000</td>\n",
              "      <td>25.879999</td>\n",
              "      <td>3925319</td>\n",
              "      <td>1458446.0</td>\n",
              "      <td>4803166.0</td>\n",
              "      <td>3889635.0</td>\n",
              "    </tr>\n",
              "    <tr>\n",
              "      <th>2021-09-07</th>\n",
              "      <td>28.080000</td>\n",
              "      <td>102.139999</td>\n",
              "      <td>28.670000</td>\n",
              "      <td>26.030001</td>\n",
              "      <td>28.080000</td>\n",
              "      <td>102.139999</td>\n",
              "      <td>28.670000</td>\n",
              "      <td>26.030001</td>\n",
              "      <td>28.150000</td>\n",
              "      <td>102.489998</td>\n",
              "      <td>28.879999</td>\n",
              "      <td>26.049999</td>\n",
              "      <td>27.889999</td>\n",
              "      <td>101.580002</td>\n",
              "      <td>28.469999</td>\n",
              "      <td>25.809999</td>\n",
              "      <td>28.030001</td>\n",
              "      <td>102.000000</td>\n",
              "      <td>28.799999</td>\n",
              "      <td>25.910000</td>\n",
              "      <td>2719070</td>\n",
              "      <td>1332462.0</td>\n",
              "      <td>3677009.0</td>\n",
              "      <td>3039361.0</td>\n",
              "    </tr>\n",
              "    <tr>\n",
              "      <th>2021-09-08</th>\n",
              "      <td>28.020000</td>\n",
              "      <td>102.919998</td>\n",
              "      <td>28.850000</td>\n",
              "      <td>26.090000</td>\n",
              "      <td>28.020000</td>\n",
              "      <td>102.919998</td>\n",
              "      <td>28.850000</td>\n",
              "      <td>26.090000</td>\n",
              "      <td>28.139999</td>\n",
              "      <td>103.300003</td>\n",
              "      <td>28.850000</td>\n",
              "      <td>26.139999</td>\n",
              "      <td>27.820000</td>\n",
              "      <td>101.519997</td>\n",
              "      <td>28.440001</td>\n",
              "      <td>25.870001</td>\n",
              "      <td>27.870001</td>\n",
              "      <td>101.580002</td>\n",
              "      <td>28.450001</td>\n",
              "      <td>25.889999</td>\n",
              "      <td>3619563</td>\n",
              "      <td>2118352.0</td>\n",
              "      <td>5225645.0</td>\n",
              "      <td>4588043.0</td>\n",
              "    </tr>\n",
              "    <tr>\n",
              "      <th>2021-09-09</th>\n",
              "      <td>27.510000</td>\n",
              "      <td>100.550003</td>\n",
              "      <td>28.400000</td>\n",
              "      <td>25.600000</td>\n",
              "      <td>27.510000</td>\n",
              "      <td>100.550003</td>\n",
              "      <td>28.400000</td>\n",
              "      <td>25.600000</td>\n",
              "      <td>28.090000</td>\n",
              "      <td>102.300003</td>\n",
              "      <td>28.740000</td>\n",
              "      <td>25.959999</td>\n",
              "      <td>27.379999</td>\n",
              "      <td>100.089996</td>\n",
              "      <td>28.160000</td>\n",
              "      <td>25.469999</td>\n",
              "      <td>27.820000</td>\n",
              "      <td>102.050003</td>\n",
              "      <td>28.680000</td>\n",
              "      <td>25.940001</td>\n",
              "      <td>7094604</td>\n",
              "      <td>2468569.0</td>\n",
              "      <td>6209123.0</td>\n",
              "      <td>6285165.0</td>\n",
              "    </tr>\n",
              "    <tr>\n",
              "      <th>2021-09-10</th>\n",
              "      <td>27.590000</td>\n",
              "      <td>101.089996</td>\n",
              "      <td>28.450001</td>\n",
              "      <td>25.650000</td>\n",
              "      <td>27.590000</td>\n",
              "      <td>101.089996</td>\n",
              "      <td>28.450001</td>\n",
              "      <td>25.650000</td>\n",
              "      <td>27.770000</td>\n",
              "      <td>101.989998</td>\n",
              "      <td>28.730000</td>\n",
              "      <td>25.910000</td>\n",
              "      <td>27.469999</td>\n",
              "      <td>100.680000</td>\n",
              "      <td>28.270000</td>\n",
              "      <td>25.570000</td>\n",
              "      <td>27.709999</td>\n",
              "      <td>101.919998</td>\n",
              "      <td>28.650000</td>\n",
              "      <td>25.860001</td>\n",
              "      <td>3590760</td>\n",
              "      <td>1995586.0</td>\n",
              "      <td>4490010.0</td>\n",
              "      <td>3862459.0</td>\n",
              "    </tr>\n",
              "    <tr>\n",
              "      <th>2021-09-13</th>\n",
              "      <td>27.620001</td>\n",
              "      <td>101.300003</td>\n",
              "      <td>28.180000</td>\n",
              "      <td>25.639999</td>\n",
              "      <td>27.620001</td>\n",
              "      <td>101.300003</td>\n",
              "      <td>28.180000</td>\n",
              "      <td>25.639999</td>\n",
              "      <td>27.750000</td>\n",
              "      <td>101.370003</td>\n",
              "      <td>28.340000</td>\n",
              "      <td>25.709999</td>\n",
              "      <td>27.485001</td>\n",
              "      <td>100.389999</td>\n",
              "      <td>28.030001</td>\n",
              "      <td>25.500000</td>\n",
              "      <td>27.580000</td>\n",
              "      <td>100.779999</td>\n",
              "      <td>28.250000</td>\n",
              "      <td>25.650000</td>\n",
              "      <td>2754276</td>\n",
              "      <td>1119691.0</td>\n",
              "      <td>4081323.0</td>\n",
              "      <td>3159366.0</td>\n",
              "    </tr>\n",
              "    <tr>\n",
              "      <th>2021-09-14</th>\n",
              "      <td>27.709999</td>\n",
              "      <td>101.580002</td>\n",
              "      <td>28.230000</td>\n",
              "      <td>25.719999</td>\n",
              "      <td>27.709999</td>\n",
              "      <td>101.580002</td>\n",
              "      <td>28.230000</td>\n",
              "      <td>25.719999</td>\n",
              "      <td>27.799999</td>\n",
              "      <td>101.959999</td>\n",
              "      <td>28.340000</td>\n",
              "      <td>25.840000</td>\n",
              "      <td>27.520000</td>\n",
              "      <td>100.110001</td>\n",
              "      <td>28.040001</td>\n",
              "      <td>25.480000</td>\n",
              "      <td>27.570000</td>\n",
              "      <td>100.900002</td>\n",
              "      <td>28.299999</td>\n",
              "      <td>25.700001</td>\n",
              "      <td>4893194</td>\n",
              "      <td>2114634.0</td>\n",
              "      <td>5473211.0</td>\n",
              "      <td>5793640.0</td>\n",
              "    </tr>\n",
              "    <tr>\n",
              "      <th>2021-09-15</th>\n",
              "      <td>27.610001</td>\n",
              "      <td>101.410004</td>\n",
              "      <td>28.139999</td>\n",
              "      <td>25.790001</td>\n",
              "      <td>27.610001</td>\n",
              "      <td>101.410004</td>\n",
              "      <td>28.139999</td>\n",
              "      <td>25.790001</td>\n",
              "      <td>27.690001</td>\n",
              "      <td>101.790001</td>\n",
              "      <td>28.200001</td>\n",
              "      <td>25.900000</td>\n",
              "      <td>27.410000</td>\n",
              "      <td>100.379997</td>\n",
              "      <td>27.889999</td>\n",
              "      <td>25.459999</td>\n",
              "      <td>27.500000</td>\n",
              "      <td>101.129997</td>\n",
              "      <td>28.010000</td>\n",
              "      <td>25.629999</td>\n",
              "      <td>4453646</td>\n",
              "      <td>1668541.0</td>\n",
              "      <td>4458631.0</td>\n",
              "      <td>4874131.0</td>\n",
              "    </tr>\n",
              "  </tbody>\n",
              "</table>\n",
              "</div>"
            ],
            "text/plain": [
              "            Adj Close                         ...     Volume                      \n",
              "               ANZ.AX      CBA.AX     NAB.AX  ...     CBA.AX     NAB.AX     WBC.AX\n",
              "Date                                          ...                                 \n",
              "2021-09-02  27.910000  101.370003  28.490000  ...  1887736.0  5917605.0  4608420.0\n",
              "2021-09-03  27.870001  101.839996  28.700001  ...  1604540.0  6780611.0  3221700.0\n",
              "2021-09-06  28.110001  102.160004  28.860001  ...  1458446.0  4803166.0  3889635.0\n",
              "2021-09-07  28.080000  102.139999  28.670000  ...  1332462.0  3677009.0  3039361.0\n",
              "2021-09-08  28.020000  102.919998  28.850000  ...  2118352.0  5225645.0  4588043.0\n",
              "2021-09-09  27.510000  100.550003  28.400000  ...  2468569.0  6209123.0  6285165.0\n",
              "2021-09-10  27.590000  101.089996  28.450001  ...  1995586.0  4490010.0  3862459.0\n",
              "2021-09-13  27.620001  101.300003  28.180000  ...  1119691.0  4081323.0  3159366.0\n",
              "2021-09-14  27.709999  101.580002  28.230000  ...  2114634.0  5473211.0  5793640.0\n",
              "2021-09-15  27.610001  101.410004  28.139999  ...  1668541.0  4458631.0  4874131.0\n",
              "\n",
              "[10 rows x 24 columns]"
            ]
          },
          "metadata": {},
          "execution_count": 30
        }
      ]
    },
    {
      "cell_type": "code",
      "metadata": {
        "colab": {
          "base_uri": "https://localhost:8080/"
        },
        "id": "hFSpyK4BEN3U",
        "outputId": "4f63ddaf-0163-4620-e629-f80819d98730"
      },
      "source": [
        "df.index, df.columns"
      ],
      "execution_count": 31,
      "outputs": [
        {
          "output_type": "execute_result",
          "data": {
            "text/plain": [
              "(DatetimeIndex(['2009-01-02', '2009-01-05', '2009-01-06', '2009-01-07',\n",
              "                '2009-01-08', '2009-01-09', '2009-01-12', '2009-01-13',\n",
              "                '2009-01-14', '2009-01-15',\n",
              "                ...\n",
              "                '2021-09-02', '2021-09-03', '2021-09-06', '2021-09-07',\n",
              "                '2021-09-08', '2021-09-09', '2021-09-10', '2021-09-13',\n",
              "                '2021-09-14', '2021-09-15'],\n",
              "               dtype='datetime64[ns]', name='Date', length=3214, freq=None),\n",
              " MultiIndex([('Adj Close', 'ANZ.AX'),\n",
              "             ('Adj Close', 'CBA.AX'),\n",
              "             ('Adj Close', 'NAB.AX'),\n",
              "             ('Adj Close', 'WBC.AX'),\n",
              "             (    'Close', 'ANZ.AX'),\n",
              "             (    'Close', 'CBA.AX'),\n",
              "             (    'Close', 'NAB.AX'),\n",
              "             (    'Close', 'WBC.AX'),\n",
              "             (     'High', 'ANZ.AX'),\n",
              "             (     'High', 'CBA.AX'),\n",
              "             (     'High', 'NAB.AX'),\n",
              "             (     'High', 'WBC.AX'),\n",
              "             (      'Low', 'ANZ.AX'),\n",
              "             (      'Low', 'CBA.AX'),\n",
              "             (      'Low', 'NAB.AX'),\n",
              "             (      'Low', 'WBC.AX'),\n",
              "             (     'Open', 'ANZ.AX'),\n",
              "             (     'Open', 'CBA.AX'),\n",
              "             (     'Open', 'NAB.AX'),\n",
              "             (     'Open', 'WBC.AX'),\n",
              "             (   'Volume', 'ANZ.AX'),\n",
              "             (   'Volume', 'CBA.AX'),\n",
              "             (   'Volume', 'NAB.AX'),\n",
              "             (   'Volume', 'WBC.AX')],\n",
              "            ))"
            ]
          },
          "metadata": {},
          "execution_count": 31
        }
      ]
    },
    {
      "cell_type": "code",
      "metadata": {
        "colab": {
          "base_uri": "https://localhost:8080/",
          "height": 455
        },
        "id": "gFdPkwvwEYrN",
        "outputId": "bf44bbc1-bd6e-4f98-883a-1af2c2b9c6e2"
      },
      "source": [
        "Close=df['Close']\n",
        "Close"
      ],
      "execution_count": 32,
      "outputs": [
        {
          "output_type": "execute_result",
          "data": {
            "text/html": [
              "<div>\n",
              "<style scoped>\n",
              "    .dataframe tbody tr th:only-of-type {\n",
              "        vertical-align: middle;\n",
              "    }\n",
              "\n",
              "    .dataframe tbody tr th {\n",
              "        vertical-align: top;\n",
              "    }\n",
              "\n",
              "    .dataframe thead th {\n",
              "        text-align: right;\n",
              "    }\n",
              "</style>\n",
              "<table border=\"1\" class=\"dataframe\">\n",
              "  <thead>\n",
              "    <tr style=\"text-align: right;\">\n",
              "      <th></th>\n",
              "      <th>ANZ.AX</th>\n",
              "      <th>CBA.AX</th>\n",
              "      <th>NAB.AX</th>\n",
              "      <th>WBC.AX</th>\n",
              "    </tr>\n",
              "    <tr>\n",
              "      <th>Date</th>\n",
              "      <th></th>\n",
              "      <th></th>\n",
              "      <th></th>\n",
              "      <th></th>\n",
              "    </tr>\n",
              "  </thead>\n",
              "  <tbody>\n",
              "    <tr>\n",
              "      <th>2009-01-02</th>\n",
              "      <td>15.180000</td>\n",
              "      <td>29.042646</td>\n",
              "      <td>19.406162</td>\n",
              "      <td>16.646669</td>\n",
              "    </tr>\n",
              "    <tr>\n",
              "      <th>2009-01-05</th>\n",
              "      <td>15.070000</td>\n",
              "      <td>28.445881</td>\n",
              "      <td>19.244446</td>\n",
              "      <td>16.527479</td>\n",
              "    </tr>\n",
              "    <tr>\n",
              "      <th>2009-01-06</th>\n",
              "      <td>15.400000</td>\n",
              "      <td>29.311192</td>\n",
              "      <td>19.729599</td>\n",
              "      <td>16.914843</td>\n",
              "    </tr>\n",
              "    <tr>\n",
              "      <th>2009-01-07</th>\n",
              "      <td>15.350000</td>\n",
              "      <td>28.793995</td>\n",
              "      <td>19.872292</td>\n",
              "      <td>16.755924</td>\n",
              "    </tr>\n",
              "    <tr>\n",
              "      <th>2009-01-08</th>\n",
              "      <td>15.220000</td>\n",
              "      <td>28.406096</td>\n",
              "      <td>19.843754</td>\n",
              "      <td>16.457954</td>\n",
              "    </tr>\n",
              "    <tr>\n",
              "      <th>...</th>\n",
              "      <td>...</td>\n",
              "      <td>...</td>\n",
              "      <td>...</td>\n",
              "      <td>...</td>\n",
              "    </tr>\n",
              "    <tr>\n",
              "      <th>2021-09-09</th>\n",
              "      <td>27.510000</td>\n",
              "      <td>100.550003</td>\n",
              "      <td>28.400000</td>\n",
              "      <td>25.600000</td>\n",
              "    </tr>\n",
              "    <tr>\n",
              "      <th>2021-09-10</th>\n",
              "      <td>27.590000</td>\n",
              "      <td>101.089996</td>\n",
              "      <td>28.450001</td>\n",
              "      <td>25.650000</td>\n",
              "    </tr>\n",
              "    <tr>\n",
              "      <th>2021-09-13</th>\n",
              "      <td>27.620001</td>\n",
              "      <td>101.300003</td>\n",
              "      <td>28.180000</td>\n",
              "      <td>25.639999</td>\n",
              "    </tr>\n",
              "    <tr>\n",
              "      <th>2021-09-14</th>\n",
              "      <td>27.709999</td>\n",
              "      <td>101.580002</td>\n",
              "      <td>28.230000</td>\n",
              "      <td>25.719999</td>\n",
              "    </tr>\n",
              "    <tr>\n",
              "      <th>2021-09-15</th>\n",
              "      <td>27.610001</td>\n",
              "      <td>101.410004</td>\n",
              "      <td>28.139999</td>\n",
              "      <td>25.790001</td>\n",
              "    </tr>\n",
              "  </tbody>\n",
              "</table>\n",
              "<p>3214 rows × 4 columns</p>\n",
              "</div>"
            ],
            "text/plain": [
              "               ANZ.AX      CBA.AX     NAB.AX     WBC.AX\n",
              "Date                                                   \n",
              "2009-01-02  15.180000   29.042646  19.406162  16.646669\n",
              "2009-01-05  15.070000   28.445881  19.244446  16.527479\n",
              "2009-01-06  15.400000   29.311192  19.729599  16.914843\n",
              "2009-01-07  15.350000   28.793995  19.872292  16.755924\n",
              "2009-01-08  15.220000   28.406096  19.843754  16.457954\n",
              "...               ...         ...        ...        ...\n",
              "2021-09-09  27.510000  100.550003  28.400000  25.600000\n",
              "2021-09-10  27.590000  101.089996  28.450001  25.650000\n",
              "2021-09-13  27.620001  101.300003  28.180000  25.639999\n",
              "2021-09-14  27.709999  101.580002  28.230000  25.719999\n",
              "2021-09-15  27.610001  101.410004  28.139999  25.790001\n",
              "\n",
              "[3214 rows x 4 columns]"
            ]
          },
          "metadata": {},
          "execution_count": 32
        }
      ]
    },
    {
      "cell_type": "code",
      "metadata": {
        "colab": {
          "base_uri": "https://localhost:8080/",
          "height": 300
        },
        "id": "THkwM4A7EoOf",
        "outputId": "e5b25016-5440-4089-e830-8f9001458f6e"
      },
      "source": [
        "Close.describe(percentiles=[.1, .5, .9])"
      ],
      "execution_count": 33,
      "outputs": [
        {
          "output_type": "execute_result",
          "data": {
            "text/html": [
              "<div>\n",
              "<style scoped>\n",
              "    .dataframe tbody tr th:only-of-type {\n",
              "        vertical-align: middle;\n",
              "    }\n",
              "\n",
              "    .dataframe tbody tr th {\n",
              "        vertical-align: top;\n",
              "    }\n",
              "\n",
              "    .dataframe thead th {\n",
              "        text-align: right;\n",
              "    }\n",
              "</style>\n",
              "<table border=\"1\" class=\"dataframe\">\n",
              "  <thead>\n",
              "    <tr style=\"text-align: right;\">\n",
              "      <th></th>\n",
              "      <th>ANZ.AX</th>\n",
              "      <th>CBA.AX</th>\n",
              "      <th>NAB.AX</th>\n",
              "      <th>WBC.AX</th>\n",
              "    </tr>\n",
              "  </thead>\n",
              "  <tbody>\n",
              "    <tr>\n",
              "      <th>count</th>\n",
              "      <td>3214.000000</td>\n",
              "      <td>3212.000000</td>\n",
              "      <td>3212.000000</td>\n",
              "      <td>3212.000000</td>\n",
              "    </tr>\n",
              "    <tr>\n",
              "      <th>mean</th>\n",
              "      <td>25.874942</td>\n",
              "      <td>68.705414</td>\n",
              "      <td>26.603584</td>\n",
              "      <td>26.865908</td>\n",
              "    </tr>\n",
              "    <tr>\n",
              "      <th>std</th>\n",
              "      <td>4.803345</td>\n",
              "      <td>15.493867</td>\n",
              "      <td>4.390008</td>\n",
              "      <td>5.304591</td>\n",
              "    </tr>\n",
              "    <tr>\n",
              "      <th>min</th>\n",
              "      <td>11.890000</td>\n",
              "      <td>23.940290</td>\n",
              "      <td>13.880000</td>\n",
              "      <td>14.100000</td>\n",
              "    </tr>\n",
              "    <tr>\n",
              "      <th>10%</th>\n",
              "      <td>19.320000</td>\n",
              "      <td>49.015433</td>\n",
              "      <td>21.280190</td>\n",
              "      <td>19.827018</td>\n",
              "    </tr>\n",
              "    <tr>\n",
              "      <th>50%</th>\n",
              "      <td>26.375000</td>\n",
              "      <td>72.882553</td>\n",
              "      <td>26.608685</td>\n",
              "      <td>27.145195</td>\n",
              "    </tr>\n",
              "    <tr>\n",
              "      <th>90%</th>\n",
              "      <td>32.090000</td>\n",
              "      <td>84.769997</td>\n",
              "      <td>32.459999</td>\n",
              "      <td>33.401602</td>\n",
              "    </tr>\n",
              "    <tr>\n",
              "      <th>max</th>\n",
              "      <td>37.189999</td>\n",
              "      <td>108.169998</td>\n",
              "      <td>37.642250</td>\n",
              "      <td>39.620266</td>\n",
              "    </tr>\n",
              "  </tbody>\n",
              "</table>\n",
              "</div>"
            ],
            "text/plain": [
              "            ANZ.AX       CBA.AX       NAB.AX       WBC.AX\n",
              "count  3214.000000  3212.000000  3212.000000  3212.000000\n",
              "mean     25.874942    68.705414    26.603584    26.865908\n",
              "std       4.803345    15.493867     4.390008     5.304591\n",
              "min      11.890000    23.940290    13.880000    14.100000\n",
              "10%      19.320000    49.015433    21.280190    19.827018\n",
              "50%      26.375000    72.882553    26.608685    27.145195\n",
              "90%      32.090000    84.769997    32.459999    33.401602\n",
              "max      37.189999   108.169998    37.642250    39.620266"
            ]
          },
          "metadata": {},
          "execution_count": 33
        }
      ]
    },
    {
      "cell_type": "code",
      "metadata": {
        "colab": {
          "base_uri": "https://localhost:8080/",
          "height": 416
        },
        "id": "uqJ2e7uFFLVV",
        "outputId": "0168f7ee-96a9-4b58-da4e-660d9769551b"
      },
      "source": [
        "Close.plot(figsize=(12,7))\n",
        "plt.savefig(\"aussie_banks.png\")"
      ],
      "execution_count": 34,
      "outputs": [
        {
          "output_type": "display_data",
          "data": {
            "image/png": "[encoded data removed]",
            "text/plain": [
              "<Figure size 864x504 with 1 Axes>"
            ]
          },
          "metadata": {
            "needs_background": "light"
          }
        }
      ]
    },
    {
      "cell_type": "code",
      "metadata": {
        "id": "zLCyoyTkFjLg"
      },
      "source": [
        ""
      ],
      "execution_count": null,
      "outputs": []
    }
  ]
}