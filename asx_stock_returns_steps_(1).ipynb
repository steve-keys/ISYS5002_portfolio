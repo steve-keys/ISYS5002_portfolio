{
  "nbformat": 4,
  "nbformat_minor": 0,
  "metadata": {
    "colab": {
      "name": "asx_stock_returns_steps (1).ipynb",
      "provenance": [],
      "include_colab_link": true
    },
    "kernelspec": {
      "name": "python3",
      "display_name": "Python 3"
    },
    "language_info": {
      "name": "python"
    }
  },
  "cells": [
    {
      "cell_type": "markdown",
      "metadata": {
        "id": "view-in-github",
        "colab_type": "text"
      },
      "source": [
        "<a href=\"https://colab.research.google.com/github/steve-keys/ISYS5002_portfolio/blob/main/asx_stock_returns_steps_(1).ipynb\" target=\"_parent\"><img src=\"https://colab.research.google.com/assets/colab-badge.svg\" alt=\"Open In Colab\"/></a>"
      ]
    },
    {
      "cell_type": "markdown",
      "metadata": {
        "id": "HNZIlM6oj2Aj"
      },
      "source": [
        "In this notebook we will:\n",
        "\n",
        "* Download prices\n",
        "* Calculate Returns\n",
        "* Calculate mean and standard deviation of returns\n",
        "\n",
        "Lets load the modules first.\n"
      ]
    },
    {
      "cell_type": "code",
      "metadata": {
        "colab": {
          "base_uri": "https://localhost:8080/"
        },
        "id": "CBUGKw5V1eAg",
        "outputId": "abe78c45-4e9d-4ded-ee7b-306db04b920a"
      },
      "source": [
        "pip install pandas-datareader\n"
      ],
      "execution_count": 2,
      "outputs": [
        {
          "output_type": "stream",
          "name": "stdout",
          "text": [
            "Requirement already satisfied: pandas-datareader in /usr/local/lib/python3.7/dist-packages (0.9.0)\n",
            "Requirement already satisfied: requests>=2.19.0 in /usr/local/lib/python3.7/dist-packages (from pandas-datareader) (2.23.0)\n",
            "Requirement already satisfied: lxml in /usr/local/lib/python3.7/dist-packages (from pandas-datareader) (4.2.6)\n",
            "Requirement already satisfied: pandas>=0.23 in /usr/local/lib/python3.7/dist-packages (from pandas-datareader) (1.1.5)\n",
            "Requirement already satisfied: numpy>=1.15.4 in /usr/local/lib/python3.7/dist-packages (from pandas>=0.23->pandas-datareader) (1.19.5)\n",
            "Requirement already satisfied: python-dateutil>=2.7.3 in /usr/local/lib/python3.7/dist-packages (from pandas>=0.23->pandas-datareader) (2.8.2)\n",
            "Requirement already satisfied: pytz>=2017.2 in /usr/local/lib/python3.7/dist-packages (from pandas>=0.23->pandas-datareader) (2018.9)\n",
            "Requirement already satisfied: six>=1.5 in /usr/local/lib/python3.7/dist-packages (from python-dateutil>=2.7.3->pandas>=0.23->pandas-datareader) (1.15.0)\n",
            "Requirement already satisfied: chardet<4,>=3.0.2 in /usr/local/lib/python3.7/dist-packages (from requests>=2.19.0->pandas-datareader) (3.0.4)\n",
            "Requirement already satisfied: urllib3!=1.25.0,!=1.25.1,<1.26,>=1.21.1 in /usr/local/lib/python3.7/dist-packages (from requests>=2.19.0->pandas-datareader) (1.24.3)\n",
            "Requirement already satisfied: idna<3,>=2.5 in /usr/local/lib/python3.7/dist-packages (from requests>=2.19.0->pandas-datareader) (2.10)\n",
            "Requirement already satisfied: certifi>=2017.4.17 in /usr/local/lib/python3.7/dist-packages (from requests>=2.19.0->pandas-datareader) (2021.5.30)\n"
          ]
        }
      ]
    },
    {
      "cell_type": "code",
      "metadata": {
        "id": "65AKEsMMj7l2"
      },
      "source": [
        "import pandas as pd\n",
        "import matplotlib.pyplot as plt\n",
        "from pandas_datareader import data as pdr"
      ],
      "execution_count": 3,
      "outputs": []
    },
    {
      "cell_type": "markdown",
      "metadata": {
        "id": "NECkTYl1rVYg"
      },
      "source": [
        "Work around as Yahoo FInance made a change causing error with Pandas Datareader \n"
      ]
    },
    {
      "cell_type": "code",
      "metadata": {
        "id": "eQnf6ciwrUBZ",
        "colab": {
          "base_uri": "https://localhost:8080/"
        },
        "outputId": "e442ea94-a3b0-403e-9eb7-801ccb490cdb"
      },
      "source": [
        "!pip install yfinance\n",
        "import yfinance as yfin\n",
        "yfin.pdr_override()"
      ],
      "execution_count": 4,
      "outputs": [
        {
          "output_type": "stream",
          "name": "stdout",
          "text": [
            "Collecting yfinance\n",
            "  Downloading yfinance-0.1.63.tar.gz (26 kB)\n",
            "Requirement already satisfied: pandas>=0.24 in /usr/local/lib/python3.7/dist-packages (from yfinance) (1.1.5)\n",
            "Requirement already satisfied: numpy>=1.15 in /usr/local/lib/python3.7/dist-packages (from yfinance) (1.19.5)\n",
            "Requirement already satisfied: requests>=2.20 in /usr/local/lib/python3.7/dist-packages (from yfinance) (2.23.0)\n",
            "Requirement already satisfied: multitasking>=0.0.7 in /usr/local/lib/python3.7/dist-packages (from yfinance) (0.0.9)\n",
            "Collecting lxml>=4.5.1\n",
            "  Downloading lxml-4.6.3-cp37-cp37m-manylinux2014_x86_64.whl (6.3 MB)\n",
            "\u001b[K     |████████████████████████████████| 6.3 MB 4.2 MB/s \n",
            "\u001b[?25hRequirement already satisfied: python-dateutil>=2.7.3 in /usr/local/lib/python3.7/dist-packages (from pandas>=0.24->yfinance) (2.8.2)\n",
            "Requirement already satisfied: pytz>=2017.2 in /usr/local/lib/python3.7/dist-packages (from pandas>=0.24->yfinance) (2018.9)\n",
            "Requirement already satisfied: six>=1.5 in /usr/local/lib/python3.7/dist-packages (from python-dateutil>=2.7.3->pandas>=0.24->yfinance) (1.15.0)\n",
            "Requirement already satisfied: certifi>=2017.4.17 in /usr/local/lib/python3.7/dist-packages (from requests>=2.20->yfinance) (2021.5.30)\n",
            "Requirement already satisfied: urllib3!=1.25.0,!=1.25.1,<1.26,>=1.21.1 in /usr/local/lib/python3.7/dist-packages (from requests>=2.20->yfinance) (1.24.3)\n",
            "Requirement already satisfied: chardet<4,>=3.0.2 in /usr/local/lib/python3.7/dist-packages (from requests>=2.20->yfinance) (3.0.4)\n",
            "Requirement already satisfied: idna<3,>=2.5 in /usr/local/lib/python3.7/dist-packages (from requests>=2.20->yfinance) (2.10)\n",
            "Building wheels for collected packages: yfinance\n",
            "  Building wheel for yfinance (setup.py) ... \u001b[?25l\u001b[?25hdone\n",
            "  Created wheel for yfinance: filename=yfinance-0.1.63-py2.py3-none-any.whl size=23918 sha256=d3bfec100e1e9d32ecff317036f13a1b8f66f66a6dc156ce6e9ee39dd09a7207\n",
            "  Stored in directory: /root/.cache/pip/wheels/fe/87/8b/7ec24486e001d3926537f5f7801f57a74d181be25b11157983\n",
            "Successfully built yfinance\n",
            "Installing collected packages: lxml, yfinance\n",
            "  Attempting uninstall: lxml\n",
            "    Found existing installation: lxml 4.2.6\n",
            "    Uninstalling lxml-4.2.6:\n",
            "      Successfully uninstalled lxml-4.2.6\n",
            "Successfully installed lxml-4.6.3 yfinance-0.1.63\n"
          ]
        }
      ]
    },
    {
      "cell_type": "markdown",
      "metadata": {
        "id": "NoqWddgEnsgn"
      },
      "source": [
        "## Step 1: Specify date range for analysis \n",
        "\n",
        "Here we begin by creating start and end dates using pythons datetime module. "
      ]
    },
    {
      "cell_type": "code",
      "metadata": {
        "id": "RPfSzWb7gZDE",
        "colab": {
          "base_uri": "https://localhost:8080/"
        },
        "outputId": "3b06f0d9-18ca-4830-d3d1-432c665cb762"
      },
      "source": [
        "help(pdr)"
      ],
      "execution_count": 5,
      "outputs": [
        {
          "output_type": "stream",
          "name": "stdout",
          "text": [
            "Help on module pandas_datareader.data in pandas_datareader:\n",
            "\n",
            "NAME\n",
            "    pandas_datareader.data - Module contains tools for collecting data from various remote sources\n",
            "\n",
            "FUNCTIONS\n",
            "    DataReader = download(tickers, start=None, end=None, actions=False, threads=True, group_by='column', auto_adjust=False, back_adjust=False, progress=True, period='max', show_errors=True, interval='1d', prepost=False, proxy=None, rounding=False, **kwargs)\n",
            "        Download yahoo tickers\n",
            "        :Parameters:\n",
            "            tickers : str, list\n",
            "                List of tickers to download\n",
            "            period : str\n",
            "                Valid periods: 1d,5d,1mo,3mo,6mo,1y,2y,5y,10y,ytd,max\n",
            "                Either Use period parameter or use start and end\n",
            "            interval : str\n",
            "                Valid intervals: 1m,2m,5m,15m,30m,60m,90m,1h,1d,5d,1wk,1mo,3mo\n",
            "                Intraday data cannot extend last 60 days\n",
            "            start: str\n",
            "                Download start date string (YYYY-MM-DD) or _datetime.\n",
            "                Default is 1900-01-01\n",
            "            end: str\n",
            "                Download end date string (YYYY-MM-DD) or _datetime.\n",
            "                Default is now\n",
            "            group_by : str\n",
            "                Group by 'ticker' or 'column' (default)\n",
            "            prepost : bool\n",
            "                Include Pre and Post market data in results?\n",
            "                Default is False\n",
            "            auto_adjust: bool\n",
            "                Adjust all OHLC automatically? Default is False\n",
            "            actions: bool\n",
            "                Download dividend + stock splits data. Default is False\n",
            "            threads: bool / int\n",
            "                How many threads to use for mass downloading. Default is True\n",
            "            proxy: str\n",
            "                Optional. Proxy server URL scheme. Default is None\n",
            "            rounding: bool\n",
            "                Optional. Round values to 2 decimal places?\n",
            "            show_errors: bool\n",
            "                Optional. Doesn't print errors if True\n",
            "    \n",
            "    get_components_yahoo = _get_data(idx_sym)\n",
            "        Returns DataFrame containing list of component information for\n",
            "        index represented in idx_sym from yahoo. Includes component symbol\n",
            "        (ticker), exchange, and name.\n",
            "        \n",
            "        Parameters\n",
            "        ----------\n",
            "        idx_sym : str\n",
            "            Stock index symbol\n",
            "            Examples:\n",
            "            '^DJI' (Dow Jones Industrial Average)\n",
            "            '^NYA' (NYSE Composite)\n",
            "            '^IXIC' (NASDAQ Composite)\n",
            "        \n",
            "            See: http://finance.yahoo.com/indices for other index symbols\n",
            "        \n",
            "        Returns\n",
            "        -------\n",
            "        idx_df : DataFrame\n",
            "    \n",
            "    get_dailysummary_iex(*args, **kwargs)\n",
            "        Returns a summary of daily market volume statistics. Without parameters,\n",
            "        this will return the most recent trading session by default.\n",
            "        \n",
            "        Parameters\n",
            "        ----------\n",
            "        start : string, int, date, datetime, Timestamp\n",
            "            The beginning of the date range.\n",
            "        end : string, int, date, datetime, Timestamp\n",
            "            The end of the date range.\n",
            "        \n",
            "        Reference: https://www.iextrading.com/developer/docs/#historical-daily\n",
            "        \n",
            "        :return: DataFrame\n",
            "    \n",
            "    get_data_enigma(*args, **kwargs)\n",
            "    \n",
            "    get_data_famafrench(*args, **kwargs)\n",
            "    \n",
            "    get_data_fred(*args, **kwargs)\n",
            "    \n",
            "    get_data_moex(*args, **kwargs)\n",
            "    \n",
            "    get_data_quandl(*args, **kwargs)\n",
            "    \n",
            "    get_data_stooq(*args, **kwargs)\n",
            "    \n",
            "    get_data_yahoo = download(tickers, start=None, end=None, actions=False, threads=True, group_by='column', auto_adjust=False, back_adjust=False, progress=True, period='max', show_errors=True, interval='1d', prepost=False, proxy=None, rounding=False, **kwargs)\n",
            "        Download yahoo tickers\n",
            "        :Parameters:\n",
            "            tickers : str, list\n",
            "                List of tickers to download\n",
            "            period : str\n",
            "                Valid periods: 1d,5d,1mo,3mo,6mo,1y,2y,5y,10y,ytd,max\n",
            "                Either Use period parameter or use start and end\n",
            "            interval : str\n",
            "                Valid intervals: 1m,2m,5m,15m,30m,60m,90m,1h,1d,5d,1wk,1mo,3mo\n",
            "                Intraday data cannot extend last 60 days\n",
            "            start: str\n",
            "                Download start date string (YYYY-MM-DD) or _datetime.\n",
            "                Default is 1900-01-01\n",
            "            end: str\n",
            "                Download end date string (YYYY-MM-DD) or _datetime.\n",
            "                Default is now\n",
            "            group_by : str\n",
            "                Group by 'ticker' or 'column' (default)\n",
            "            prepost : bool\n",
            "                Include Pre and Post market data in results?\n",
            "                Default is False\n",
            "            auto_adjust: bool\n",
            "                Adjust all OHLC automatically? Default is False\n",
            "            actions: bool\n",
            "                Download dividend + stock splits data. Default is False\n",
            "            threads: bool / int\n",
            "                How many threads to use for mass downloading. Default is True\n",
            "            proxy: str\n",
            "                Optional. Proxy server URL scheme. Default is None\n",
            "            rounding: bool\n",
            "                Optional. Round values to 2 decimal places?\n",
            "            show_errors: bool\n",
            "                Optional. Doesn't print errors if True\n",
            "    \n",
            "    get_data_yahoo_actions = download(tickers, start=None, end=None, actions=False, threads=True, group_by='column', auto_adjust=False, back_adjust=False, progress=True, period='max', show_errors=True, interval='1d', prepost=False, proxy=None, rounding=False, **kwargs)\n",
            "        Download yahoo tickers\n",
            "        :Parameters:\n",
            "            tickers : str, list\n",
            "                List of tickers to download\n",
            "            period : str\n",
            "                Valid periods: 1d,5d,1mo,3mo,6mo,1y,2y,5y,10y,ytd,max\n",
            "                Either Use period parameter or use start and end\n",
            "            interval : str\n",
            "                Valid intervals: 1m,2m,5m,15m,30m,60m,90m,1h,1d,5d,1wk,1mo,3mo\n",
            "                Intraday data cannot extend last 60 days\n",
            "            start: str\n",
            "                Download start date string (YYYY-MM-DD) or _datetime.\n",
            "                Default is 1900-01-01\n",
            "            end: str\n",
            "                Download end date string (YYYY-MM-DD) or _datetime.\n",
            "                Default is now\n",
            "            group_by : str\n",
            "                Group by 'ticker' or 'column' (default)\n",
            "            prepost : bool\n",
            "                Include Pre and Post market data in results?\n",
            "                Default is False\n",
            "            auto_adjust: bool\n",
            "                Adjust all OHLC automatically? Default is False\n",
            "            actions: bool\n",
            "                Download dividend + stock splits data. Default is False\n",
            "            threads: bool / int\n",
            "                How many threads to use for mass downloading. Default is True\n",
            "            proxy: str\n",
            "                Optional. Proxy server URL scheme. Default is None\n",
            "            rounding: bool\n",
            "                Optional. Round values to 2 decimal places?\n",
            "            show_errors: bool\n",
            "                Optional. Doesn't print errors if True\n",
            "    \n",
            "    get_iex_book(*args, **kwargs)\n",
            "        Returns an array of dictionaries with depth of book data from IEX for up to\n",
            "        10 securities at a time. Returns a dictionary of the bid and ask books.\n",
            "        \n",
            "        Parameters\n",
            "        ----------\n",
            "        symbols : str, List[str]\n",
            "            A string or list of strings of valid tickers\n",
            "        service : str\n",
            "            One of:\n",
            "        \n",
            "            - 'book': Live depth of book data\n",
            "            - 'op-halt-status': Checks to see if the exchange has instituted a halt\n",
            "            - 'security-event': Denotes individual security related event\n",
            "            - 'ssr-status': Short Sale Price Test restrictions, per reg 201 of SHO\n",
            "            - 'system-event': Relays current feed status (i.e. market open)\n",
            "            - 'trades': Retrieves recent executions, trade size/price and flags\n",
            "            - 'trade-breaks': Lists execution breaks for the current trading session\n",
            "            - 'trading-status': Returns status and cause codes for securities\n",
            "        \n",
            "        Returns\n",
            "        -------\n",
            "        DataFrame\n",
            "    \n",
            "    get_iex_symbols(*args, **kwargs)\n",
            "        Returns a list of all equity symbols available for trading on IEX. Accepts\n",
            "        no additional parameters.\n",
            "        \n",
            "        Reference: https://www.iextrading.com/developer/docs/#symbols\n",
            "        \n",
            "        :return: DataFrame\n",
            "    \n",
            "    get_last_iex(*args, **kwargs)\n",
            "    \n",
            "    get_markets_iex(*args, **kwargs)\n",
            "        Returns near-real time volume data across markets segregated by tape\n",
            "        and including a percentage of overall volume during the session\n",
            "        \n",
            "        This endpoint does not accept any parameters.\n",
            "        \n",
            "        Reference: https://www.iextrading.com/developer/docs/#markets\n",
            "        \n",
            "        Returns\n",
            "        -------\n",
            "        DataFrame\n",
            "    \n",
            "    get_nasdaq_symbols(retry_count=3, timeout=30, pause=None)\n",
            "        Get the list of all available equity symbols from Nasdaq.\n",
            "        \n",
            "        Returns\n",
            "        -------\n",
            "        nasdaq_tickers : pandas.DataFrame\n",
            "            DataFrame with company tickers, names, and other properties.\n",
            "    \n",
            "    get_quote_yahoo(*args, **kwargs)\n",
            "    \n",
            "    get_recent_iex(*args, **kwargs)\n",
            "        Returns market volume and trade routing statistics for recent sessions.\n",
            "        Also reports IEX's relative market share, lit share volume and a boolean\n",
            "        halfday indicator.\n",
            "        \n",
            "        Reference: https://www.iextrading.com/developer/docs/#recent\n",
            "        \n",
            "        Returns\n",
            "        -------\n",
            "        DataFrame\n",
            "    \n",
            "    get_records_iex(*args, **kwargs)\n",
            "        Returns the record value, record date, recent value, and 30-day average for\n",
            "        market volume, # of symbols traded, # of routed trades and notional value.\n",
            "        This function accepts no additional parameters.\n",
            "        \n",
            "        Reference: https://www.iextrading.com/developer/docs/#records\n",
            "        \n",
            "        :return: DataFrame\n",
            "    \n",
            "    get_summary_iex(*args, **kwargs)\n",
            "        Returns an aggregated monthly summary of market volume and a variety of\n",
            "        related metrics for trades by lot size, security market cap, and venue.\n",
            "        In the absence of parameters, this will return month-to-date statistics.\n",
            "        For ranges spanning multiple months, this will return one row per month.\n",
            "        \n",
            "        start : string, int, date, datetime, Timestamp\n",
            "            A datetime object - the beginning of the date range.\n",
            "        end : string, int, date, datetime, Timestamp\n",
            "            A datetime object - the end of the date range.\n",
            "        \n",
            "        Returns\n",
            "        -------\n",
            "        DataFrame\n",
            "    \n",
            "    get_tops_iex(*args, **kwargs)\n",
            "\n",
            "DATA\n",
            "    __all__ = ['get_components_yahoo', 'get_data_enigma', 'get_data_famafr...\n",
            "\n",
            "FILE\n",
            "    /usr/local/lib/python3.7/dist-packages/pandas_datareader/data.py\n",
            "\n",
            "\n"
          ]
        }
      ]
    },
    {
      "cell_type": "code",
      "metadata": {
        "id": "Z88LyySk3VaC"
      },
      "source": [
        "start = \"2009-01-01\"\n",
        "end = \"2021-09-15\""
      ],
      "execution_count": 6,
      "outputs": []
    },
    {
      "cell_type": "code",
      "metadata": {
        "colab": {
          "base_uri": "https://localhost:8080/"
        },
        "id": "9ZPXTu4A4Er4",
        "outputId": "afc7f53e-8609-4d91-8103-b14c2f9613a3"
      },
      "source": [
        "help(pdr.get_data_yahoo)"
      ],
      "execution_count": 7,
      "outputs": [
        {
          "output_type": "stream",
          "name": "stdout",
          "text": [
            "Help on function download in module yfinance.multi:\n",
            "\n",
            "download(tickers, start=None, end=None, actions=False, threads=True, group_by='column', auto_adjust=False, back_adjust=False, progress=True, period='max', show_errors=True, interval='1d', prepost=False, proxy=None, rounding=False, **kwargs)\n",
            "    Download yahoo tickers\n",
            "    :Parameters:\n",
            "        tickers : str, list\n",
            "            List of tickers to download\n",
            "        period : str\n",
            "            Valid periods: 1d,5d,1mo,3mo,6mo,1y,2y,5y,10y,ytd,max\n",
            "            Either Use period parameter or use start and end\n",
            "        interval : str\n",
            "            Valid intervals: 1m,2m,5m,15m,30m,60m,90m,1h,1d,5d,1wk,1mo,3mo\n",
            "            Intraday data cannot extend last 60 days\n",
            "        start: str\n",
            "            Download start date string (YYYY-MM-DD) or _datetime.\n",
            "            Default is 1900-01-01\n",
            "        end: str\n",
            "            Download end date string (YYYY-MM-DD) or _datetime.\n",
            "            Default is now\n",
            "        group_by : str\n",
            "            Group by 'ticker' or 'column' (default)\n",
            "        prepost : bool\n",
            "            Include Pre and Post market data in results?\n",
            "            Default is False\n",
            "        auto_adjust: bool\n",
            "            Adjust all OHLC automatically? Default is False\n",
            "        actions: bool\n",
            "            Download dividend + stock splits data. Default is False\n",
            "        threads: bool / int\n",
            "            How many threads to use for mass downloading. Default is True\n",
            "        proxy: str\n",
            "            Optional. Proxy server URL scheme. Default is None\n",
            "        rounding: bool\n",
            "            Optional. Round values to 2 decimal places?\n",
            "        show_errors: bool\n",
            "            Optional. Doesn't print errors if True\n",
            "\n"
          ]
        }
      ]
    },
    {
      "cell_type": "markdown",
      "metadata": {
        "id": "13o_1wssoBjF"
      },
      "source": [
        "## Step 2: Select the stocks/tickers you would like to analyse\n",
        "\n",
        "For Australian stocks, yahoo tickers require '.AX' to be specified at the end of the ticker symbol.  For other tickers use the search bar in yahoo finance."
      ]
    },
    {
      "cell_type": "code",
      "metadata": {
        "id": "Y6ZrCfWNgeoZ"
      },
      "source": [
        "tickers = [\"NAB.AX\"]"
      ],
      "execution_count": 8,
      "outputs": []
    },
    {
      "cell_type": "markdown",
      "metadata": {
        "id": "xSez_wk4oZZP"
      },
      "source": [
        "# Step 3: call the Pandas_Datareader DataReader module"
      ]
    },
    {
      "cell_type": "code",
      "metadata": {
        "id": "DiHcvM3_lWkw",
        "colab": {
          "base_uri": "https://localhost:8080/"
        },
        "outputId": "89e4b2f0-0e19-40c8-98a6-815253511e08"
      },
      "source": [
        "df = pdr.get_data_yahoo(tickers,start,end)"
      ],
      "execution_count": 9,
      "outputs": [
        {
          "output_type": "stream",
          "name": "stdout",
          "text": [
            "\r[*********************100%***********************]  1 of 1 completed\n"
          ]
        }
      ]
    },
    {
      "cell_type": "code",
      "metadata": {
        "colab": {
          "base_uri": "https://localhost:8080/"
        },
        "id": "930GhPDD_ZXm",
        "outputId": "7e72da85-ffd9-4f06-9916-899d3899a614"
      },
      "source": [
        "df.tail"
      ],
      "execution_count": 10,
      "outputs": [
        {
          "output_type": "execute_result",
          "data": {
            "text/plain": [
              "<bound method NDFrame.tail of                  Open       High        Low      Close  Adj Close   Volume\n",
              "Date                                                                      \n",
              "2009-01-02  19.929367  19.976933  19.244446  19.406162   8.887323  2572210\n",
              "2009-01-05  19.691547  19.720085  19.082727  19.244446   8.813263  2822855\n",
              "2009-01-06  19.624958  19.862778  19.482265  19.729599   9.035445  3803343\n",
              "2009-01-07  19.853266  20.148163  19.548855  19.872292   9.100793  4676568\n",
              "2009-01-08  19.501291  19.843754  19.501291  19.843754   9.087724  2949396\n",
              "...               ...        ...        ...        ...        ...      ...\n",
              "2021-09-09  28.680000  28.740000  28.160000  28.400000  28.400000  6209123\n",
              "2021-09-10  28.650000  28.730000  28.270000  28.450001  28.450001  4490010\n",
              "2021-09-13  28.250000  28.340000  28.030001  28.180000  28.180000  4081323\n",
              "2021-09-14  28.299999  28.340000  28.040001  28.230000  28.230000  5473211\n",
              "2021-09-15  28.010000  28.200001  27.889999  28.139999  28.139999  4458631\n",
              "\n",
              "[3212 rows x 6 columns]>"
            ]
          },
          "metadata": {},
          "execution_count": 10
        }
      ]
    },
    {
      "cell_type": "code",
      "metadata": {
        "colab": {
          "base_uri": "https://localhost:8080/"
        },
        "id": "94gfgMHPvMjU",
        "outputId": "038ec537-0bbe-41e3-d9f4-e896d0d3f6f4"
      },
      "source": [
        "df.head"
      ],
      "execution_count": 11,
      "outputs": [
        {
          "output_type": "execute_result",
          "data": {
            "text/plain": [
              "<bound method NDFrame.head of                  Open       High        Low      Close  Adj Close   Volume\n",
              "Date                                                                      \n",
              "2009-01-02  19.929367  19.976933  19.244446  19.406162   8.887323  2572210\n",
              "2009-01-05  19.691547  19.720085  19.082727  19.244446   8.813263  2822855\n",
              "2009-01-06  19.624958  19.862778  19.482265  19.729599   9.035445  3803343\n",
              "2009-01-07  19.853266  20.148163  19.548855  19.872292   9.100793  4676568\n",
              "2009-01-08  19.501291  19.843754  19.501291  19.843754   9.087724  2949396\n",
              "...               ...        ...        ...        ...        ...      ...\n",
              "2021-09-09  28.680000  28.740000  28.160000  28.400000  28.400000  6209123\n",
              "2021-09-10  28.650000  28.730000  28.270000  28.450001  28.450001  4490010\n",
              "2021-09-13  28.250000  28.340000  28.030001  28.180000  28.180000  4081323\n",
              "2021-09-14  28.299999  28.340000  28.040001  28.230000  28.230000  5473211\n",
              "2021-09-15  28.010000  28.200001  27.889999  28.139999  28.139999  4458631\n",
              "\n",
              "[3212 rows x 6 columns]>"
            ]
          },
          "metadata": {},
          "execution_count": 11
        }
      ]
    },
    {
      "cell_type": "markdown",
      "metadata": {
        "id": "7-Y707wBodqa"
      },
      "source": [
        "## Step 4: Understanding the pandas dataframe structure\n",
        "\n",
        "A good way to quickly understand how a pandas dataframe is structured is to look at the index and the columns."
      ]
    },
    {
      "cell_type": "code",
      "metadata": {
        "id": "uu_BWD_llZ9q",
        "colab": {
          "base_uri": "https://localhost:8080/"
        },
        "outputId": "eef0a60d-b593-4632-c4ea-4f7a085e4835"
      },
      "source": [
        "df.index"
      ],
      "execution_count": 12,
      "outputs": [
        {
          "output_type": "execute_result",
          "data": {
            "text/plain": [
              "DatetimeIndex(['2009-01-02', '2009-01-05', '2009-01-06', '2009-01-07',\n",
              "               '2009-01-08', '2009-01-09', '2009-01-12', '2009-01-13',\n",
              "               '2009-01-14', '2009-01-15',\n",
              "               ...\n",
              "               '2021-09-02', '2021-09-03', '2021-09-06', '2021-09-07',\n",
              "               '2021-09-08', '2021-09-09', '2021-09-10', '2021-09-13',\n",
              "               '2021-09-14', '2021-09-15'],\n",
              "              dtype='datetime64[ns]', name='Date', length=3212, freq=None)"
            ]
          },
          "metadata": {},
          "execution_count": 12
        }
      ]
    },
    {
      "cell_type": "code",
      "metadata": {
        "colab": {
          "base_uri": "https://localhost:8080/"
        },
        "id": "aWBxj_Gfvd1i",
        "outputId": "97dfa1e0-12af-4be4-a0ba-d96d9932f795"
      },
      "source": [
        "df.columns"
      ],
      "execution_count": 13,
      "outputs": [
        {
          "output_type": "execute_result",
          "data": {
            "text/plain": [
              "Index(['Open', 'High', 'Low', 'Close', 'Adj Close', 'Volume'], dtype='object')"
            ]
          },
          "metadata": {},
          "execution_count": 13
        }
      ]
    },
    {
      "cell_type": "markdown",
      "metadata": {
        "id": "xmcQWB9Vo8pX"
      },
      "source": [
        "## Step 5: Access useful attributes easily\n",
        "\n",
        "We are interested in the closing price information for all of these stocks."
      ]
    },
    {
      "cell_type": "code",
      "metadata": {
        "id": "rVugNpr-olSV",
        "outputId": "17d1bcff-6e55-4883-86a6-af0cf75135e6",
        "colab": {
          "base_uri": "https://localhost:8080/"
        }
      },
      "source": [
        "df.Close"
      ],
      "execution_count": 15,
      "outputs": [
        {
          "output_type": "execute_result",
          "data": {
            "text/plain": [
              "Date\n",
              "2009-01-02    19.406162\n",
              "2009-01-05    19.244446\n",
              "2009-01-06    19.729599\n",
              "2009-01-07    19.872292\n",
              "2009-01-08    19.843754\n",
              "                ...    \n",
              "2021-09-09    28.400000\n",
              "2021-09-10    28.450001\n",
              "2021-09-13    28.180000\n",
              "2021-09-14    28.230000\n",
              "2021-09-15    28.139999\n",
              "Name: Close, Length: 3212, dtype: float64"
            ]
          },
          "metadata": {},
          "execution_count": 15
        }
      ]
    },
    {
      "cell_type": "code",
      "metadata": {
        "id": "bP0OuCIFw9CF",
        "outputId": "8952de3c-a0e1-4385-98cf-8792ad691fb7",
        "colab": {
          "base_uri": "https://localhost:8080/"
        }
      },
      "source": [
        "Close=df['Close']\n",
        "Close"
      ],
      "execution_count": 17,
      "outputs": [
        {
          "output_type": "execute_result",
          "data": {
            "text/plain": [
              "Date\n",
              "2009-01-02    19.406162\n",
              "2009-01-05    19.244446\n",
              "2009-01-06    19.729599\n",
              "2009-01-07    19.872292\n",
              "2009-01-08    19.843754\n",
              "                ...    \n",
              "2021-09-09    28.400000\n",
              "2021-09-10    28.450001\n",
              "2021-09-13    28.180000\n",
              "2021-09-14    28.230000\n",
              "2021-09-15    28.139999\n",
              "Name: Close, Length: 3212, dtype: float64"
            ]
          },
          "metadata": {},
          "execution_count": 17
        }
      ]
    },
    {
      "cell_type": "markdown",
      "metadata": {
        "id": "DKbUd2tcpGl3"
      },
      "source": [
        "## Step 6: Gain insights quickly with pandas describe method\n"
      ]
    },
    {
      "cell_type": "code",
      "metadata": {
        "id": "n2_QynuJpBZQ"
      },
      "source": [
        ""
      ],
      "execution_count": null,
      "outputs": []
    },
    {
      "cell_type": "markdown",
      "metadata": {
        "id": "efy-YAV1ph8T"
      },
      "source": [
        "## Step 7: Plot and save"
      ]
    },
    {
      "cell_type": "code",
      "metadata": {
        "id": "O3EPGjFqpS4-"
      },
      "source": [
        ""
      ],
      "execution_count": null,
      "outputs": []
    }
  ]
}