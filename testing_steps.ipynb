{
  "nbformat": 4,
  "nbformat_minor": 0,
  "metadata": {
    "colab": {
      "name": "testing_steps.ipynb",
      "provenance": [],
      "include_colab_link": true
    },
    "kernelspec": {
      "name": "python3",
      "display_name": "Python 3"
    },
    "language_info": {
      "name": "python"
    }
  },
  "cells": [
    {
      "cell_type": "markdown",
      "metadata": {
        "id": "view-in-github",
        "colab_type": "text"
      },
      "source": [
        "<a href=\"https://colab.research.google.com/github/steve-keys/ISYS5002_portfolio/blob/main/testing_steps.ipynb\" target=\"_parent\"><img src=\"https://colab.research.google.com/assets/colab-badge.svg\" alt=\"Open In Colab\"/></a>"
      ]
    },
    {
      "cell_type": "markdown",
      "metadata": {
        "id": "-xcnFuWmxrX8"
      },
      "source": [
        "# Print Statement"
      ]
    },
    {
      "cell_type": "code",
      "metadata": {
        "id": "EmBvrh6q1Kd2"
      },
      "source": [
        "def my_func(x, y, z):\n",
        "    return x * y + z"
      ],
      "execution_count": 17,
      "outputs": []
    },
    {
      "cell_type": "code",
      "metadata": {
        "colab": {
          "base_uri": "https://localhost:8080/"
        },
        "id": "mHWKc6JefMTN",
        "outputId": "4e0e664e-b0e1-4cb5-e2eb-ce73f9882385"
      },
      "source": [
        "my_func (1,2,3)"
      ],
      "execution_count": 18,
      "outputs": [
        {
          "output_type": "execute_result",
          "data": {
            "text/plain": [
              "5"
            ]
          },
          "metadata": {},
          "execution_count": 18
        }
      ]
    },
    {
      "cell_type": "markdown",
      "metadata": {
        "id": "SZefdOJ95mDC"
      },
      "source": [
        "#Assert Statement"
      ]
    },
    {
      "cell_type": "code",
      "metadata": {
        "id": "AiW10zSqxxr8"
      },
      "source": [
        "# test result\n",
        "result = my_func(1,2,3)\n",
        "\n",
        "# assert boolean expression, message\n",
        "assert result == 5, 'Should be 5'"
      ],
      "execution_count": 9,
      "outputs": []
    },
    {
      "cell_type": "code",
      "metadata": {
        "id": "nxqvgDzYv091"
      },
      "source": [
        "result = my_func(1,1,3)\n",
        "\n",
        "# assert boolean expression, message\n",
        "assert result == 4, 'Should be 4'"
      ],
      "execution_count": 10,
      "outputs": []
    },
    {
      "cell_type": "code",
      "metadata": {
        "id": "RirWkhKKxF0S"
      },
      "source": [
        "# Original function with print command included\n",
        "def my_func(x, y, z):\n",
        "    print(\"x = \", x)\n",
        "    return x * y + z"
      ],
      "execution_count": 14,
      "outputs": []
    },
    {
      "cell_type": "code",
      "metadata": {
        "id": "7OYq_UdIxs-A"
      },
      "source": [
        "def my_func(x, y, z):\n",
        "    print(\"x = \", x)\n",
        "    return x * y + z"
      ],
      "execution_count": 19,
      "outputs": []
    },
    {
      "cell_type": "code",
      "metadata": {
        "colab": {
          "base_uri": "https://localhost:8080/"
        },
        "id": "sGQddr5TzwBp",
        "outputId": "7bcdb2e6-ee97-4023-e163-b4bd8684bd16"
      },
      "source": [
        "my_func (1,2,3)"
      ],
      "execution_count": 20,
      "outputs": [
        {
          "output_type": "stream",
          "name": "stdout",
          "text": [
            "x =  1\n"
          ]
        },
        {
          "output_type": "execute_result",
          "data": {
            "text/plain": [
              "5"
            ]
          },
          "metadata": {},
          "execution_count": 20
        }
      ]
    },
    {
      "cell_type": "code",
      "metadata": {
        "id": "iKLaeJm66gea"
      },
      "source": [
        "def my_func(x, y, z):\n",
        "    #assert x > 0, \"x should be a positive number\"\n",
        "    return x * y + z\n",
        "\n",
        "    # test result\n",
        "    result = my_function(-1, 1, 3)\n",
        "\n",
        "    # assert boolean expression, message\n",
        "    assert result == 4, 'Should be 4'\n",
        "\n",
        "    assert my_func(1,2,3) == 4, 'Should be 4'"
      ],
      "execution_count": 24,
      "outputs": []
    },
    {
      "cell_type": "code",
      "metadata": {
        "id": "m5-IRoZjx1P4"
      },
      "source": [
        "# test function\n",
        "assert my_func(1,1,3) == 4, 'Should be 4'"
      ],
      "execution_count": 26,
      "outputs": []
    },
    {
      "cell_type": "code",
      "metadata": {
        "id": "Rs4kX-Z91jn3",
        "colab": {
          "base_uri": "https://localhost:8080/",
          "height": 183
        },
        "outputId": "f2ef261c-d9a4-45c8-fe1f-6bc3baac1bd9"
      },
      "source": [
        "# test something wrong\n",
        "assert my_func(1,2,3) == 4, 'Should be 4'"
      ],
      "execution_count": 28,
      "outputs": [
        {
          "output_type": "error",
          "ename": "AssertionError",
          "evalue": "ignored",
          "traceback": [
            "\u001b[0;31m---------------------------------------------------------------------------\u001b[0m",
            "\u001b[0;31mAssertionError\u001b[0m                            Traceback (most recent call last)",
            "\u001b[0;32m<ipython-input-28-ddb0c839cb08>\u001b[0m in \u001b[0;36m<module>\u001b[0;34m()\u001b[0m\n\u001b[1;32m      1\u001b[0m \u001b[0;31m# test something wrong\u001b[0m\u001b[0;34m\u001b[0m\u001b[0;34m\u001b[0m\u001b[0;34m\u001b[0m\u001b[0m\n\u001b[0;32m----> 2\u001b[0;31m \u001b[0;32massert\u001b[0m \u001b[0mmy_func\u001b[0m\u001b[0;34m(\u001b[0m\u001b[0;36m1\u001b[0m\u001b[0;34m,\u001b[0m\u001b[0;36m2\u001b[0m\u001b[0;34m,\u001b[0m\u001b[0;36m3\u001b[0m\u001b[0;34m)\u001b[0m \u001b[0;34m==\u001b[0m \u001b[0;36m4\u001b[0m\u001b[0;34m,\u001b[0m \u001b[0;34m'Should be 4'\u001b[0m\u001b[0;34m\u001b[0m\u001b[0;34m\u001b[0m\u001b[0m\n\u001b[0m",
            "\u001b[0;31mAssertionError\u001b[0m: Should be 4"
          ]
        }
      ]
    },
    {
      "cell_type": "markdown",
      "metadata": {
        "id": "fSejL2YIx3BI"
      },
      "source": [
        "# Write functions\n",
        "\n",
        "Wrap the asert statement inside functions\n",
        "\n",
        "The write a function that call the test functions"
      ]
    },
    {
      "cell_type": "code",
      "metadata": {
        "id": "XJUEKmdBxqU1",
        "colab": {
          "base_uri": "https://localhost:8080/"
        },
        "outputId": "4902c302-93ae-4581-9908-97f63716b2ee"
      },
      "source": [
        "def test_my_func_three_numbers ():\n",
        "  assert my_func(1,1,3) == 4, 'Should be 4'\n",
        "  assert my_func(1,2,3) == 5, 'Should be 5'\n",
        "\n",
        "def test_my_func_string_number_string():\n",
        "  result = my_func('hello', 3, 'world')\n",
        "  assert result == 'hellohellohelloworld', \"Check my_func can handle strings!\"\n",
        "\n",
        "def run_tests():\n",
        "    print(\"Running tests\")\n",
        "    test_my_func_three_numbers()\n",
        "    print (\"All tests passed\")\n",
        "\n",
        "run_tests()"
      ],
      "execution_count": 36,
      "outputs": [
        {
          "output_type": "stream",
          "name": "stdout",
          "text": [
            "Running tests\n",
            "All tests passed\n"
          ]
        }
      ]
    },
    {
      "cell_type": "code",
      "metadata": {
        "colab": {
          "base_uri": "https://localhost:8080/",
          "height": 35
        },
        "id": "kmqzkr8rCCjL",
        "outputId": "5280ec71-bf72-4067-f517-56989f047b10"
      },
      "source": [
        " my_func('hello ', 3, 'world')"
      ],
      "execution_count": 39,
      "outputs": [
        {
          "output_type": "execute_result",
          "data": {
            "application/vnd.google.colaboratory.intrinsic+json": {
              "type": "string"
            },
            "text/plain": [
              "'hello hello hello world'"
            ]
          },
          "metadata": {},
          "execution_count": 39
        }
      ]
    },
    {
      "cell_type": "markdown",
      "metadata": {
        "id": "651TMRAVx7Ze"
      },
      "source": [
        "## Doctest\n",
        "\n",
        "Best practice comments functions in a doc string.  We can include tests in these docstrings"
      ]
    },
    {
      "cell_type": "code",
      "metadata": {
        "id": "X7mBZEXdYxka"
      },
      "source": [
        "def my_func(x, y, z):\n",
        "    \"\"\"\n",
        "    This function will....\n",
        "    Parameters:\n",
        "    x: this is to ...\n",
        "    y: this is to ...\n",
        "\n",
        "    >>> my_func(1,2,3)\n",
        "    5\n",
        "    >>> my_func('hello ' , 3, 'world')\n",
        "    'hello hello hello world'\n",
        "    >>> my_func(1,1,1)\n",
        "    2\n",
        "    \"\"\"\n",
        "    return x * y + z"
      ],
      "execution_count": 46,
      "outputs": []
    },
    {
      "cell_type": "code",
      "metadata": {
        "colab": {
          "base_uri": "https://localhost:8080/"
        },
        "id": "wj_K0g-bF63a",
        "outputId": "0000df0e-e2c1-47cd-b63e-18b2056aeb55"
      },
      "source": [
        "help(my_func)"
      ],
      "execution_count": 44,
      "outputs": [
        {
          "output_type": "stream",
          "name": "stdout",
          "text": [
            "Help on function my_func in module __main__:\n",
            "\n",
            "my_func(x, y, z)\n",
            "    This function will....\n",
            "    Parameters:\n",
            "    x: this is to ...\n",
            "    y: this is to ...\n",
            "    \n",
            "    >>> my_func(1,2,3)\n",
            "    5\n",
            "    >>> my_func('hello ' , 3, 'world')\n",
            "    'hello hello hello world'\n",
            "\n"
          ]
        }
      ]
    },
    {
      "cell_type": "code",
      "metadata": {
        "id": "fzNLAyVByVaR",
        "colab": {
          "base_uri": "https://localhost:8080/"
        },
        "outputId": "74626003-2d0f-4c6e-bdde-83774982d78c"
      },
      "source": [
        "import doctest\n",
        "doctest.testmod()"
      ],
      "execution_count": 47,
      "outputs": [
        {
          "output_type": "stream",
          "name": "stdout",
          "text": [
            "**********************************************************************\n",
            "File \"__main__\", line 12, in __main__.my_func\n",
            "Failed example:\n",
            "    my_func(1,1,1)\n",
            "Expected:\n",
            "    1\n",
            "Got:\n",
            "    2\n",
            "**********************************************************************\n",
            "1 items had failures:\n",
            "   1 of   3 in __main__.my_func\n",
            "***Test Failed*** 1 failures.\n"
          ]
        },
        {
          "output_type": "execute_result",
          "data": {
            "text/plain": [
              "TestResults(failed=1, attempted=3)"
            ]
          },
          "metadata": {},
          "execution_count": 47
        }
      ]
    },
    {
      "cell_type": "markdown",
      "metadata": {
        "id": "MBlQNvp9zpNu"
      },
      "source": [
        "# unittests\n",
        "\n",
        "Similar to writing own functions with assert statement, but provides summary output"
      ]
    },
    {
      "cell_type": "code",
      "metadata": {
        "id": "jZyaDcR2fSwG",
        "colab": {
          "base_uri": "https://localhost:8080/"
        },
        "outputId": "dbc81198-d51d-4166-807e-15dd4a61af4c"
      },
      "source": [
        "!pip install ipython_unittest\n",
        "%load_ext ipython_unittest"
      ],
      "execution_count": 48,
      "outputs": [
        {
          "output_type": "stream",
          "name": "stdout",
          "text": [
            "Collecting ipython_unittest\n",
            "  Downloading ipython_unittest-0.3.1-py2.py3-none-any.whl (15 kB)\n",
            "Installing collected packages: ipython-unittest\n",
            "Successfully installed ipython-unittest-0.3.1\n"
          ]
        }
      ]
    },
    {
      "cell_type": "code",
      "metadata": {
        "id": "A6B6Rpb5eUjS",
        "colab": {
          "base_uri": "https://localhost:8080/",
          "height": 139
        },
        "outputId": "646fd8d4-46d0-48db-a428-814041f72a62"
      },
      "source": [
        "%%unittest_testcase\n",
        "def test_three_number(self):\n",
        "  result = my_func(1,2,3)\n",
        "  self.assertEqual(result, 5)"
      ],
      "execution_count": 49,
      "outputs": [
        {
          "output_type": "display_data",
          "data": {
            "application/unittest.status+json": {
              "color": "yellow",
              "message": "",
              "previous": 0
            },
            "text/plain": [
              ""
            ]
          },
          "metadata": {}
        },
        {
          "output_type": "display_data",
          "data": {
            "application/unittest.status+json": {
              "color": "lightgreen",
              "message": ".\n----------------------------------------------------------------------\nRan 1 test in 0.000s\n\nOK\n",
              "previous": 0
            },
            "text/plain": [
              "Success"
            ]
          },
          "metadata": {}
        },
        {
          "output_type": "stream",
          "name": "stdout",
          "text": [
            ".\n",
            "----------------------------------------------------------------------\n",
            "Ran 1 test in 0.000s\n",
            "\n",
            "OK\n"
          ]
        },
        {
          "output_type": "execute_result",
          "data": {
            "text/plain": [
              "<unittest.runner.TextTestResult run=1 errors=0 failures=0>"
            ]
          },
          "metadata": {},
          "execution_count": 49
        }
      ]
    },
    {
      "cell_type": "code",
      "metadata": {
        "id": "7x_e93pHJDul"
      },
      "source": [
        ""
      ],
      "execution_count": null,
      "outputs": []
    }
  ]
}