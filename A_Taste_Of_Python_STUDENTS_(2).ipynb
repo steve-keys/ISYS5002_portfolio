{
  "nbformat": 4,
  "nbformat_minor": 5,
  "metadata": {
    "kernelspec": {
      "display_name": "Python 3 (ipykernel)",
      "language": "python",
      "name": "python3"
    },
    "language_info": {
      "codemirror_mode": {
        "name": "ipython",
        "version": 3
      },
      "file_extension": ".py",
      "mimetype": "text/x-python",
      "name": "python",
      "nbconvert_exporter": "python",
      "pygments_lexer": "ipython3",
      "version": "3.9.6"
    },
    "colab": {
      "name": "A_Taste_Of_Python_STUDENTS (2).ipynb",
      "provenance": [],
      "collapsed_sections": [],
      "include_colab_link": true
    }
  },
  "cells": [
    {
      "cell_type": "markdown",
      "metadata": {
        "id": "view-in-github",
        "colab_type": "text"
      },
      "source": [
        "<a href=\"https://colab.research.google.com/github/steve-keys/ISYS5002_portfolio/blob/main/A_Taste_Of_Python_STUDENTS_(2).ipynb\" target=\"_parent\"><img src=\"https://colab.research.google.com/assets/colab-badge.svg\" alt=\"Open In Colab\"/></a>"
      ]
    },
    {
      "cell_type": "markdown",
      "metadata": {
        "id": "990c534e-ee5b-4406-ac98-d3357f3bd7ec"
      },
      "source": [
        "# A Taste of Python\n",
        "\n",
        "Computers do two things really well. ***Store values*** and ***perform operations*** on those values\n",
        "\n",
        "You might think they’re doing a whole lot more, as you send texts, shop online, or rely on your phone to navigate in your car; however, everything computers do can be broken down into simple operations that are performed on simple values.\n",
        "\n",
        "Now, part of computational thinking is learning to use these operations and values to build something that is much more sophisticated, complex, and meaningful—and we’re going to get to that. \n",
        "\n",
        "First, though, we’re going to take a look at what these values are, the operations you can perform on them, and just what role variables play in all this.\n",
        "\n",
        "# Store Values\n",
        "\n",
        "### What is a value?\n",
        "\n",
        "Because programs are written to process data, you must have a good understanding of the nature and structure of the data being processed.\n",
        "\n",
        "Data within a program may be a single value, such as a number.  In the cell below try some different numbers, say 123, or 31.7."
      ],
      "id": "990c534e-ee5b-4406-ac98-d3357f3bd7ec"
    },
    {
      "cell_type": "markdown",
      "metadata": {
        "id": "2AlYc33MkHS6"
      },
      "source": [
        "123"
      ],
      "id": "2AlYc33MkHS6"
    },
    {
      "cell_type": "code",
      "metadata": {
        "id": "a3506a0d-e007-45b1-920f-d499033baf9f"
      },
      "source": [
        ""
      ],
      "id": "a3506a0d-e007-45b1-920f-d499033baf9f",
      "execution_count": null,
      "outputs": []
    },
    {
      "cell_type": "code",
      "metadata": {
        "colab": {
          "base_uri": "https://localhost:8080/"
        },
        "id": "IPteJ_tMkihF",
        "outputId": "7967bcc8-ab12-483c-9841-c21268561c9c"
      },
      "source": [
        "31.7"
      ],
      "id": "IPteJ_tMkihF",
      "execution_count": null,
      "outputs": [
        {
          "output_type": "execute_result",
          "data": {
            "text/plain": [
              "31.7"
            ]
          },
          "metadata": {
            "tags": []
          },
          "execution_count": 11
        }
      ]
    },
    {
      "cell_type": "markdown",
      "metadata": {
        "id": "7e26a95d-228d-41e5-8c4e-895765bc23f7"
      },
      "source": [
        "Data within a program may be a single value, such as a character.  Are the quotes important? Is 'A' different from 'a'?"
      ],
      "id": "7e26a95d-228d-41e5-8c4e-895765bc23f7"
    },
    {
      "cell_type": "code",
      "metadata": {
        "id": "cbd8c919-9732-4f5d-9b82-9209aff137f6",
        "colab": {
          "base_uri": "https://localhost:8080/",
          "height": 35
        },
        "outputId": "f7c33a38-8876-40d4-c072-eb04c34ac021"
      },
      "source": [
        "'A'"
      ],
      "id": "cbd8c919-9732-4f5d-9b82-9209aff137f6",
      "execution_count": null,
      "outputs": [
        {
          "output_type": "execute_result",
          "data": {
            "application/vnd.google.colaboratory.intrinsic+json": {
              "type": "string"
            },
            "text/plain": [
              "'A'"
            ]
          },
          "metadata": {
            "tags": []
          },
          "execution_count": 12
        }
      ]
    },
    {
      "cell_type": "markdown",
      "metadata": {
        "id": "d6583eb9-8381-4de7-b70a-3da9bae50b5b"
      },
      "source": [
        "Data within a program may be a single value, such as true or false.  In programming we call the a booloean value, sometimes abbreviated as bool."
      ],
      "id": "d6583eb9-8381-4de7-b70a-3da9bae50b5b"
    },
    {
      "cell_type": "code",
      "metadata": {
        "colab": {
          "base_uri": "https://localhost:8080/"
        },
        "id": "e222c1a7-963f-4ab7-8d95-02fead45cc14",
        "outputId": "11eff088-6a29-4562-c386-d8d7d53b81d7"
      },
      "source": [
        "True"
      ],
      "id": "e222c1a7-963f-4ab7-8d95-02fead45cc14",
      "execution_count": null,
      "outputs": [
        {
          "output_type": "execute_result",
          "data": {
            "text/plain": [
              "True"
            ]
          },
          "metadata": {
            "tags": []
          },
          "execution_count": 3
        }
      ]
    },
    {
      "cell_type": "markdown",
      "metadata": {
        "id": "6b5fad28-f83e-4071-8c07-b682f0f8a378"
      },
      "source": [
        "Data within a program may be a group items such as a list.  The list could contian the same or different type of values."
      ],
      "id": "6b5fad28-f83e-4071-8c07-b682f0f8a378"
    },
    {
      "cell_type": "code",
      "metadata": {
        "id": "45204b84-3142-48dc-bb82-15d07ac5bcb5",
        "colab": {
          "base_uri": "https://localhost:8080/"
        },
        "outputId": "67452c88-b570-4311-83e7-a25c6b22e12e"
      },
      "source": [
        "[1,2,3]"
      ],
      "id": "45204b84-3142-48dc-bb82-15d07ac5bcb5",
      "execution_count": null,
      "outputs": [
        {
          "output_type": "execute_result",
          "data": {
            "text/plain": [
              "[1, 2, 3]"
            ]
          },
          "metadata": {
            "tags": []
          },
          "execution_count": 4
        }
      ]
    },
    {
      "cell_type": "markdown",
      "metadata": {
        "id": "5f4d9675-4fac-43f3-a786-e2d82ebd3d3c"
      },
      "source": [
        "Data within a program may be a group items such as a string. "
      ],
      "id": "5f4d9675-4fac-43f3-a786-e2d82ebd3d3c"
    },
    {
      "cell_type": "code",
      "metadata": {
        "colab": {
          "base_uri": "https://localhost:8080/",
          "height": 35
        },
        "id": "a04eb2f0-4f59-47ea-9556-3cba1c88ac1c",
        "outputId": "dc971e01-da47-4c4a-8e0d-96f78454ec41"
      },
      "source": [
        "\"hello\""
      ],
      "id": "a04eb2f0-4f59-47ea-9556-3cba1c88ac1c",
      "execution_count": null,
      "outputs": [
        {
          "output_type": "execute_result",
          "data": {
            "application/vnd.google.colaboratory.intrinsic+json": {
              "type": "string"
            },
            "text/plain": [
              "'hello'"
            ]
          },
          "metadata": {
            "tags": []
          },
          "execution_count": 5
        }
      ]
    },
    {
      "cell_type": "markdown",
      "metadata": {
        "id": "f00208cc-adc9-4a36-92b4-1d54f08c3d7a"
      },
      "source": [
        "Is there a way to determine the type of an item is? In Python we have a the *type()* function. In the cell below, find out the type of  3, 3.0, '3', '3.0'  and [3, 3.0,'3', '3.0'].\n",
        "> We are going to use functions a lot, before long you will understand exactly how they work and even know how to create your own, but for now just think of them as a way to *ask* Python to do some work.  In the cell is known as **calling** the *type* function.  Functions have a name followed by left parenthesis, a data item and end with a right parenthesis."
      ],
      "id": "f00208cc-adc9-4a36-92b4-1d54f08c3d7a"
    },
    {
      "cell_type": "code",
      "metadata": {
        "id": "112bf20b-79c2-43cd-9524-ed3fcd5ff9e0",
        "colab": {
          "base_uri": "https://localhost:8080/"
        },
        "outputId": "138ab1fd-904d-4d14-9a58-6045f5696c31"
      },
      "source": [
        "type ('a')"
      ],
      "id": "112bf20b-79c2-43cd-9524-ed3fcd5ff9e0",
      "execution_count": null,
      "outputs": [
        {
          "output_type": "execute_result",
          "data": {
            "text/plain": [
              "str"
            ]
          },
          "metadata": {
            "tags": []
          },
          "execution_count": 2
        }
      ]
    },
    {
      "cell_type": "markdown",
      "metadata": {
        "tags": [],
        "id": "2dda7b13-5322-4cb2-9984-7707075fb87f"
      },
      "source": [
        "What are the different types?  Here is a simple table, we will expand on this later.\n",
        "\n",
        "| Data Type | Python Expressions | Description                   | Example |\n",
        "|-----------|--------------------|-------------------------------|---------|\n",
        "|integer    | int                | A whole numeber               | 143267  |\n",
        "|decimal    | float              | A floating point number       | 3.13159 |\n",
        "|string     | str                | Set of characters in quotes   | \"Hello\" |\n",
        "|boolean    | bool               | anything evaluates true/false | True    |\n",
        "|List       | list               | An ordered list of values     | [1,4,5] |\n",
        "\n",
        "\n",
        "\n",
        "### How do we store values?\n",
        "\n",
        "To be useful we need a way to store values in computer's memory.  To this we need to be able to identify a location in memory.  We could use a memory address but that could get confusing, instead we given the location a name, and identifier.  In programming we call this a variable.  A ***variable*** is the name given to a part of the computers memory, designed to store aprticular data item.  It is called a variable because the value stored may change or vary as the program executes. The values we typed in above are know as literals. A **literal** is a constant whose *name* is the written representaiton of the value.  A ***constant*** is a data item with a name amd a value that will remian the same during the executation of a program.  We will use constants later.\n",
        "\n",
        "To store a value, we create a variable and then assign the value.  To assign  a value we use the equals (**=**) sign."
      ],
      "id": "2dda7b13-5322-4cb2-9984-7707075fb87f"
    },
    {
      "cell_type": "code",
      "metadata": {
        "id": "1a4fdd7b-c2b2-4be3-be60-98fcb3da27d9",
        "colab": {
          "base_uri": "https://localhost:8080/"
        },
        "outputId": "9f6aca57-302d-4092-8022-eb97e493a3b6"
      },
      "source": [
        "today = \"Wednesday\"\n",
        "type (today)"
      ],
      "id": "1a4fdd7b-c2b2-4be3-be60-98fcb3da27d9",
      "execution_count": null,
      "outputs": [
        {
          "output_type": "execute_result",
          "data": {
            "text/plain": [
              "str"
            ]
          },
          "metadata": {
            "tags": []
          },
          "execution_count": 8
        }
      ]
    },
    {
      "cell_type": "code",
      "metadata": {
        "id": "SQOzGS_IvQgJ"
      },
      "source": [
        ""
      ],
      "id": "SQOzGS_IvQgJ",
      "execution_count": null,
      "outputs": []
    },
    {
      "cell_type": "markdown",
      "metadata": {
        "id": "0a2fb99e-a477-4f13-ae2e-510eab3e3d44"
      },
      "source": [
        "What is the type of a variable?  We can use the type() function to find out.\n",
        "> Notice how we can use a *variable* just like we use a *value* in the above cells"
      ],
      "id": "0a2fb99e-a477-4f13-ae2e-510eab3e3d44"
    },
    {
      "cell_type": "code",
      "metadata": {
        "id": "41ca8219-83d6-4aca-92bf-3835fdaa19fb",
        "colab": {
          "base_uri": "https://localhost:8080/"
        },
        "outputId": "5c70ee1c-f922-4e4a-ba61-ca5fad2b3a69"
      },
      "source": [
        "type (today)"
      ],
      "id": "41ca8219-83d6-4aca-92bf-3835fdaa19fb",
      "execution_count": null,
      "outputs": [
        {
          "output_type": "execute_result",
          "data": {
            "text/plain": [
              "str"
            ]
          },
          "metadata": {
            "tags": []
          },
          "execution_count": 9
        }
      ]
    },
    {
      "cell_type": "markdown",
      "metadata": {
        "id": "56ca1fd8-bddf-4bd7-af91-6487badc429f"
      },
      "source": [
        "We can assigned group items to variables"
      ],
      "id": "56ca1fd8-bddf-4bd7-af91-6487badc429f"
    },
    {
      "cell_type": "code",
      "metadata": {
        "id": "237a9327-373d-4224-92cf-8d922aa873a5"
      },
      "source": [
        "days = ['Monday', 'Tuesday', 'Wednesday', 'Thu, Fri']"
      ],
      "id": "237a9327-373d-4224-92cf-8d922aa873a5",
      "execution_count": null,
      "outputs": []
    },
    {
      "cell_type": "markdown",
      "metadata": {
        "id": "277f56d4-e52a-411d-8cae-5d0a84abde80"
      },
      "source": [
        "We can change a varialbe"
      ],
      "id": "277f56d4-e52a-411d-8cae-5d0a84abde80"
    },
    {
      "cell_type": "code",
      "metadata": {
        "id": "0256c9c6-fe19-43e6-8945-bff88804d457",
        "colab": {
          "base_uri": "https://localhost:8080/"
        },
        "outputId": "3d90f72b-d0e9-497d-a79b-a8a00aaf4c5f"
      },
      "source": [
        "type (days)"
      ],
      "id": "0256c9c6-fe19-43e6-8945-bff88804d457",
      "execution_count": null,
      "outputs": [
        {
          "output_type": "execute_result",
          "data": {
            "text/plain": [
              "list"
            ]
          },
          "metadata": {
            "tags": []
          },
          "execution_count": 16
        }
      ]
    },
    {
      "cell_type": "code",
      "metadata": {
        "id": "jfvFb9uoxFiI"
      },
      "source": [
        "days = 7"
      ],
      "id": "jfvFb9uoxFiI",
      "execution_count": null,
      "outputs": []
    },
    {
      "cell_type": "code",
      "metadata": {
        "colab": {
          "base_uri": "https://localhost:8080/"
        },
        "id": "Jt4b16fjxL8d",
        "outputId": "05792fc4-9913-4807-a7ff-082f4b525ba0"
      },
      "source": [
        "type (days)"
      ],
      "id": "Jt4b16fjxL8d",
      "execution_count": null,
      "outputs": [
        {
          "output_type": "execute_result",
          "data": {
            "text/plain": [
              "int"
            ]
          },
          "metadata": {
            "tags": []
          },
          "execution_count": 18
        }
      ]
    },
    {
      "cell_type": "markdown",
      "metadata": {
        "tags": [],
        "id": "257d6ae7-d4bf-4c75-aae3-800511733978"
      },
      "source": [
        "#### Naming rules\n",
        "\n",
        "Variable names must be unique and they are case sensitive.\n",
        "* Only letters, numbers, and the underscore character (_) can be used  ```this.is.not.allowed```\n",
        "* No spaces ```this is not allowed```\n",
        "* No quotes ```“NotAllowed”```\n",
        "* Can’t start with a number ```6notAllowed```\n",
        "* Can't be a keyword  ```import```\n",
        "\n",
        "#### Naming conventions\n",
        "We will learn other naming conventions, but for now\n",
        "* variable names should be meaningfuly (can someone else understand)\n",
        "* seperate words with underscores ```monthly_sales```  (this is called snake_case)\n",
        "\n",
        "\n",
        "\n",
        "# Perform Operations\n",
        "\n",
        "There are six basic computer operations.\n",
        "\n",
        "1. Receive Informaiton.\n",
        "1. Output information.\n",
        "1. Assign a value to a variable. There are three cases where you may assign a value to variable.\n",
        "    * give data an initial value.\n",
        "    * assign a value as a results of some processing\n",
        "    * to keep a piece of information for later use.\n",
        "1. Perform arithmetic.\n",
        "1. Compare two variables and select appropriate action.\n",
        "1. Repeat a group of actions.\n",
        "\n",
        "> When designing an algorithm you need to keep in mind that the set of instruction written will eventually be performed by a computer.  That is your words and phrases in the pseudocode which are in line with computer operations, the translation form pseudocode to specific programming language becomes quite simple.\n",
        "\n",
        "## Receive Information\n",
        "\n",
        "Python has a *input* function that will allow you to enter information form the keyboard."
      ],
      "id": "257d6ae7-d4bf-4c75-aae3-800511733978"
    },
    {
      "cell_type": "code",
      "metadata": {
        "id": "a92584fc-fa5c-4941-b747-b042849cb114",
        "colab": {
          "base_uri": "https://localhost:8080/",
          "height": 53
        },
        "outputId": "da30c111-b428-486a-f267-f1b637439440"
      },
      "source": [
        "input (\"What is your name?\")"
      ],
      "id": "a92584fc-fa5c-4941-b747-b042849cb114",
      "execution_count": null,
      "outputs": [
        {
          "output_type": "stream",
          "text": [
            "What is your name?Steve\n"
          ],
          "name": "stdout"
        },
        {
          "output_type": "execute_result",
          "data": {
            "application/vnd.google.colaboratory.intrinsic+json": {
              "type": "string"
            },
            "text/plain": [
              "'Steve'"
            ]
          },
          "metadata": {
            "tags": []
          },
          "execution_count": 22
        }
      ]
    },
    {
      "cell_type": "markdown",
      "metadata": {
        "id": "fb98df5c-aaba-47c6-b210-a69c413ed123"
      },
      "source": [
        "How does *input* work?\n",
        "1. The interpreter see the call to the *input* function, it take the prompt text and displays it for the user\n",
        "2. The interpreter then waits for the user to type in a repsonse, which the user completes by pressing the return key (also called the enter key)\n",
        "3. Finally the text the user types in is passed back to your code.\n",
        "\n",
        "Now, the text isint going to be useful if we cant remember it for later.  To do this we store the *return value* to a variable"
      ],
      "id": "fb98df5c-aaba-47c6-b210-a69c413ed123"
    },
    {
      "cell_type": "code",
      "metadata": {
        "id": "5636b5db-1114-40bb-a88f-47874c11890e",
        "colab": {
          "base_uri": "https://localhost:8080/"
        },
        "outputId": "bdab2657-5969-4ef4-8c23-572d0660b422"
      },
      "source": [
        "name = input (\"What is your name?\")"
      ],
      "id": "5636b5db-1114-40bb-a88f-47874c11890e",
      "execution_count": null,
      "outputs": [
        {
          "output_type": "stream",
          "text": [
            "What is your name?Steve\n"
          ],
          "name": "stdout"
        }
      ]
    },
    {
      "cell_type": "markdown",
      "metadata": {
        "id": "25087e0c-c18a-4478-b79a-01fbcefb8bc9"
      },
      "source": [
        "## Output Information\n",
        "\n",
        "Python has a *print* function that can output a message to the screen"
      ],
      "id": "25087e0c-c18a-4478-b79a-01fbcefb8bc9"
    },
    {
      "cell_type": "code",
      "metadata": {
        "id": "f600bbf8-e6d3-44f3-8301-86952bf50156",
        "colab": {
          "base_uri": "https://localhost:8080/"
        },
        "outputId": "b354befb-bba0-4460-9be5-3c4edc1728e2"
      },
      "source": [
        "print (name)"
      ],
      "id": "f600bbf8-e6d3-44f3-8301-86952bf50156",
      "execution_count": null,
      "outputs": [
        {
          "output_type": "stream",
          "text": [
            "Steve\n"
          ],
          "name": "stdout"
        }
      ]
    },
    {
      "cell_type": "markdown",
      "metadata": {
        "id": "5964a396-2596-47ba-b7b9-ca950cc6fa52"
      },
      "source": [
        "The interpreter sees the call to the *print* function, it takes the message text and displys it to the user.\n",
        "\n",
        "Can we print variables?"
      ],
      "id": "5964a396-2596-47ba-b7b9-ca950cc6fa52"
    },
    {
      "cell_type": "code",
      "metadata": {
        "id": "d09bdd9a-f5f0-426e-baf6-3d20472f19a5"
      },
      "source": [
        ""
      ],
      "id": "d09bdd9a-f5f0-426e-baf6-3d20472f19a5",
      "execution_count": null,
      "outputs": []
    },
    {
      "cell_type": "markdown",
      "metadata": {
        "id": "77cb490e-4c83-4073-97b2-0c8ca66f0158"
      },
      "source": [
        "As you can see the *print* function will take a **literial** or a **variable**.  We will see later that the *print* function can do more, but this is a good start.\n",
        "\n",
        "## Assign a value to a variable\n",
        "\n",
        "We have seen each of three cases, but I will repeat here for clarity.\n",
        "\n",
        "I have added some *comments* to the code.  Comments are just notes after the **#** marks.  We use comments to explain the purpose of the code.  Comments can be thought of as helpful pseudocode."
      ],
      "id": "77cb490e-4c83-4073-97b2-0c8ca66f0158"
    },
    {
      "cell_type": "code",
      "metadata": {
        "id": "9311e0b3-9933-4839-8263-a8c963bcef03",
        "colab": {
          "base_uri": "https://localhost:8080/"
        },
        "outputId": "46fdc7c0-4418-4786-c29a-db465f66abdb"
      },
      "source": [
        "# example of giving a variable an initial value\n",
        "days = 7\n",
        "\n",
        "# example of assigning a value as a result of some processing\n",
        "name = input (\"What is your name?\")\n",
        "\n",
        "# example of using a piece of information later\n",
        "print (days, name)\n",
        "print (days)\n",
        "print (name)\n"
      ],
      "id": "9311e0b3-9933-4839-8263-a8c963bcef03",
      "execution_count": null,
      "outputs": [
        {
          "output_type": "stream",
          "text": [
            "What is your name?steve\n",
            "7 steve\n",
            "7\n",
            "steve\n"
          ],
          "name": "stdout"
        }
      ]
    },
    {
      "cell_type": "markdown",
      "metadata": {
        "id": "7882c412-459a-413f-aed8-44bd52789a47"
      },
      "source": [
        "## Perform Arithmetic\n",
        "\n",
        "\n",
        "| Operation | Description           | Example       |  Result  |\n",
        "|:---------:|-----------------------|---------------|----------|\n",
        "| ```+```   | Addition              | ```3 + 2.2``` | ```5.2```|\n",
        "| ```-```   | Subtraction           | ```5 - 2```   | ```3```  |\n",
        "| ```*```   | Multiplication        | ```3 * 8```   | ```24``` |\n",
        "| ```**```  | Raise to the power of | ```3 ** 2```  | ```9```  |\n",
        "| ```/```   | Division              | ```5/2```     | ```2.5```|\n",
        "| ```//```  | Integer Division      | ```5/2```     | ```2```  |\n",
        "| ```%```   | Modulo                | ```5%2```     | ```1```  |\n",
        "\n",
        "Use the cell below to try out some of the examples"
      ],
      "id": "7882c412-459a-413f-aed8-44bd52789a47"
    },
    {
      "cell_type": "code",
      "metadata": {
        "id": "4f02a3c4-92df-4b56-9699-8627467a6e14",
        "colab": {
          "base_uri": "https://localhost:8080/"
        },
        "outputId": "d1934a1e-447d-424c-8926-f957ede2f20b"
      },
      "source": [
        "type (3 + 2.2)"
      ],
      "id": "4f02a3c4-92df-4b56-9699-8627467a6e14",
      "execution_count": null,
      "outputs": [
        {
          "output_type": "execute_result",
          "data": {
            "text/plain": [
              "float"
            ]
          },
          "metadata": {
            "tags": []
          },
          "execution_count": 30
        }
      ]
    },
    {
      "cell_type": "code",
      "metadata": {
        "colab": {
          "base_uri": "https://localhost:8080/"
        },
        "id": "nl4yser97AHR",
        "outputId": "6bf0d588-39fa-49a4-8ee0-01f958b8b8c5"
      },
      "source": [
        "3**2"
      ],
      "id": "nl4yser97AHR",
      "execution_count": null,
      "outputs": [
        {
          "output_type": "execute_result",
          "data": {
            "text/plain": [
              "9"
            ]
          },
          "metadata": {
            "tags": []
          },
          "execution_count": 31
        }
      ]
    },
    {
      "cell_type": "code",
      "metadata": {
        "colab": {
          "base_uri": "https://localhost:8080/"
        },
        "id": "hf3bRUPh7I0J",
        "outputId": "e28f775a-28c4-42eb-c61c-8a40ae6397a9"
      },
      "source": [
        "3 * 2"
      ],
      "id": "hf3bRUPh7I0J",
      "execution_count": null,
      "outputs": [
        {
          "output_type": "execute_result",
          "data": {
            "text/plain": [
              "6"
            ]
          },
          "metadata": {
            "tags": []
          },
          "execution_count": 32
        }
      ]
    },
    {
      "cell_type": "code",
      "metadata": {
        "id": "EcKQ029V7Q2j"
      },
      "source": [
        ""
      ],
      "id": "EcKQ029V7Q2j",
      "execution_count": null,
      "outputs": []
    },
    {
      "cell_type": "markdown",
      "metadata": {
        "id": "26d55bd3-e43b-4bb4-b0f9-cc3c46152ea0"
      },
      "source": [
        "```3 + 2.2``` is called an expression.  When you evaluate an expression you can store the result into a variable"
      ],
      "id": "26d55bd3-e43b-4bb4-b0f9-cc3c46152ea0"
    },
    {
      "cell_type": "markdown",
      "metadata": {
        "id": "gjB-aMmf7FTp"
      },
      "source": [
        ""
      ],
      "id": "gjB-aMmf7FTp"
    },
    {
      "cell_type": "code",
      "metadata": {
        "id": "b9db7b35-3936-48a4-b3ae-957fc9ac6468"
      },
      "source": [
        "total = 3 - 2"
      ],
      "id": "b9db7b35-3936-48a4-b3ae-957fc9ac6468",
      "execution_count": null,
      "outputs": []
    },
    {
      "cell_type": "markdown",
      "metadata": {
        "id": "37f7414e-0a5f-42ba-9e21-e37ab1e1a27e"
      },
      "source": [
        "You can print expresisons"
      ],
      "id": "37f7414e-0a5f-42ba-9e21-e37ab1e1a27e"
    },
    {
      "cell_type": "code",
      "metadata": {
        "id": "9bb15522-6a92-40a1-b83e-571081a9b66d",
        "colab": {
          "base_uri": "https://localhost:8080/"
        },
        "outputId": "685e7db2-abf9-4f29-fc80-6ba13771133d"
      },
      "source": [
        "print (total)"
      ],
      "id": "9bb15522-6a92-40a1-b83e-571081a9b66d",
      "execution_count": null,
      "outputs": [
        {
          "output_type": "stream",
          "text": [
            "1\n"
          ],
          "name": "stdout"
        }
      ]
    },
    {
      "cell_type": "code",
      "metadata": {
        "id": "jfXKdym883Po"
      },
      "source": [
        ""
      ],
      "id": "jfXKdym883Po",
      "execution_count": null,
      "outputs": []
    },
    {
      "cell_type": "code",
      "metadata": {
        "colab": {
          "base_uri": "https://localhost:8080/"
        },
        "id": "J_bbNzCi8gtN",
        "outputId": "81ef720e-6bba-479e-b29f-f8be7e223fda"
      },
      "source": [
        "print (3/2)"
      ],
      "id": "J_bbNzCi8gtN",
      "execution_count": null,
      "outputs": [
        {
          "output_type": "stream",
          "text": [
            "1.5\n"
          ],
          "name": "stdout"
        }
      ]
    },
    {
      "cell_type": "code",
      "metadata": {
        "colab": {
          "base_uri": "https://localhost:8080/"
        },
        "id": "tx3NrNkK8s0s",
        "outputId": "3568359f-b991-4e2a-e4f1-105423bbe3b4"
      },
      "source": [
        "print (5/2)"
      ],
      "id": "tx3NrNkK8s0s",
      "execution_count": null,
      "outputs": [
        {
          "output_type": "stream",
          "text": [
            "2.5\n"
          ],
          "name": "stdout"
        }
      ]
    },
    {
      "cell_type": "markdown",
      "metadata": {
        "id": "99c9524a-68a8-41c9-9266-1ce1f07e39ec"
      },
      "source": [
        "Can perform arithmetic with variables"
      ],
      "id": "99c9524a-68a8-41c9-9266-1ce1f07e39ec"
    },
    {
      "cell_type": "code",
      "metadata": {
        "colab": {
          "base_uri": "https://localhost:8080/"
        },
        "id": "NGEVbGPE8wPh",
        "outputId": "036d4df2-f7f4-4859-fa6c-061f7caf6a53"
      },
      "source": [
        "print (5//2)"
      ],
      "id": "NGEVbGPE8wPh",
      "execution_count": null,
      "outputs": [
        {
          "output_type": "stream",
          "text": [
            "2\n"
          ],
          "name": "stdout"
        }
      ]
    },
    {
      "cell_type": "code",
      "metadata": {
        "colab": {
          "base_uri": "https://localhost:8080/"
        },
        "id": "DKwQX1xU9FC_",
        "outputId": "978685bf-b391-4c8c-fe1a-80d8a3278830"
      },
      "source": [
        "print (5//3)"
      ],
      "id": "DKwQX1xU9FC_",
      "execution_count": null,
      "outputs": [
        {
          "output_type": "stream",
          "text": [
            "1\n"
          ],
          "name": "stdout"
        }
      ]
    },
    {
      "cell_type": "code",
      "metadata": {
        "id": "1b877516-548e-4f00-88c2-d9ce1651d2c0",
        "colab": {
          "base_uri": "https://localhost:8080/"
        },
        "outputId": "2044441b-ff61-4d7c-b523-9c935cc46d37"
      },
      "source": [
        "print (5%3)"
      ],
      "id": "1b877516-548e-4f00-88c2-d9ce1651d2c0",
      "execution_count": null,
      "outputs": [
        {
          "output_type": "stream",
          "text": [
            "2\n"
          ],
          "name": "stdout"
        }
      ]
    },
    {
      "cell_type": "markdown",
      "metadata": {
        "id": "07d15980-3e1a-4a0c-8e68-599c09591dda"
      },
      "source": [
        "Lets sum two number input form the user"
      ],
      "id": "07d15980-3e1a-4a0c-8e68-599c09591dda"
    },
    {
      "cell_type": "code",
      "metadata": {
        "id": "3c090a42-004e-4922-bd72-ed59ff88cb53",
        "colab": {
          "base_uri": "https://localhost:8080/"
        },
        "outputId": "7ccba91f-b4a0-4ca1-8fbb-542f0692387a"
      },
      "source": [
        "first_number = 12\n",
        "second_number = 1\n",
        "total = first_number + second_number\n",
        "print (total)\n",
        "another_number = 3"
      ],
      "id": "3c090a42-004e-4922-bd72-ed59ff88cb53",
      "execution_count": null,
      "outputs": [
        {
          "output_type": "stream",
          "text": [
            "13\n"
          ],
          "name": "stdout"
        }
      ]
    },
    {
      "cell_type": "code",
      "metadata": {
        "colab": {
          "base_uri": "https://localhost:8080/"
        },
        "id": "A2zHTBbvXBp4",
        "outputId": "ac65ab97-59bf-4915-a21a-2a974ab01a97"
      },
      "source": [
        "first_number = input (\"Please input the first number :\")\n",
        "second_number = input (\"Please input the second number:\")\n",
        "total = first_number + second_number\n",
        "print (total)\n",
        "type (total)"
      ],
      "id": "A2zHTBbvXBp4",
      "execution_count": null,
      "outputs": [
        {
          "output_type": "stream",
          "text": [
            "Please input the first number :123\n",
            "Please input the second number:321\n",
            "123321\n"
          ],
          "name": "stdout"
        },
        {
          "output_type": "execute_result",
          "data": {
            "text/plain": [
              "str"
            ]
          },
          "metadata": {
            "tags": []
          },
          "execution_count": 3
        }
      ]
    },
    {
      "cell_type": "markdown",
      "metadata": {
        "id": "9e2da386-c608-408e-9dee-af674c646c06"
      },
      "source": [
        "What happened?  It didn't add the input, it joined(concatenated) the input.  Lets run the next two cell to investigate."
      ],
      "id": "9e2da386-c608-408e-9dee-af674c646c06"
    },
    {
      "cell_type": "code",
      "metadata": {
        "id": "43dc5d55-891a-4667-888c-63a681ba0a26",
        "colab": {
          "base_uri": "https://localhost:8080/"
        },
        "outputId": "5bdf9997-ef2f-474c-b54a-f8646974f630"
      },
      "source": [
        "type (int(\"12\"))"
      ],
      "id": "43dc5d55-891a-4667-888c-63a681ba0a26",
      "execution_count": null,
      "outputs": [
        {
          "output_type": "execute_result",
          "data": {
            "text/plain": [
              "int"
            ]
          },
          "metadata": {
            "tags": []
          },
          "execution_count": 4
        }
      ]
    },
    {
      "cell_type": "code",
      "metadata": {
        "id": "3abe5441-1764-49eb-9f25-ccce75269cdd",
        "colab": {
          "base_uri": "https://localhost:8080/"
        },
        "outputId": "879d9f0a-9c58-4618-db00-4ef7f3ab3162"
      },
      "source": [
        "first_number = int (input (\"Please input the first number :\"))\n",
        "second_number = int (input (\"Please input the second number:\"))\n",
        "total = first_number + second_number\n",
        "print (total)\n",
        "type (total)"
      ],
      "id": "3abe5441-1764-49eb-9f25-ccce75269cdd",
      "execution_count": null,
      "outputs": [
        {
          "output_type": "stream",
          "text": [
            "Please input the first number :12\n",
            "Please input the second number:3\n",
            "15\n"
          ],
          "name": "stdout"
        },
        {
          "output_type": "execute_result",
          "data": {
            "text/plain": [
              "int"
            ]
          },
          "metadata": {
            "tags": []
          },
          "execution_count": 6
        }
      ]
    },
    {
      "cell_type": "code",
      "metadata": {
        "colab": {
          "base_uri": "https://localhost:8080/"
        },
        "id": "Zqwl1z0VbnDe",
        "outputId": "eb4189c8-6cf1-4b83-f946-0040ec574948"
      },
      "source": [
        "first_number = int (input (\"Please input the first number :\"))\n",
        "second_number = float (input (\"Please input the second number:\"))\n",
        "total = first_number + second_number\n",
        "print (total)\n",
        "type (total)"
      ],
      "id": "Zqwl1z0VbnDe",
      "execution_count": null,
      "outputs": [
        {
          "output_type": "stream",
          "text": [
            "Please input the first number :2\n",
            "Please input the second number:2.0\n",
            "4.0\n"
          ],
          "name": "stdout"
        },
        {
          "output_type": "execute_result",
          "data": {
            "text/plain": [
              "float"
            ]
          },
          "metadata": {
            "tags": []
          },
          "execution_count": 7
        }
      ]
    },
    {
      "cell_type": "markdown",
      "metadata": {
        "id": "2afd9f3d-c0d9-421c-bfe5-f76538b82793"
      },
      "source": [
        "So the data type of the variables were string.  So the *input* function must return a *str* data type.\n",
        "\n",
        "There is a way we can convert, we can use the *int* function.  So \"12\" is a string os the characters '1' followed by the character '2'.  To convert the string we use the int(\"12\"), and this will return the number 12."
      ],
      "id": "2afd9f3d-c0d9-421c-bfe5-f76538b82793"
    },
    {
      "cell_type": "code",
      "metadata": {
        "id": "c3e8c802-0638-4b59-9067-24fbb94acca6",
        "colab": {
          "base_uri": "https://localhost:8080/"
        },
        "outputId": "f7725844-ad40-494b-ab85-f273f7de8e57"
      },
      "source": [
        "int (\"12\")"
      ],
      "id": "c3e8c802-0638-4b59-9067-24fbb94acca6",
      "execution_count": null,
      "outputs": [
        {
          "output_type": "execute_result",
          "data": {
            "text/plain": [
              "12"
            ]
          },
          "metadata": {
            "tags": []
          },
          "execution_count": 8
        }
      ]
    },
    {
      "cell_type": "code",
      "metadata": {
        "colab": {
          "base_uri": "https://localhost:8080/"
        },
        "id": "Gry0E6NLdMQy",
        "outputId": "e6f7059b-7b2b-426a-de14-f57b4650974a"
      },
      "source": [
        "answer = int (\"12\")\n",
        "print (answer)\n",
        "type (answer)"
      ],
      "id": "Gry0E6NLdMQy",
      "execution_count": null,
      "outputs": [
        {
          "output_type": "stream",
          "text": [
            "12\n"
          ],
          "name": "stdout"
        },
        {
          "output_type": "execute_result",
          "data": {
            "text/plain": [
              "int"
            ]
          },
          "metadata": {
            "tags": []
          },
          "execution_count": 10
        }
      ]
    },
    {
      "cell_type": "markdown",
      "metadata": {
        "id": "73a4d763-46da-4c8d-a61c-3acfa8e336b5"
      },
      "source": [
        "## Compare Two Variables\n",
        "\n",
        "Here is a simple program prints out the maximun of two numbers.  This also demonstrates some features of the Python language.\n",
        "\n",
        "> New lines are used to separate logical statements (similar to a period at the end of a sentence).\n",
        ">\n",
        "> Whitespaces (spaces and tabs) are used to indicate which statements should be grouped together (called blocks) \n",
        ">\n",
        "> Colons (:) are used to indicate the continuation of an idea at a deeper level. \n",
        "\n",
        "Try changing the numbers, and rerun the cell.  What happens if you swap *>* for *<*?   What is *<*? We use a *relational operator* to ask a True/False question about the realtionship between two variables.  The followinf table show the relational operators used in Python. \n",
        "\n",
        "\n",
        "| Operation | Description            | Example           |  Result     |\n",
        "|:---------:|------------------------|-------------------|-------------|\n",
        "| ```<```   | Less than              | ```3 < 2```       | ```False``` |\n",
        "| ```>```   | Greater than           | ```3 > 2```       | ```True```  |\n",
        "| ```<=```  | Less than or equal     | ```3 <= 2```      | ```False``` |\n",
        "| ```>=```  | greater than or equal  | ```3 >= 2```      | ```True```  |\n",
        "| ```==```  | equal to               | ```3 == 2```      | ```False``` |\n",
        "| ```!=```  | not equal to           | ```3 != 2```      | ```True```  |\n",
        "| ```not``` | not                    | ```not(3 == 2)``` | ```True```  |"
      ],
      "id": "73a4d763-46da-4c8d-a61c-3acfa8e336b5"
    },
    {
      "cell_type": "code",
      "metadata": {
        "id": "b51f5001-2df5-42d1-99e8-850a4994048a",
        "colab": {
          "base_uri": "https://localhost:8080/"
        },
        "outputId": "bab2cacb-6cdf-4e78-d4c4-10a5d149012d"
      },
      "source": [
        "3>2"
      ],
      "id": "b51f5001-2df5-42d1-99e8-850a4994048a",
      "execution_count": null,
      "outputs": [
        {
          "output_type": "execute_result",
          "data": {
            "text/plain": [
              "True"
            ]
          },
          "metadata": {
            "tags": []
          },
          "execution_count": 11
        }
      ]
    },
    {
      "cell_type": "code",
      "metadata": {
        "colab": {
          "base_uri": "https://localhost:8080/"
        },
        "id": "pk6PyhGneOlR",
        "outputId": "cc8b5d94-391d-4f12-9668-13dd0663ab04"
      },
      "source": [
        "3<2"
      ],
      "id": "pk6PyhGneOlR",
      "execution_count": null,
      "outputs": [
        {
          "output_type": "execute_result",
          "data": {
            "text/plain": [
              "False"
            ]
          },
          "metadata": {
            "tags": []
          },
          "execution_count": 12
        }
      ]
    },
    {
      "cell_type": "code",
      "metadata": {
        "colab": {
          "base_uri": "https://localhost:8080/"
        },
        "id": "7kH0wXaSeow5",
        "outputId": "fc4f2f8b-3633-4233-f267-226b84c0084f"
      },
      "source": [
        "3!=2"
      ],
      "id": "7kH0wXaSeow5",
      "execution_count": null,
      "outputs": [
        {
          "output_type": "execute_result",
          "data": {
            "text/plain": [
              "True"
            ]
          },
          "metadata": {
            "tags": []
          },
          "execution_count": 13
        }
      ]
    },
    {
      "cell_type": "code",
      "metadata": {
        "colab": {
          "base_uri": "https://localhost:8080/"
        },
        "id": "nBxjcqUle2g_",
        "outputId": "e83f4712-49a5-4b2e-a175-b99b5a9b3ce7"
      },
      "source": [
        "3!=3"
      ],
      "id": "nBxjcqUle2g_",
      "execution_count": null,
      "outputs": [
        {
          "output_type": "execute_result",
          "data": {
            "text/plain": [
              "False"
            ]
          },
          "metadata": {
            "tags": []
          },
          "execution_count": 14
        }
      ]
    },
    {
      "cell_type": "markdown",
      "metadata": {
        "id": "3f2fd3f9-31d2-49a1-84bc-9b71fe393a77"
      },
      "source": [
        "Notice the keyword are highlighted in a different colour.  This example uses a boolean expresison: ```first_number > second_number```.  A boolean expression is an *epxression* the evaluates to *True* or *False*.  The expresiosn uses a *relational operator*.  \n",
        "\n",
        " Can you write a version that prompts the user for the numbers?  What happens if you enter in the same number?"
      ],
      "id": "3f2fd3f9-31d2-49a1-84bc-9b71fe393a77"
    },
    {
      "cell_type": "code",
      "metadata": {
        "id": "137a88a9-e2eb-4ace-b1cc-b7fdf260941e",
        "colab": {
          "base_uri": "https://localhost:8080/",
          "height": 131
        },
        "outputId": "89a1ce63-8d92-4b3e-824b-2799b31c9a5c"
      },
      "source": [
        "# Input the two numbers to compare\n",
        "first_number = int (input (\"Please input the first whole number :\"))\n",
        "second_number = int (input (\"Please input the second whole number:\"))\n",
        "# Find the largest number\n",
        "if first_number > second_number:\n",
        "print (first_number)\n",
        "else:\n",
        "  print (first_number)"
      ],
      "id": "137a88a9-e2eb-4ace-b1cc-b7fdf260941e",
      "execution_count": null,
      "outputs": [
        {
          "output_type": "error",
          "ename": "IndentationError",
          "evalue": "ignored",
          "traceback": [
            "\u001b[0;36m  File \u001b[0;32m\"<ipython-input-15-a366a86673a3>\"\u001b[0;36m, line \u001b[0;32m6\u001b[0m\n\u001b[0;31m    print (first_number)\u001b[0m\n\u001b[0m        ^\u001b[0m\n\u001b[0;31mIndentationError\u001b[0m\u001b[0;31m:\u001b[0m expected an indented block\n"
          ]
        }
      ]
    },
    {
      "cell_type": "code",
      "metadata": {
        "id": "7eb27a8b-f622-456b-9a87-bd9a3073ec30",
        "colab": {
          "base_uri": "https://localhost:8080/"
        },
        "outputId": "e427b067-2033-4b46-e1ce-674316ca0950"
      },
      "source": [
        "# Input the two numbers to compare\n",
        "first_number = int (input (\"Please input the first whole number :\"))\n",
        "second_number = int (input (\"Please input the second whole number:\"))\n",
        "# Find the largest number\n",
        "if first_number > second_number:\n",
        "  print (first_number)\n",
        "else:\n",
        "  print (first_number)\n",
        "print (\"All done!\")"
      ],
      "id": "7eb27a8b-f622-456b-9a87-bd9a3073ec30",
      "execution_count": null,
      "outputs": [
        {
          "output_type": "stream",
          "text": [
            "Please input the first whole number :1\n",
            "Please input the second whole number:123\n",
            "1\n",
            "All done!\n"
          ],
          "name": "stdout"
        }
      ]
    },
    {
      "cell_type": "code",
      "metadata": {
        "colab": {
          "base_uri": "https://localhost:8080/"
        },
        "id": "czjUg2WKty74",
        "outputId": "dad3c58c-1a15-48b7-cf53-0afdf639e870"
      },
      "source": [
        "# Input the two numbers to compare\n",
        "first_number = int (input (\"Please input the first whole number :\"))\n",
        "second_number = int (input (\"Please input the second whole number:\"))\n",
        "# Find the largest number\n",
        "if first_number > second_number:\n",
        "  print (first_number)\n",
        "else:\n",
        "  print (second_number)\n",
        "print (\"All done!\")"
      ],
      "id": "czjUg2WKty74",
      "execution_count": null,
      "outputs": [
        {
          "output_type": "stream",
          "text": [
            "Please input the first whole number :0\n",
            "Please input the second whole number:12\n",
            "12\n",
            "All done!\n"
          ],
          "name": "stdout"
        }
      ]
    },
    {
      "cell_type": "markdown",
      "metadata": {
        "id": "54c8ec64-39d6-4e96-afb1-d36615f738bb"
      },
      "source": [
        "#### Repeat a group of actions\n",
        "\n",
        "Lets say I want to print out a countdown.  I could do a print statement for each."
      ],
      "id": "54c8ec64-39d6-4e96-afb1-d36615f738bb"
    },
    {
      "cell_type": "code",
      "metadata": {
        "id": "9e953c23-894f-48e8-a2ed-981e5e698af2",
        "colab": {
          "base_uri": "https://localhost:8080/"
        },
        "outputId": "3a47305b-4f66-4377-d4c4-e0ad00a0308c"
      },
      "source": [
        "print(10)\n",
        "print(9)\n",
        "print(8)\n",
        "print(7)\n",
        "print(6)\n",
        "print(5)\n",
        "print(4)\n",
        "print(3)\n",
        "print(2)\n",
        "print(1)\n",
        "print(\"Blast Off!\")"
      ],
      "id": "9e953c23-894f-48e8-a2ed-981e5e698af2",
      "execution_count": null,
      "outputs": [
        {
          "output_type": "stream",
          "text": [
            "10\n",
            "9\n",
            "8\n",
            "7\n",
            "6\n",
            "5\n",
            "4\n",
            "3\n",
            "2\n",
            "1\n",
            "Blast Off!\n"
          ],
          "name": "stdout"
        }
      ]
    },
    {
      "cell_type": "markdown",
      "metadata": {
        "id": "eda408c4-53ac-4250-8982-4b96f62e75d8"
      },
      "source": [
        "Notice that each line is very similar, a print statement, and just printing out a different number.\n",
        "\n",
        "It turns out, repeating something is very common in programming and all languages provide way to do this easier.  In Python we can use the *for* loop. We will use a list of numbers.  Recall in Python a *list* is ordered.   There are other way to do this, but this notebook is to just give us a understanding.  We will explore loops in more detail in later notebooks."
      ],
      "id": "eda408c4-53ac-4250-8982-4b96f62e75d8"
    },
    {
      "cell_type": "code",
      "metadata": {
        "id": "ca532d99-2994-46f4-a3a8-64506790c51a",
        "colab": {
          "base_uri": "https://localhost:8080/"
        },
        "outputId": "6e886971-6bc0-483d-cc99-9e4f43851349"
      },
      "source": [
        "for item in [10,9,8,7,6,5,4,3,2,1]:\n",
        "  print (item)\n",
        "print (\"Blast Off!\")"
      ],
      "id": "ca532d99-2994-46f4-a3a8-64506790c51a",
      "execution_count": null,
      "outputs": [
        {
          "output_type": "stream",
          "text": [
            "10\n",
            "9\n",
            "8\n",
            "7\n",
            "6\n",
            "5\n",
            "4\n",
            "3\n",
            "2\n",
            "1\n",
            "Blast Off!\n"
          ],
          "name": "stdout"
        }
      ]
    },
    {
      "cell_type": "code",
      "metadata": {
        "id": "U0wSR2L8wVBw"
      },
      "source": [
        ""
      ],
      "id": "U0wSR2L8wVBw",
      "execution_count": null,
      "outputs": []
    }
  ]
}