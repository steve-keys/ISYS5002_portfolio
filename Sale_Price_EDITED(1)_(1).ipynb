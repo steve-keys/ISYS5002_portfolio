{
  "nbformat": 4,
  "nbformat_minor": 0,
  "metadata": {
    "colab": {
      "name": "Sale_Price_EDITED(1)_(1).ipynb",
      "provenance": [],
      "include_colab_link": true
    },
    "kernelspec": {
      "name": "python3",
      "display_name": "Python 3"
    },
    "language_info": {
      "name": "python"
    }
  },
  "cells": [
    {
      "cell_type": "markdown",
      "metadata": {
        "id": "view-in-github",
        "colab_type": "text"
      },
      "source": [
        "<a href=\"https://colab.research.google.com/github/steve-keys/ISYS5002_portfolio/blob/main/Sale_Price_EDITED(1)_(1).ipynb\" target=\"_parent\"><img src=\"https://colab.research.google.com/assets/colab-badge.svg\" alt=\"Open In Colab\"/></a>"
      ]
    },
    {
      "cell_type": "markdown",
      "metadata": {
        "id": "STBCEY6spNiE"
      },
      "source": [
        "# Introduciton\n",
        "\n",
        "> This notebook is a combination of a live tutorial and additional commentary added after the totorial.\n",
        "\n",
        "Often in text books all you see is the final design or the final program, hopefully this notebook give you some insight into the design and implementaiton process. \n",
        "\n",
        "The process is not linear, there are thinking parts, performing calculations, protoypting functions, and revisting of pseudocode.  This process usually concludes with collating all the little desgin modules into a final design to implement (see bototme of this notebook).\n",
        "\n",
        "The example used involves relativley trivial calculations and depending on where you are in your programming journey, may not need this level of detail in the design because many of the steps are obvious.  BUT... that is precisely the point of thhis tutorial, to highlight the process, and not be to confused with the operations and calculations needed.\n",
        "\n",
        "Although we are learning Python, the final output of pseudocode should be something that any programmer could implement in any language. So we alway try to get the express the design using the six operations a computer can do:\n",
        "1. Inuput data\n",
        "2. Output data\n",
        "3. Assign values to variables\n",
        "4. Perform arithmetic\n",
        "5. Make decision (if-then)\n",
        "6. Repeat things (loops)\n",
        "\n",
        "The final implementation of the program is provided at bottome of the notebook.  Hopefully this helps you see the realtionship between the design and final program.\n",
        "\n",
        "# The Problem\n",
        "\n",
        "A local department store needs to develop a program which when given an item's original price and percentage it has been discounted, will computer the total price (including goods and services tax) of the item on sale.\n",
        "\n",
        "* What the results I am try to obtain?\n",
        "* What data does needs to be provided?\n",
        "* How will we obtain the output from the given input?\n",
        "\n",
        "Common Pattern: **Input -> Processing -> Output**\n",
        "\n",
        "First, let us higlight the *things* in the problem description.\n",
        "\n",
        "> A local department store needs to develop a program which when given an **item's original price** and percentage it has been **discounted**, will computer the **total price** (including goods and services tax **GST**) of the **item** on sale.\n",
        "\n",
        "So this gives us some possible variables:\n",
        "* Item Name.  - create *item_name*\n",
        "* Discounted Price - crate *sale_price*\n",
        "* GST - create *gst*\n",
        "* Total Price -  create *total_price*\n",
        "\n",
        "### Input\n",
        "* item_name\n",
        "* gst (?)\n",
        "* original_price\n",
        "* discount_rate ( assume in percent, will need to divide by 100)\n",
        "\n",
        "### Output\n",
        "* item_name\n",
        "* sale_price\n",
        "\n",
        "\n",
        "### Calculations (intial thoughts on processing)\n",
        "* Calclate *sale_price*\n",
        "* Calculate *tax*\n",
        "* What is the discount? Amount saved?\n",
        "* Calculate *total_price*\n",
        "\n",
        "### Worked Example\n",
        "Assume I have a book, original price is $50.  I need to discount the book by 20%\n",
        "\n",
        "Amount Saved (Savings)\n",
        "\n",
        "\\$50 X 20%  = $50 X 20/100 \n",
        "\n",
        "Let us perform this calculation.  We could uses a calculator, but we are in a interactive notebook, let use a code-cell to perform the calculation"
      ]
    },
    {
      "cell_type": "code",
      "metadata": {
        "colab": {
          "base_uri": "https://localhost:8080/"
        },
        "id": "KZcpn9l-qK_q",
        "outputId": "d04d730f-84f8-4072-db71-81a3710d431f"
      },
      "source": [
        "50 * 20 / 100"
      ],
      "execution_count": null,
      "outputs": [
        {
          "output_type": "execute_result",
          "data": {
            "text/plain": [
              "10.0"
            ]
          },
          "metadata": {
            "tags": []
          },
          "execution_count": 1
        }
      ]
    },
    {
      "cell_type": "markdown",
      "metadata": {
        "id": "HxBFmexSs575"
      },
      "source": [
        "Okay, that makes sense.  We are assuming that the discount rate is provide as number. so we needed to divided by 100.   This make some sense, as when talking to someone about sale prices we often say things like, \"I save 10%\", we doen say \"I saved 0.1\".\n",
        "\n",
        "Although this may seem trivial, it is important to try to match the real world, especially for inputs.  As a programmer you act as a middle person, sitting between the client and the computer.  \n",
        "\n",
        "> As a general rule, easily adapt our algorithm, than expect a user to change their behaviour\n",
        "\n",
        "So we know the discount, what is the sale price?\n",
        "\n",
        "Sale price = \\$50 - \\$10 = \\$40\n",
        "\n",
        "Although trivial, let us try that in a code-cell"
      ]
    },
    {
      "cell_type": "code",
      "metadata": {
        "colab": {
          "base_uri": "https://localhost:8080/"
        },
        "id": "ESlQBlqUIAxt",
        "outputId": "28245e85-bf44-4e2f-e42b-927025456bcb"
      },
      "source": [
        "50-10"
      ],
      "execution_count": null,
      "outputs": [
        {
          "output_type": "execute_result",
          "data": {
            "text/plain": [
              "40"
            ]
          },
          "metadata": {
            "tags": []
          },
          "execution_count": 1
        }
      ]
    },
    {
      "cell_type": "markdown",
      "metadata": {
        "id": "UX0pqH29ICTI"
      },
      "source": [
        "\n",
        "Know that we have an idea on how to calculate the values, can we genralise the process?  That is the original price wont always be \\$50\n",
        "\n",
        "> I wanted to highlight the process of peforming a specific caclualtion to gain some understanding, and then using this understanding to create a generalisation.  This process is know as **abstraction**\n",
        "\n",
        "Suggested formula is:\n",
        "\n",
        "> sale_price =  original_price - amount_saved\n",
        "\n",
        "where\n",
        "\n",
        "> amount_saved = original_price * ( discount_rate / 100)\n",
        "\n",
        "Let us prototype the calculations in a code cell"
      ]
    },
    {
      "cell_type": "code",
      "metadata": {
        "colab": {
          "base_uri": "https://localhost:8080/"
        },
        "id": "Y9uIL4fctVmT",
        "outputId": "fdc04b55-0ac0-4787-d8c4-215a315347d1"
      },
      "source": [
        "# Setup the initial values\n",
        "original_price = 50\n",
        "discount_rate = 20\n",
        "\n",
        "# perform some calculations\n",
        "amount_saved = original_price * (discount_rate / 100)\n",
        "sale_price = original_price - amount_saved\n",
        "\n",
        "# verify the results\n",
        "print(\"Amount Saved: \", amount_saved)\n",
        "print(\"Sale Price: \", sale_price)"
      ],
      "execution_count": null,
      "outputs": [
        {
          "output_type": "stream",
          "text": [
            "Amount Saved:  10.0\n",
            "Sale Price:  40.0\n"
          ],
          "name": "stdout"
        }
      ]
    },
    {
      "cell_type": "markdown",
      "metadata": {
        "id": "0KzZbmkzuS-m"
      },
      "source": [
        "What about the tax?\n",
        "\n",
        "Tax is calculated on the sale price\n",
        "\n",
        "tax = sale_price * gst\n",
        "\n",
        "let gst = 10%\n",
        "\n",
        "total_price = sale_price + tax\n",
        "\n",
        "Let us kepe with the pattern, and test these in a code cell"
      ]
    },
    {
      "cell_type": "code",
      "metadata": {
        "colab": {
          "base_uri": "https://localhost:8080/"
        },
        "id": "eF0KW9VPuC6l",
        "outputId": "3238b8ff-255a-4b28-83db-083a5ec9d37f"
      },
      "source": [
        "gst = 10\n",
        "tax = sale_price * gst/100\n",
        "total_price = sale_price + tax\n",
        "print(\"Total Price: \", total_price ) "
      ],
      "execution_count": null,
      "outputs": [
        {
          "output_type": "stream",
          "text": [
            "Total Price:  44.0\n"
          ],
          "name": "stdout"
        }
      ]
    },
    {
      "cell_type": "markdown",
      "metadata": {
        "id": "dlkz5bulvWiU"
      },
      "source": [
        "Okay, we have a pretty good understanding of the problem, time to start developing the algorithm.\n",
        "\n",
        "Here is our initial simple recipe, notice it is very high level, just a series of steps.  We will take each step and implement it as a module.  Each module will eventually be implemented as a function.\n",
        "\n",
        "## Processing/Algorithm\n",
        "\n",
        "1. Input data\n",
        "2. Perform the Calculations\n",
        "3. Output the results\n",
        "\n",
        "We sometime call this starting level the *mainline*, or *main* module.\n",
        "\n",
        "    Main Moudle\n",
        "      Input Data\n",
        "      Perform Calculations\n",
        "      Output Results\n",
        "\n",
        "### Why use Modules? \n",
        "* easier to read\n",
        "* think about each step\n",
        "* may be able to reuse \"module\"\n",
        "* may be build library of common tasks\n",
        "* manage complexity (in more advanced problems)\n",
        "\n",
        "\n",
        "### Input Data Module (Step 1)\n",
        "\n",
        "    Input Data Module (Step 1) v0.1\n",
        "      Input Item Name\n",
        "      Input Original Price\n",
        "      Input Discount Rate\n",
        "\n",
        "Let us try some python code?  We have already used the input function, let prototype the input."
      ]
    },
    {
      "cell_type": "code",
      "metadata": {
        "id": "5I11bEGJu16w"
      },
      "source": [
        "def inputData():\n",
        "  item_name = input(\"Please enter the item name: \")\n",
        "  original_price = int(input(\"Pease enter the original price: \"))\n",
        "  discount_rate = int(input(\"Please enter the discount rate: \"))\n",
        "  return item_name, original_price, discount_rate"
      ],
      "execution_count": null,
      "outputs": []
    },
    {
      "cell_type": "markdown",
      "metadata": {
        "id": "iwHng9CgxOlJ"
      },
      "source": [
        "What is really happening here?  Well the input function is displaying a message, waiting for input and then storing the result in a variable.\n",
        "\n",
        "In our pseudo code above, we didn't ask for a prompt message. If that is want we actually want then we would leave the pseudocade as is. I think in this case, we actualy want a message to be displayed.  \n",
        "\n",
        "Also not that our function returned a values, so we need to add this to the pseudocode.\n",
        "\n",
        "> Note: If a module calculates a value then often the module will return those values.\n",
        "\n",
        "Let us modify the pseudocode as follows:\n",
        "\n",
        "    Input Data Module (Step 1). v0.2\n",
        "      Write \"Please input the item name\"\n",
        "      Input Item Name\n",
        "      Write \"Please enter the original price\"\n",
        "      Input Original Price\n",
        "      Write \"Please enter the discount rate\"\n",
        "      Input Discount Rate\n",
        "      return Item Name and Discount Rate\n",
        "\n",
        "\n",
        "> There is no formal language called pseudocode, so here is another alternative that is acceptable.  It is important to be consistent in whatever phrases you use.  In pseudocode, the underscores are optional, but I use them to indicate a potential variable name in the final code.  Again, being consistent is more important than providing hints at variable names.\n",
        "\n",
        "    Input Data Module (Step 1) v0.3\n",
        "      display to the screen  \"Please intput the item name\"\n",
        "      store the input into a variable called  item_name\n",
        "      display to the screen \"Please enter the original price\"\n",
        "      store the input into a variable called original_price\n",
        "      display to the screen \"Please enter the discount rate\"\n",
        "      store the input into a variable called discount_rate\n",
        "      return item_name and discount_rate\n",
        "\n",
        "Which verison is better?  Neither, the important part is to be consistent with your phrases and that is will meet the clients needs.\n",
        "\n",
        "Now here is where we start to think about how we want the output to be displayed.  Do I just want the final price?  Do I want all the details, item name, original price, discount etc.?\n",
        "\n",
        "In the real world you would discuss these details with your client, or they might be specified in the specification.  In this case I decided to provide more detail because it will allow the user, with the information displatyed to verify the computers step.\n",
        "\n",
        "    Output Results Module (Step 3)\n",
        "      Write \"The item is:\"  +. item_name\n",
        "      Write \"Pre sale price was: \" + original_price\n",
        "      etc....\n",
        "\n",
        "> *Due to time constraints of conducting a live tutorial, the above is an abbreviated version of the pseudocode.  Below is the preferred version which I added after the tutorial*\n",
        "\n",
        "    Output Results Module (Step 3) **EDITED**\n",
        "      Write \"The item is:\"  item_name\n",
        "      Write \"Pre sale price was: \" original_price\n",
        "      Write \"Discount Rate: \" discount_rate\n",
        "      Write \"Amount Saved: \" amount_saved\n",
        "      Write \"Sale Price: \" sale_price\n",
        "      Write \"Goods and Services Tax: \" tax\n",
        "      Write \"Final Price: \" total_price\n",
        "\n",
        "*Let us prototype the output results module*\n"
      ]
    },
    {
      "cell_type": "code",
      "metadata": {
        "id": "bzVDJkemyq8i"
      },
      "source": [
        "def outputResults(item_name, original_price, total_price):\n",
        "  '''This function will output the results of the discount in a nice format'''\n",
        "  print(\"The item is:\" , item_name)\n",
        "  print(\"Pre-sale item is:\" , original_price)\n",
        "  # print(\"Tax\", tax)\n",
        "  print(\"Total Price is:\" , total_price)\n",
        "  # Need to add more here in final version!"
      ],
      "execution_count": null,
      "outputs": []
    },
    {
      "cell_type": "code",
      "metadata": {
        "colab": {
          "base_uri": "https://localhost:8080/"
        },
        "id": "U3e4BuCwy-M0",
        "outputId": "0a021c83-c4a8-4981-c086-2e94b4a25cef"
      },
      "source": [
        "outputResults(\"Python Programming Book\", 50, 44)"
      ],
      "execution_count": null,
      "outputs": [
        {
          "output_type": "stream",
          "text": [
            "The item is: Python Programming Book\n",
            "Pre-sale item is: 50\n",
            "Total Price is: 44\n"
          ],
          "name": "stdout"
        }
      ]
    },
    {
      "cell_type": "markdown",
      "metadata": {
        "id": "wtYTGJzizfpD"
      },
      "source": [
        "Notice as we prototyped the function, we discovered that the function need some information.  We provide infromation to a funciton by including the variables between the brackets of the function.  When we define the funciton these are known as parameters, when use/call/invoke the function these are know as  arguments.\n",
        "\n",
        "> Note: If a module doesn't calculate a value but uses information to either perform an operaiton or cacluation then it will need to be provided to the moudle as parameter.\n",
        "\n",
        "Sometimes when we develop pseudocode it become obvious that the module will need input, other times we discover this when we prototype the function.  Regardless we should modify the pseudocode.\n",
        "\n",
        "    Output Results Module (Step 3) v0.3\n",
        "    Module Output Results(item_name, original_price,\n",
        "     discount_rate, amount_saved, sale_price,\n",
        "     tax, total_price)\n",
        "       Write \"The item is:\"  item_name\n",
        "       Write \"Pre sale price was: \" original_price\n",
        "       Write \"Discount Rate: \" discount_rate\n",
        "       Write \"Amount Saved: \" amount_saved\n",
        "       Write \"Sale Price: \" sale_price\n",
        "       Write \"Goods and Services Tax: \" tax\n",
        "       Write \"Final Price: \" total_price\n",
        "\n",
        "There are many way to express the input to a module in pseudocode, in this instance I have choosen to put them in brackets.  Again, it is important to be consistent.\n",
        "\n",
        "> Notice that I haven't followed the steps in the order of the main moudule.  This is common when you design (or write) a program.  I generally design (implement) the modules (functions) I understand first.\n",
        "\n",
        "## Perform the Calculations (Step 2)\n",
        "\n",
        "Using our knowledge for the worked exmaple above, this module will use the generalise functions.\n",
        "\n",
        "    Calculate Total Price Module\n",
        "      amount_saved = original_price * ( discount_rate / 100)\n",
        "      sale_price = original_price - amount_saved\n",
        "      let gst = 10%\n",
        "      tax = sale_price * gst\n",
        "      total_price = sale_price + tax\n",
        "\n",
        "Let us prototype in code cell"
      ]
    },
    {
      "cell_type": "code",
      "metadata": {
        "id": "e1StufelzB8v"
      },
      "source": [
        "def calculateTotalPrice(original_price, discount_rate):\n",
        "  amount_saved = original_price * ( discount_rate / 100)\n",
        "  sale_price = original_price - amount_saved\n",
        "  gst = 10\n",
        "  tax = sale_price * gst/100\n",
        "  total_price = sale_price + tax\n",
        "  return total_price\n"
      ],
      "execution_count": null,
      "outputs": []
    },
    {
      "cell_type": "code",
      "metadata": {
        "colab": {
          "base_uri": "https://localhost:8080/"
        },
        "id": "xzG1_Qex0qMp",
        "outputId": "b93e988d-a8a5-4d7f-906f-de2945e19e66"
      },
      "source": [
        "calculateTotalPrice(50, 20)"
      ],
      "execution_count": null,
      "outputs": [
        {
          "output_type": "execute_result",
          "data": {
            "text/plain": [
              "44.0"
            ]
          },
          "metadata": {
            "tags": []
          },
          "execution_count": 21
        }
      ]
    },
    {
      "cell_type": "markdown",
      "metadata": {
        "id": "CP9I_-gvNpzW"
      },
      "source": [
        "Recall:\n",
        "> Note: If a module doesn't calculate a value but uses information to either perform an operaiton or cacluation then it will need to be provided to the moudle as parameter.\n",
        "\n",
        "> Note: If a module calculates a value then often the module will return those values.\n",
        "\n",
        "\n",
        "Let update the pseudocode to capture the information needed for the calculate module and to return calcualted value.\n",
        "\n",
        "    Calculate Total Price Module (original_price, discount_rate)\n",
        "        amount_saved = original_price * ( discount_rate / 100)\n",
        "        sale_price = original_price - amount_saved\n",
        "        let gst = 10%\n",
        "        tax = sale_price * gst\n",
        "        total_price = sale_price + tax\n",
        "        return sale_price, amount_saved, tax_ total_price\n",
        "\n",
        "\n",
        "So we finally have all the pieces, we can now prototype the program.  Recall our main module is:\n",
        "\n",
        "    Main Moudle\n",
        "      Input Data\n",
        "      Perform Calculations\n",
        "      Output Results\n"
      ]
    },
    {
      "cell_type": "code",
      "metadata": {
        "colab": {
          "base_uri": "https://localhost:8080/"
        },
        "id": "gdHFnc4p0s88",
        "outputId": "b029cf2e-9a53-4a49-f50f-9ba5d7e6a694"
      },
      "source": [
        "# Main Program\n",
        "\n",
        "# Step 1: Input data\n",
        "name, price, discount = inputData()\n",
        "\n",
        "# Step 2: Perform the Calculations\n",
        "total = calculateTotalPrice(price, discount)\n",
        "\n",
        "# Step 3: Output the results\n",
        "outputResults(name, price, total)\n"
      ],
      "execution_count": null,
      "outputs": [
        {
          "output_type": "stream",
          "text": [
            "Please enter the item name: The Python Book\n",
            "Pease enter the original price: 50\n",
            "Please enter the discount rate: 40\n",
            "The item is: The Python Book\n",
            "Pre-sale item is: 50\n",
            "Total Price is: 33.0\n"
          ],
          "name": "stdout"
        }
      ]
    },
    {
      "cell_type": "markdown",
      "metadata": {
        "id": "S9b4kDAsOk16"
      },
      "source": [
        "So lets put it all together. With greater understanding of the problem from the worked exmaple and the prototypes here is the final design.\n",
        "\n",
        "# Final Design\n",
        "\n",
        "    Main Moudle\n",
        "      Input Data and store item_name, original_price and discoutn_rate\n",
        "      Using original_price and discout_rate Perform Calculations and store in sale_price and total_price\n",
        "      Using item_name, original_price, discount_rate, sale_rpice, tax, and total_price Output Results\n",
        "\n",
        "    Input Data Module\n",
        "      Write \"Please input the item name\"\n",
        "      Input item_name\n",
        "      Write \"Please enter the original price\"\n",
        "      Input original_price\n",
        "      Write \"Please enter the discount rate\"\n",
        "      Input discount_rate\n",
        "      return item_name, original_price, discount_rate\n",
        "\n",
        "\n",
        "    Calculate Total Price Module (original_price, discount_rate)\n",
        "        amount_saved = original_price * ( discount_rate / 100)\n",
        "        sale_price = original_price - amount_saved\n",
        "        let gst = 10%\n",
        "        tax = sale_price * gst\n",
        "        total_price = sale_price + tax\n",
        "        return sale_price, amount_saved, tax_ total_price\n",
        "\n",
        "\n",
        "     Output Results Module(item_name, original_price,\n",
        "       discount_rate, amount_saved, sale_price,\n",
        "       tax, total_price)\n",
        "         Write \"The item is:\"  item_name\n",
        "         Write \"Pre sale price was: \" original_price\n",
        "         Write \"Discount Rate: \" discount_rate\n",
        "         Write \"Amount Saved: \" amount_saved\n",
        "         Write \"Sale Price: \" sale_price\n",
        "         Write \"Goods and Services Tax: \" tax\n",
        "         Write \"Final Price: \" total_price\n",
        "\n",
        "\n",
        "Here is the final program\n",
        "\n",
        "# Final Program"
      ]
    },
    {
      "cell_type": "code",
      "metadata": {
        "colab": {
          "base_uri": "https://localhost:8080/"
        },
        "id": "hlMyR9ye1tGu",
        "outputId": "693b14d2-689e-43e3-c6de-46475784052c"
      },
      "source": [
        "# This program which when given an item's original price and percentage \n",
        "# it has been discounted, will compute the total price including goods \n",
        "# and services tax of the item on sale.\n",
        "\n",
        "\n",
        "def input_data():\n",
        "  ''' This function will prompt the uers for an item name, price and discount rate. \n",
        "  The values will returned'''\n",
        "    \n",
        "  item_name = input(\"Please enter the item name: \")\n",
        "  original_price = int(input(\"Pease enter the original price: \"))\n",
        "  discount_rate = int(input(\"Please enter the discount rate: \"))\n",
        "  \n",
        "  return item_name, original_price, discount_rate\n",
        "\n",
        "\n",
        "def calculate_total_price(original_price, discount_rate):\n",
        "  '''This funciton will calulate the amount saved and sale price given\n",
        "  the original price and discount rate.  A GST of 10% is applied''' \n",
        "  \n",
        "  # The goods and services tax is a constant\n",
        "  GST = 10 \n",
        "  \n",
        "  amount_saved = original_price * ( discount_rate / 100)\n",
        "  sale_price = original_price - amount_saved\n",
        "  tax = sale_price * GST/100\n",
        "  total_price = sale_price + tax\n",
        "  \n",
        "  return total_price, amount_saved, sale_price, tax\n",
        "\n",
        "\n",
        "\n",
        "def output_results(item_name, original_price, discount_rate, amount_saved,\n",
        "                  sale_price, tax, total_price):\n",
        "  '''This function will output the results of the discount in a nice format'''\n",
        "\n",
        "  print('-'*30)\n",
        "  print(\"Item Name:\" , item_name)\n",
        "  print(\"Pre-sale price: \" , original_price)\n",
        "  print(\"Discount Rate: \", discount_rate)\n",
        "  print(\"Amount Saved: \", amount_saved)\n",
        "  print(\"Sale Price: \", sale_price)\n",
        "  print(\"Good and Services Tax: \", tax)\n",
        "  print(\"Final Price is:\" , total_price)\n",
        "  print('-'*30)\n",
        "\n",
        "\n",
        "# Main Program\n",
        "\n",
        "# Step 1: Input data\n",
        "name, price, discount = input_data()\n",
        "\n",
        "# Step 2: Perform the Calculations\n",
        "total, saved, sale, tax = calculate_total_price(price, discount)\n",
        "\n",
        "# Step 3: Output the results\n",
        "output_results(name, price, discount, saved, sale, tax, total)"
      ],
      "execution_count": null,
      "outputs": [
        {
          "output_type": "stream",
          "text": [
            "Please enter the item name: Python book\n",
            "Pease enter the original price: 50\n",
            "Please enter the discount rate: 20\n",
            "------------------------------\n",
            "Item Name: Python book\n",
            "Pre-sale price:  50\n",
            "Discount Rate:  20\n",
            "Amount Saved:  10.0\n",
            "Sale Price:  40.0\n",
            "Good and Services Tax:  4.0\n",
            "Final Price is: 44.0\n",
            "------------------------------\n"
          ],
          "name": "stdout"
        }
      ]
    },
    {
      "cell_type": "markdown",
      "metadata": {
        "id": "XzBe1eepYJUj"
      },
      "source": [
        "# Discussion\n",
        "\n",
        "Note \n",
        "1. In the final program I added comment at the top of the program explain the purpose.\n",
        "2. The funciton names are different from the prototype. I have follow **PEP-8 Style guidelines**\n",
        "3. I added a docstring to each funciton.  A doc string is a special comment that can be used by the help() function.  **It must be on the line immediately after the first line of the function**\n",
        "4. I addedd a dotted line to the output.  to do this I printed the expression `\"-\"*20`.  Python see this as take the character in the quotes and repeat this 20 times.  Repeat is *similar* to multiply so we use the `*` symbol.  In programming term we say `The symbol '*' is overloaded`\n",
        "\n",
        "Let us now have a look at the docstring for calculate"
      ]
    },
    {
      "cell_type": "code",
      "metadata": {
        "colab": {
          "base_uri": "https://localhost:8080/"
        },
        "id": "JHVH55TS_lMZ",
        "outputId": "b2b7b782-b699-4e5b-9dbf-6080d4a788eb"
      },
      "source": [
        "help(calculate_total_price)"
      ],
      "execution_count": null,
      "outputs": [
        {
          "output_type": "stream",
          "text": [
            "Help on function calculate_total_price in module __main__:\n",
            "\n",
            "calculate_total_price(original_price, discount_rate)\n",
            "    This funciton will calulate the amount saved and sale price given\n",
            "    the original price and discount rate.  A GST of 10% is applied\n",
            "\n"
          ],
          "name": "stdout"
        }
      ]
    },
    {
      "cell_type": "code",
      "metadata": {
        "id": "ZGVNiv8ZZsz1"
      },
      "source": [
        ""
      ],
      "execution_count": null,
      "outputs": []
    }
  ]
}